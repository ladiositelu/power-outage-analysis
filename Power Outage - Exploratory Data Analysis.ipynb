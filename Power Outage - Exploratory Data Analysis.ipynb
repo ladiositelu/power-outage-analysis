{
 "cells": [
  {
   "cell_type": "markdown",
   "metadata": {},
   "source": [
    "# Power Outage Data Analysis\n",
    "\n",
    "The goal of this ipython notebook is to determine what trends exist in the historical records of large power outages in the United States. The dataset is obtained from the Office of Electricity Delivery and Energy Reliability, part of the Department of Energy. \n",
    "\n",
    "The dataset is very messy and I will spend a bulk of the time cleaning the dataset and getting it ready for analysis. This would involve doing the following:\n",
    "1. Cleaning the date and time columns. The format of these columns are not uniform, hence it requires a bit of work to clean\n",
    "2. Cleaning the number of customers affected and the amount of power lost columns: These two columns contain a mixture of strings and numbers. Care must be taken to not lose any information.\n",
    "3. Perform some exploratory data analysis \n",
    "\n",
    "\n",
    "\n"
   ]
  },
  {
   "cell_type": "code",
   "execution_count": 1,
   "metadata": {
    "collapsed": false
   },
   "outputs": [],
   "source": [
    "#import a number of useful modules\n",
    "import pandas as pd\n",
    "import numpy as np\n",
    "\n",
    "import ssl\n",
    "import datetime\n",
    "import re\n",
    "\n",
    "import statsmodels.api as sm\n",
    "from sklearn import linear_model\n",
    "from sklearn import tree\n",
    "from sklearn.cross_validation import *\n",
    "from sklearn import metrics\n",
    "#from sklearn import svm\n",
    "from sklearn import ensemble\n",
    "\n",
    "import matplotlib as mpl\n",
    "import matplotlib.pyplot as plt\n",
    "import matplotlib.animation as animation\n",
    "import seaborn \n",
    "%matplotlib inline\n",
    "plt.style.use('fivethirtyeight')\n",
    "mpl.rcParams['figure.figsize'] = (12.0, 6.0)\n",
    "\n",
    "ssl._create_default_https_context = ssl._create_unverified_context #This is used to disable HTTPS certificate validation"
   ]
  },
  {
   "cell_type": "markdown",
   "metadata": {},
   "source": [
    "## Blackout Data\n",
    "By regulation, electric power utilities must report outages that disrupt more than 300MW or 50,000 customers.\n",
    "I will be analyzing data from the years 2000 till 2014."
   ]
  },
  {
   "cell_type": "code",
   "execution_count": 2,
   "metadata": {
    "collapsed": false
   },
   "outputs": [
    {
     "name": "stdout",
     "output_type": "stream",
     "text": [
      "WARNING *** file size (91844) not 512 + multiple of sector size (512)\n",
      "WARNING *** file size (81604) not 512 + multiple of sector size (512)\n",
      "WARNING *** file size (83140) not 512 + multiple of sector size (512)\n",
      "WARNING *** file size (96964) not 512 + multiple of sector size (512)\n",
      "WARNING *** file size (50884) not 512 + multiple of sector size (512)\n",
      "WARNING *** file size (52420) not 512 + multiple of sector size (512)\n",
      "WARNING *** file size (59587) not 512 + multiple of sector size (512)\n",
      "WARNING *** file size (38595) not 512 + multiple of sector size (512)\n",
      "WARNING *** file size (42179) not 512 + multiple of sector size (512)\n",
      "WARNING *** file size (44227) not 512 + multiple of sector size (512)\n",
      "WARNING *** file size (44227) not 512 + multiple of sector size (512)\n",
      "WARNING *** file size (40131) not 512 + multiple of sector size (512)\n",
      "WARNING *** file size (24259) not 512 + multiple of sector size (512)\n"
     ]
    }
   ],
   "source": [
    "data_14= pd.read_excel('https://www.oe.netl.doe.gov/download.aspx?type=OE417XLS&ID=62',skiprows=[0]) #row 0 useless info\n",
    "data_13= pd.read_excel('https://www.oe.netl.doe.gov/download.aspx?type=OE417XLS&ID=41',skiprows=[0])\n",
    "data_12= pd.read_excel('https://www.oe.netl.doe.gov/download.aspx?type=OE417XLS&ID=31', skiprows=[0])\n",
    "data_11 = pd.read_excel('https://www.oe.netl.doe.gov/download.aspx?type=OE417XLS&ID=22', skiprows=[0])\n",
    "data_10 = pd.read_excel('https://www.oe.netl.doe.gov/download.aspx?type=OE417XLS&ID=11',skiprows=[0])\n",
    "data_09 = pd.read_excel('https://www.oe.netl.doe.gov/download.aspx?type=OE417XLS&ID=10',skiprows=[0])\n",
    "data_08 = pd.read_excel('https://www.oe.netl.doe.gov/download.aspx?type=OE417XLS&ID=9',skiprows=[0,1])\n",
    "data_07 = pd.read_excel('https://www.oe.netl.doe.gov/download.aspx?type=OE417XLS&ID=8',skiprows=[0])\n",
    "data_06 = pd.read_excel('https://www.oe.netl.doe.gov/download.aspx?type=OE417XLS&ID=7',skiprows=[0])\n",
    "data_05 = pd.read_excel('https://www.oe.netl.doe.gov/download.aspx?type=OE417XLS&ID=6',skiprows=[0])\n",
    "data_04= pd.read_excel('https://www.oe.netl.doe.gov/download.aspx?type=OE417XLS&ID=5',skiprows=[0])\n",
    "data_03 = pd.read_excel('https://www.oe.netl.doe.gov/download.aspx?type=OE417XLS&ID=4',skiprows=[0])\n",
    "data_02 = pd.read_excel('https://www.oe.netl.doe.gov/download.aspx?type=OE417XLS&ID=3',skiprows=[0,1])\n",
    "data_00 = pd.read_csv('/Users/oladipoositelu/Desktop/2000_2001blackouts.csv')"
   ]
  },
  {
   "cell_type": "markdown",
   "metadata": {},
   "source": [
    "## Quick note about the datasets\n",
    "I took a quick glance through the data files and it appears that data from 2002 to 2010 have similarly named columns. Data from 2011 to 2014 have similarly named columns as well. Therefore, I will merge data from 2002 to 2010 (call this merge data_1). I will also merge data from 2011 to 2014 (call this merge data_2). \n",
    "\n",
    "I will do the following:\n",
    "1. Change names of columns to make things easier to read and work with\n",
    "2. clean the datasets up\n",
    "3. Merge the datasets\n"
   ]
  },
  {
   "cell_type": "code",
   "execution_count": 3,
   "metadata": {
    "collapsed": true
   },
   "outputs": [],
   "source": [
    "data_00.rename(columns={'loss':'demand_loss','time':'event_time','time.1':'restoration_time','area':'Area Affected'}, inplace=True)"
   ]
  },
  {
   "cell_type": "code",
   "execution_count": 4,
   "metadata": {
    "collapsed": true
   },
   "outputs": [],
   "source": [
    "data_02.rename(columns={'Area':'Area Affected','Restoration Time':'Restoration',\n",
    "                       'Number of Customers Affected':'Number of Customers Affected 1'},inplace=True)\n",
    "data_07.rename(columns={'Number of Customers Affected 1[1]':'Number of Customers Affected 1'},inplace=True)\n"
   ]
  },
  {
   "cell_type": "markdown",
   "metadata": {},
   "source": [
    "### Merge the datasets. \n"
   ]
  },
  {
   "cell_type": "code",
   "execution_count": 5,
   "metadata": {
    "collapsed": true
   },
   "outputs": [],
   "source": [
    "data_1=pd.concat([data_02,data_03,data_04,data_05,data_06,data_07,data_08,data_09,data_10],ignore_index=True)\n",
    "data_2=pd.concat([data_11,data_12,data_13,data_14],ignore_index=True)\n"
   ]
  },
  {
   "cell_type": "markdown",
   "metadata": {},
   "source": [
    "Let's observe the shape (rows,columns) of the two datasets."
   ]
  },
  {
   "cell_type": "code",
   "execution_count": 6,
   "metadata": {
    "collapsed": false
   },
   "outputs": [
    {
     "name": "stdout",
     "output_type": "stream",
     "text": [
      "The shape of data_1: (1081, 8)\n",
      "The shape of data_2: (959, 10)\n",
      "The shape of data_00: (45, 10)\n"
     ]
    }
   ],
   "source": [
    "print \"The shape of data_1:\",data_1.shape\n",
    "print \"The shape of data_2:\",data_2.shape\n",
    "print \"The shape of data_00:\", data_00.shape"
   ]
  },
  {
   "cell_type": "markdown",
   "metadata": {},
   "source": [
    "#### Rename some columns in data_1"
   ]
  },
  {
   "cell_type": "code",
   "execution_count": 7,
   "metadata": {
    "collapsed": false
   },
   "outputs": [],
   "source": [
    "data_1.rename(columns={'Date': 'event_date', 'Time': 'event_time','Number of Customers Affected 1':'customers',\n",
    "                      'Type of Disturbance':'type','Loss (megawatts)':'demand_loss','Restoration':'restoration_date'}, inplace=True)\n",
    "\n"
   ]
  },
  {
   "cell_type": "markdown",
   "metadata": {},
   "source": [
    "#### Rename some columns in data_2"
   ]
  },
  {
   "cell_type": "code",
   "execution_count": 8,
   "metadata": {
    "collapsed": false
   },
   "outputs": [],
   "source": [
    "data_2.rename(columns= {'Date Event Began': 'event_date','Time Event Began':'event_time', \n",
    "                        'Respondent': 'utility', 'Number of Customers Affected': 'customers',\n",
    "                        'Date of Restoration': 'restoration_date','Demand Loss (MW)': 'demand_loss',\n",
    "                        'Event Type': 'type', 'NERC Region': 'powerpool','Time of Restoration':'restoration_time'}, inplace= True)\n"
   ]
  },
  {
   "cell_type": "markdown",
   "metadata": {},
   "source": [
    "## Observe the first 3 rows of each of the data sets"
   ]
  },
  {
   "cell_type": "code",
   "execution_count": 9,
   "metadata": {
    "collapsed": false
   },
   "outputs": [
    {
     "data": {
      "text/html": [
       "<div>\n",
       "<table border=\"1\" class=\"dataframe\">\n",
       "  <thead>\n",
       "    <tr style=\"text-align: right;\">\n",
       "      <th></th>\n",
       "      <th>event_date</th>\n",
       "      <th>Utility/Power Pool (NERC Region)</th>\n",
       "      <th>event_time</th>\n",
       "      <th>Area Affected</th>\n",
       "      <th>type</th>\n",
       "      <th>demand_loss</th>\n",
       "      <th>customers</th>\n",
       "      <th>restoration_date</th>\n",
       "    </tr>\n",
       "  </thead>\n",
       "  <tbody>\n",
       "    <tr>\n",
       "      <th>0</th>\n",
       "      <td>January</td>\n",
       "      <td>NaN</td>\n",
       "      <td>NaN</td>\n",
       "      <td>NaN</td>\n",
       "      <td>NaN</td>\n",
       "      <td>NaN</td>\n",
       "      <td>NaN</td>\n",
       "      <td>NaN</td>\n",
       "    </tr>\n",
       "    <tr>\n",
       "      <th>1</th>\n",
       "      <td>2002-01-30 00:00:00</td>\n",
       "      <td>Oklahoma Gas &amp; Electric</td>\n",
       "      <td>06:00:00</td>\n",
       "      <td>Oklahoma</td>\n",
       "      <td>Ice Storm</td>\n",
       "      <td>500</td>\n",
       "      <td>1881134</td>\n",
       "      <td>2002-02-07 12:00:00</td>\n",
       "    </tr>\n",
       "    <tr>\n",
       "      <th>2</th>\n",
       "      <td>NaN</td>\n",
       "      <td>(SPP)</td>\n",
       "      <td>NaN</td>\n",
       "      <td>NaN</td>\n",
       "      <td>NaN</td>\n",
       "      <td>NaN</td>\n",
       "      <td>NaN</td>\n",
       "      <td>NaN</td>\n",
       "    </tr>\n",
       "  </tbody>\n",
       "</table>\n",
       "</div>"
      ],
      "text/plain": [
       "            event_date Utility/Power Pool (NERC Region) event_time  \\\n",
       "0              January                              NaN        NaN   \n",
       "1  2002-01-30 00:00:00         Oklahoma Gas & Electric    06:00:00   \n",
       "2                  NaN                            (SPP)        NaN   \n",
       "\n",
       "  Area Affected       type demand_loss customers     restoration_date  \n",
       "0           NaN        NaN         NaN       NaN                  NaN  \n",
       "1      Oklahoma  Ice Storm         500   1881134  2002-02-07 12:00:00  \n",
       "2           NaN        NaN         NaN       NaN                  NaN  "
      ]
     },
     "execution_count": 9,
     "metadata": {},
     "output_type": "execute_result"
    }
   ],
   "source": [
    "data_1.head(3) #see what the first 3 rows look like"
   ]
  },
  {
   "cell_type": "code",
   "execution_count": 10,
   "metadata": {
    "collapsed": false
   },
   "outputs": [
    {
     "data": {
      "text/html": [
       "<div>\n",
       "<table border=\"1\" class=\"dataframe\">\n",
       "  <thead>\n",
       "    <tr style=\"text-align: right;\">\n",
       "      <th></th>\n",
       "      <th>event_date</th>\n",
       "      <th>event_time</th>\n",
       "      <th>restoration_date</th>\n",
       "      <th>restoration_time</th>\n",
       "      <th>utility</th>\n",
       "      <th>Area Affected</th>\n",
       "      <th>powerpool</th>\n",
       "      <th>type</th>\n",
       "      <th>demand_loss</th>\n",
       "      <th>customers</th>\n",
       "    </tr>\n",
       "  </thead>\n",
       "  <tbody>\n",
       "    <tr>\n",
       "      <th>0</th>\n",
       "      <td>January</td>\n",
       "      <td>NaN</td>\n",
       "      <td>NaT</td>\n",
       "      <td>NaN</td>\n",
       "      <td>NaN</td>\n",
       "      <td>NaN</td>\n",
       "      <td>NaN</td>\n",
       "      <td>NaN</td>\n",
       "      <td>NaN</td>\n",
       "      <td>NaN</td>\n",
       "    </tr>\n",
       "    <tr>\n",
       "      <th>1</th>\n",
       "      <td>2011-01-11 00:00:00</td>\n",
       "      <td>23:08:00</td>\n",
       "      <td>2011-01-11 00:00:00</td>\n",
       "      <td>23:08:00</td>\n",
       "      <td>New Athens Generating Co. LLC</td>\n",
       "      <td>Athens, New York</td>\n",
       "      <td>NPCC</td>\n",
       "      <td>Electrical Fault at Generator</td>\n",
       "      <td>0</td>\n",
       "      <td>0</td>\n",
       "    </tr>\n",
       "    <tr>\n",
       "      <th>2</th>\n",
       "      <td>2011-01-12 00:00:00</td>\n",
       "      <td>06:00:00</td>\n",
       "      <td>2011-01-12 00:00:00</td>\n",
       "      <td>14:00:00</td>\n",
       "      <td>National Grid</td>\n",
       "      <td>Massachusetts</td>\n",
       "      <td>NPCC</td>\n",
       "      <td>Winter Storm</td>\n",
       "      <td>NaN</td>\n",
       "      <td>80000</td>\n",
       "    </tr>\n",
       "  </tbody>\n",
       "</table>\n",
       "</div>"
      ],
      "text/plain": [
       "            event_date event_time     restoration_date restoration_time  \\\n",
       "0            January          NaN                  NaT              NaN   \n",
       "1  2011-01-11 00:00:00   23:08:00  2011-01-11 00:00:00         23:08:00   \n",
       "2  2011-01-12 00:00:00   06:00:00  2011-01-12 00:00:00         14:00:00   \n",
       "\n",
       "                         utility     Area Affected powerpool  \\\n",
       "0                            NaN               NaN       NaN   \n",
       "1  New Athens Generating Co. LLC  Athens, New York      NPCC   \n",
       "2                  National Grid     Massachusetts      NPCC   \n",
       "\n",
       "                            type demand_loss customers  \n",
       "0                            NaN         NaN       NaN  \n",
       "1  Electrical Fault at Generator           0         0  \n",
       "2                   Winter Storm         NaN     80000  "
      ]
     },
     "execution_count": 10,
     "metadata": {},
     "output_type": "execute_result"
    }
   ],
   "source": [
    "data_2.head(3)"
   ]
  },
  {
   "cell_type": "code",
   "execution_count": 11,
   "metadata": {
    "collapsed": false
   },
   "outputs": [
    {
     "data": {
      "text/html": [
       "<div>\n",
       "<table border=\"1\" class=\"dataframe\">\n",
       "  <thead>\n",
       "    <tr style=\"text-align: right;\">\n",
       "      <th></th>\n",
       "      <th>event_date</th>\n",
       "      <th>utility</th>\n",
       "      <th>powerpool</th>\n",
       "      <th>event_time</th>\n",
       "      <th>Area Affected</th>\n",
       "      <th>type</th>\n",
       "      <th>demand_loss</th>\n",
       "      <th>customers</th>\n",
       "      <th>restoration_date</th>\n",
       "      <th>restoration_time</th>\n",
       "    </tr>\n",
       "  </thead>\n",
       "  <tbody>\n",
       "    <tr>\n",
       "      <th>0</th>\n",
       "      <td>1/17/2001</td>\n",
       "      <td>Calif. Indep. System Operator</td>\n",
       "      <td>(WSCC)</td>\n",
       "      <td>1:45 a.m.</td>\n",
       "      <td>California</td>\n",
       "      <td>Firm load interruption</td>\n",
       "      <td>500</td>\n",
       "      <td>NaN</td>\n",
       "      <td>1/18/2001</td>\n",
       "      <td>12:00 p.m.</td>\n",
       "    </tr>\n",
       "    <tr>\n",
       "      <th>1</th>\n",
       "      <td>1/20/2001</td>\n",
       "      <td>Calif. Indep. System Operator</td>\n",
       "      <td>(WSCC)</td>\n",
       "      <td>8:15 a.m.</td>\n",
       "      <td>California</td>\n",
       "      <td>Firm load interruption</td>\n",
       "      <td>300</td>\n",
       "      <td>NaN</td>\n",
       "      <td>1/21/2001</td>\n",
       "      <td>2:50 p.m.</td>\n",
       "    </tr>\n",
       "    <tr>\n",
       "      <th>2</th>\n",
       "      <td>3/6/2001</td>\n",
       "      <td>New England</td>\n",
       "      <td>ISO</td>\n",
       "      <td>9:17 a.m.</td>\n",
       "      <td>Boston &amp; Northeast Massachusetts</td>\n",
       "      <td>Interruption of Firm Power</td>\n",
       "      <td>340</td>\n",
       "      <td>130000</td>\n",
       "      <td>3/6/2001</td>\n",
       "      <td>11:00 a.m.</td>\n",
       "    </tr>\n",
       "  </tbody>\n",
       "</table>\n",
       "</div>"
      ],
      "text/plain": [
       "  event_date                        utility powerpool event_time  \\\n",
       "0  1/17/2001  Calif. Indep. System Operator    (WSCC)  1:45 a.m.   \n",
       "1  1/20/2001  Calif. Indep. System Operator    (WSCC)  8:15 a.m.   \n",
       "2   3/6/2001                   New England        ISO  9:17 a.m.   \n",
       "\n",
       "                      Area Affected                        type demand_loss  \\\n",
       "0                        California      Firm load interruption         500   \n",
       "1                        California      Firm load interruption         300   \n",
       "2  Boston & Northeast Massachusetts  Interruption of Firm Power         340   \n",
       "\n",
       "  customers restoration_date restoration_time  \n",
       "0       NaN        1/18/2001       12:00 p.m.  \n",
       "1       NaN        1/21/2001        2:50 p.m.  \n",
       "2    130000         3/6/2001       11:00 a.m.  "
      ]
     },
     "execution_count": 11,
     "metadata": {},
     "output_type": "execute_result"
    }
   ],
   "source": [
    "data_00.head(3)"
   ]
  },
  {
   "cell_type": "markdown",
   "metadata": {},
   "source": [
    "### check for empty rows\n",
    "A blackout report is associated with a utility. If a row does not contain information on the affected utility company, then that row is likely empty or doesn't contain useful information. "
   ]
  },
  {
   "cell_type": "code",
   "execution_count": 12,
   "metadata": {
    "collapsed": false
   },
   "outputs": [
    {
     "name": "stdout",
     "output_type": "stream",
     "text": [
      "Number of missing rows in utility column for data_1: 232\n",
      "Number of missing rows in utility column for data_2: 61\n",
      "Number of missing rows in utility column for data_00: 0\n"
     ]
    }
   ],
   "source": [
    "print \"Number of missing rows in utility column for data_1:\",data_1['Utility/Power Pool (NERC Region)'].isnull().sum()\n",
    "print \"Number of missing rows in utility column for data_2:\",data_2.utility.isnull().sum()\n",
    "print \"Number of missing rows in utility column for data_00:\", data_00.utility.isnull().sum()\n"
   ]
  },
  {
   "cell_type": "code",
   "execution_count": 13,
   "metadata": {
    "collapsed": false
   },
   "outputs": [],
   "source": [
    "data_1=data_1.dropna(subset=['Utility/Power Pool (NERC Region)','event_date'])\n",
    "data_2=data_2.dropna(subset=['utility','event_date']) "
   ]
  },
  {
   "cell_type": "markdown",
   "metadata": {},
   "source": [
    "Looking at data_1, the utility and nerc region information are lumped into one column. I need to split that column into two. First, I would like to get an idea of what type of values are in this column\n"
   ]
  },
  {
   "cell_type": "code",
   "execution_count": 14,
   "metadata": {
    "collapsed": false
   },
   "outputs": [
    {
     "data": {
      "text/plain": [
       "1                       Oklahoma Gas & Electric \n",
       "3                Kansas City Power & Light (SPP)\n",
       "4                  Missouri Public Service (SPP)\n",
       "6                San Diego Gas & Electric (WSCC)\n",
       "8                    Consumers Energy Co. (ECAR)\n",
       "10                 Arizona Public Service (WSCC)\n",
       "13                 Pacific Gas & Electric (WSCC)\n",
       "14                 Pacific Gas & Electric (WSCC)\n",
       "15    Consolidated Edison Co. of New York (NPCC)\n",
       "17             Central Illinois Light Co. (MAIN)\n",
       "Name: Utility/Power Pool (NERC Region), dtype: object"
      ]
     },
     "execution_count": 14,
     "metadata": {},
     "output_type": "execute_result"
    }
   ],
   "source": [
    "data_1['Utility/Power Pool (NERC Region)'].head(10)"
   ]
  },
  {
   "cell_type": "markdown",
   "metadata": {},
   "source": [
    "The nerc region is in parenthesis, hence I will split the strings in this column based on the left hand parenthesis. "
   ]
  },
  {
   "cell_type": "code",
   "execution_count": 15,
   "metadata": {
    "collapsed": false
   },
   "outputs": [],
   "source": [
    "nerc = data_1['Utility/Power Pool (NERC Region)'].str.split('(',expand= True)\n",
    "data_1['utility']=nerc[0]\n",
    "data_1['powerpool']= nerc[1].str.replace(')','') #get rid of the right sided parenthesis"
   ]
  },
  {
   "cell_type": "code",
   "execution_count": 16,
   "metadata": {
    "collapsed": false
   },
   "outputs": [],
   "source": [
    "data_1['utility']=data_1.utility.str.strip() #remove white spaces from the left and right\n",
    "data_1['powerpool']=data_1.powerpool.str.strip()"
   ]
  },
  {
   "cell_type": "markdown",
   "metadata": {},
   "source": [
    "There are a few noticeable meaningless values that I have observed from simply looking through the utility column. I will remove them from the sample"
   ]
  },
  {
   "cell_type": "code",
   "execution_count": 17,
   "metadata": {
    "collapsed": false
   },
   "outputs": [
    {
     "name": "stdout",
     "output_type": "stream",
     "text": [
      "After cleaning out missing data and meaningless rows, the shape is: (800, 10)\n"
     ]
    }
   ],
   "source": [
    "data_1=data_1[data_1['Utility/Power Pool (NERC Region)']!='Utility/Power Pool (NERC Region)']\n",
    "data_1=data_1[data_1['Utility/Power Pool (NERC Region)']!='Major Disturbances and Unusual Occurrences,  January through December 2005']\n",
    "data_1=data_1[data_1['Utility/Power Pool (NERC Region)']!='Major Disturbances and Unusual Occurrences,  January through December 2004']\n",
    "data_1=data_1[data_1['Utility/Power Pool (NERC Region)']!='Major Disturbances and Unusual Occurrences, 2003']\n",
    "#I may still have some other meaningless rows after these changes. May have to look at the end to make sure\n",
    "print \"After cleaning out missing data and meaningless rows, the shape is:\", data_1.shape"
   ]
  },
  {
   "cell_type": "markdown",
   "metadata": {},
   "source": [
    "##  Deal with dates"
   ]
  },
  {
   "cell_type": "markdown",
   "metadata": {},
   "source": [
    "The next thing I need to do is parse the date variable. The date variable has some issues with certain observations that need to be corrected before the entire column is a datetime.datetime column. First I need to create a few functions."
   ]
  },
  {
   "cell_type": "code",
   "execution_count": 18,
   "metadata": {
    "collapsed": false
   },
   "outputs": [],
   "source": [
    "# check if there are any none datetime.datetime rows in a column\n",
    "def check_datetime(data,date):\n",
    "    bb=[]\n",
    "    for row in data[date]:\n",
    "        if type(row) is datetime.datetime:\n",
    "            bb.append(0)\n",
    "        else: \n",
    "            bb.append(row)\n",
    "    return set(bb)\n",
    " "
   ]
  },
  {
   "cell_type": "code",
   "execution_count": 19,
   "metadata": {
    "collapsed": true
   },
   "outputs": [],
   "source": [
    "def convert_date(date): ## convert to datetime\n",
    "    date=pd.to_datetime(date,errors='coerce')\n",
    "    return date\n"
   ]
  },
  {
   "cell_type": "code",
   "execution_count": 20,
   "metadata": {
    "collapsed": false
   },
   "outputs": [
    {
     "data": {
      "text/plain": [
       "{0, u' 1/19/05', u'7/01//05'}"
      ]
     },
     "execution_count": 20,
     "metadata": {},
     "output_type": "execute_result"
    }
   ],
   "source": [
    "check_datetime(data_1,'event_date')"
   ]
  },
  {
   "cell_type": "markdown",
   "metadata": {},
   "source": [
    "##### data_1.event_date has two values that are not datetime that need to be corrected."
   ]
  },
  {
   "cell_type": "code",
   "execution_count": 21,
   "metadata": {
    "collapsed": false
   },
   "outputs": [],
   "source": [
    "data_1=data_1.reset_index()"
   ]
  },
  {
   "cell_type": "code",
   "execution_count": 22,
   "metadata": {
    "collapsed": false
   },
   "outputs": [],
   "source": [
    "date=[] #this empty list will hold the values\n",
    "\n",
    "for i in range(len(data_1)):\n",
    "    if data_1['event_date'].str.contains('7/01//05')[i]==True:\n",
    "        date.append(datetime.datetime.strptime('7/01/2005','%m/%d/%Y'))\n",
    "    elif data_1['event_date'].str.contains(u' 1/19/05')[i]==True:\n",
    "        date.append(datetime.datetime.strptime(u'1/19/2005','%m/%d/%Y'))   \n",
    "    else:\n",
    "        date.append(data_1['event_date'][i])\n",
    "data_1['event_date']=date    \n",
    "\n",
    "        "
   ]
  },
  {
   "cell_type": "markdown",
   "metadata": {},
   "source": [
    "## Handle time variable"
   ]
  },
  {
   "cell_type": "code",
   "execution_count": 23,
   "metadata": {
    "collapsed": false
   },
   "outputs": [
    {
     "data": {
      "text/plain": [
       "array([datetime.time(6, 0), u'Evening', datetime.time(16, 0),\n",
       "       datetime.time(10, 48), datetime.time(0, 0), datetime.time(15, 0),\n",
       "       datetime.time(12, 27), datetime.time(11, 51), datetime.time(12, 40),\n",
       "       datetime.time(12, 43), datetime.time(8, 23), datetime.time(3, 41),\n",
       "       datetime.time(14, 9), datetime.time(3, 33), datetime.time(22, 0),\n",
       "       datetime.time(15, 48), datetime.time(18, 30), datetime.time(13, 9),\n",
       "       datetime.time(11, 0), datetime.time(17, 0), datetime.time(10, 0),\n",
       "       u'2:00 p.m.', u'11:32 a.m.', u'7:00 p.m.', u'3:11 a.m.',\n",
       "       u'11:00 a.m.', u'3:41 p.m.', u'5:00 p.m.', u'8:00 p.m.',\n",
       "       u'2:52 a.m.', u'3:12 p.m.', u'1:00 p.m.', u'3:15 p.m.',\n",
       "       u'1:54 p.m.', u'6:00 a.m.', u'9:00 a.m.', u'11:41 p.m.',\n",
       "       u'3:00 a.m.', u'4:00 a.m.', u'5:14 p.m.', u'8:24 a.m.',\n",
       "       u'5:15 p.m.', u'6:55 p.m.', u'Approximately 3:00 p.m.',\n",
       "       u'4:09 p.m.', u'4:10 p.m.', u'4:11 p.m.', u'4:00 p.m.',\n",
       "       u'4:22 p.m.', u'5:19 a.m.', u'8:20 a.m.', u'11:45 a.m.',\n",
       "       u'12:00 noon', u'3:32 p.m.', u'4:20 p.m.', u'9:00 p.m.',\n",
       "       u'1:44 a.m.', u'3:16 p.m.', u'6:00 p.m.', u'7:30 a.m.',\n",
       "       u'1:40 p.m.', u'6:16 p.m.', u'7:00 a.m.', u'10:34 p.m.',\n",
       "       u'10:15 p.m.', u'4:49 a.m.', u'3:51 p.m.', u'11:15 a.m.',\n",
       "       u'Midnight', u'3:00 p.m.', u'10:00 a.m.', u'1:09 p.m. ',\n",
       "       u'2:25 p.m.', u'12:01 a.m.  ', u'12:00 a.m.', u'5:00 a.m.',\n",
       "       u'6:30 p.m.', u'6:22 p.m.', u'1:27 p.m. ', u'5:30 a.m. ',\n",
       "       u'12:35 p.m.', u'2:30 p.m.', u'3:30 p.m.', u'2:00 a.m.',\n",
       "       u'4:00  p.m.', u'12:00 p.m.', u'1:46 a.m.', u'2:35 a.m.',\n",
       "       u'5:37 p.m.', u'7:41 a.m.', u'5:35 p.m.', u'6:00 a.m.  ',\n",
       "       u'1:30 p.m.', u'1:34 p.m.', u'4:30 p.m.', u'2:26 p.m. ',\n",
       "       u'3:44 p.m.', u'5:30 p.m.', u'3:45 p.m.', u'10:00 p.m.  ',\n",
       "       u'12:46 p.m.', u'8:23 a.m.', u'8:00 a.m.', u'4:43 p.m.',\n",
       "       u'10:04 p.m.', u'1:00 p.m. ', u'3:31 p.m.', u'9: 52 a.m.',\n",
       "       u'6:58 p.m.', u'1:00 a.m.', u'12:04 p.m.', u'4:30 a.m.',\n",
       "       u'4:06 p.m.', u'5:09 p.m.', u' 10:30 p.m.', u'3:27 p.m.',\n",
       "       u'12:30  p.m.', u'2:15 p.m.', u'4:55 a.m.', u'3:37 a.m.',\n",
       "       u'7:50 a.m.', u'6:00 p.m. ', u'9:10 p.m.', u'9:17 a.m.',\n",
       "       u'10:42 a.m.', u'6:38 a.m.', u'12:27 p.m.', u'5:78 p.m.',\n",
       "       u'1:12 p.m.', u'1:26 p.m. ', u'8:16 a.m.', u'12:58 a.m.',\n",
       "       u'4:22 a.m.', u'6:00 a.m', u'4:43  p.m.', u'11:16 a.m.',\n",
       "       u'8:37 p.m.', u'11:30 a.m.', nan, u'1:27 a.m.', u'12:53 p.m.',\n",
       "       u'2:39 p.m.', u'1:55 p.m.', u'1:02 a.m.', u'4:50 p.m', u'5:50 p.m.',\n",
       "       u'8:30 p.m.', u'10:28 a.m.', u'12:38 p.m.', u'7:37 p.m.',\n",
       "       u'3:50 p.m.', u'1:10 a.m.', u'7:10 a.m.', u'12:32 p.m.',\n",
       "       u'2:14 p.m.', u'1:06 p.m.', u'5:40 p.m.', u'3:19 p.m.',\n",
       "       u'9:44 a.m.', u'8:00 p.m..', u'6:47 p.m.', u'11:00 p.m.',\n",
       "       u'5:05 a.m.', u'1:34 a.m.', u'12:06 a.m.', u'5:55 a.m.', u'Ongoing',\n",
       "       u'4:32 a.m.', u'8:50 a.m.', u'6:25 p.m.', u'8:43 a.m.',\n",
       "       u'3:25 p.m.', u'4:35 p.m.', u'2:55 p.m.', u'2:12 p.m.',\n",
       "       u'3:13 p.m.', u'7:50 p.m.', u'6:39 p.m.', u'6:50 p.m.',\n",
       "       u'6:36 p.m.', u'8:07 p.m.', u'1:09 p.m.', u'2:33 p.m.',\n",
       "       u'6:38 p.m.', u'2:16 p.m.', u'9:58 p.m.', u'5:30 a.m.',\n",
       "       u'6:41 a.m.', u'8:56 a.m.', u'8:08 p.m.', u'3:05 p.m.',\n",
       "       u'5:28 p.m.', u'5:48 p.m.', u'7:09 a.m.', u'6:20 p.m.',\n",
       "       u'7:35 p.m.', u'12:01 a.m.', u'12:07 p.m.', u'7:30 p.m.',\n",
       "       u'4:25 p.m.', u'10:25 p.m.', u'10:44 a.m.', u'7:23 p.m.',\n",
       "       u'12:45 a.m.', u'9:40 p.m.', u'9:20 p.m.', u'12:32 a.m.',\n",
       "       u'9:09 a.m.', u'10:14 a.m.', u'2:04 p.m.', u'9:57 a.m.',\n",
       "       u'1:48 p.m.', u'10:56 a.m.', u'3:42 p.m.', u'9:23 a.m.',\n",
       "       u'10:59 a.m.', u'5:18 p.m.', u'4:17 p.m.', u'3:56 p.m.',\n",
       "       u'12:45 p.m.', u'2:53 p.m.', u'12:20 p.m.', u'1:30 a.m.',\n",
       "       u'9:30 p.m.', u'11:34 p.m.', u'1:53 p.m.', u'12:30 p.m.',\n",
       "       u'8:30 a.m.', u'7:53 a.m.', u'7:01 p.m.', u'5:14 a.m.',\n",
       "       u'5:15 a.m.', u'1:38 p.m.', u'2:01 p.m.', u'2:05 p.m.',\n",
       "       u'2:06 p.m.', u'6:44 a.m.', u'6:04 p.m.', u'3:08 a.m.',\n",
       "       u'8:57 p.m.', u'7:47 a.m.', u'10:00 p.m.', u'11:23 p.m.',\n",
       "       u'3:06 a.m.', u'3:58 a.m.', u'11:59 a.m.', u'6:02 p.m.',\n",
       "       u'6:43 p.m.', u'8:15 a.m.', u'3:06 p.m.', u'1:10 p.m.',\n",
       "       u'8:55 p.m.', u'12:31 p.m.', u'10:21 a.m.', u'4:50 p.m.',\n",
       "       u'2:02 p.m.', u'9:30 a.m.', u'3:04 p.m.', u'3:14 p.m.',\n",
       "       u'3:18 p.m.', u'2:52 p.m.', u'1:15 p.m.', u'7:06 p.m.',\n",
       "       u'4:15 p.m.', u'9:01 a.m.', u'8:35 p.m.', u'8:40 p.m.',\n",
       "       u'3:09 p.m.', u'4:55 p.m.', u'1:44 p.m.', u'4:52 p.m.',\n",
       "       u'7:31 a.m.', u'7:16 p.m.', u'7:36 p.m.', u'12:15 p.m.',\n",
       "       u'2:22 p.m.', u'12:49 a.m.', u'5:56 a.m.', u'7:23 a.m.',\n",
       "       u'12:52 p.m.', u'5:23 a.m.', u'8:14 a.m.', u'7:22 p.m.',\n",
       "       u'9:29 a.m.', u'10:30 a.m.', u'7:45 a.m.', u'10:03 p.m.',\n",
       "       u'5:45 a.m.', u'6:21 p.m.', u'10:24 a.m.', u'6:30 a.m.',\n",
       "       u'10:01 a.m.', u'12:37 a.m.', u'5:49 p.m.', u'2:50 p.m.',\n",
       "       u'11:13 a.m.', u'9:39 a.m.', u'5:27 p.m.', u'2:38 a.m.',\n",
       "       u'8:45 a.m.', u'11:40 a.m.', u'6:13 p.m.', u'4:45 a.m.',\n",
       "       u'4:02 p.m.', u'11:46 p.m.', u'5:03 a.m.', u'1:46 p.m.',\n",
       "       u'3:43 p.m.', u'9:45 p.m.', u'12:10 a.m.', u'2:30 a.m.',\n",
       "       u'6:18 p.m.', u'12:15 a.m.', u'8:54 p.m.', u'6:48 a.m.',\n",
       "       u'10:16 p.m.', u'5:54 p.m.', u'11:09 a.m.', u'9:05 a.m.',\n",
       "       u'5:25 p.m.', u'4:37 p.m.', u'5:45 p.m.', u'10:44 p.m.',\n",
       "       u'9:50 p.m.', u'5:34 a.m.', u'8:18 p.m.', u'2:17 a.m.',\n",
       "       u'1:45 p.m.', u'7:31 p.m.', u'10:54 p.m.', u'10:31 a.m.',\n",
       "       u'10:45 p.m.', u'12:48 p.m.', u'6:45 p.m.', u'6:15 a.m.',\n",
       "       u'6:34 a.m.', u'1:37 p.m.', u'10:55 p.m.', u'3:45 a.m.',\n",
       "       u'2:32 p.m.', u'6:48 p.m.', u'10:30 p.m.', u'11:30 p.m.',\n",
       "       u'11:53 p.m.', u'11:59 p.m.', u'2:40 p.m.', u'6:29 p.m.',\n",
       "       u'2:18 p.m.', u'11:11 a.m.', u'10:49 a.m.', u'3:34 p.m.',\n",
       "       u'11:36 p.m.', u'3:47 a.m.', u'4:13 p.m.', u'6:44 p.m.',\n",
       "       u'3:10 p.m.', u'3:20 p.m.', u'5:43 p.m.', u'4:45 p.m.',\n",
       "       u'3:54 p.m.', u'3:21 p.m.', u'6:45 a.m.', u'8:21 a.m.',\n",
       "       u'10:20 a.m.', u'9:31 p.m.', u'6:12 a.m.', u'4:08 p.m.',\n",
       "       u'5:38 p.m.', u'5:16 p.m.', u'10:26 p.m.', u'9:46 a.m.',\n",
       "       u'3:53 p.m.', u'6:47 a.m.', u'1:39 a.m.', u'9:32 p.m.',\n",
       "       u'7:20 a.m.', u'7:36 a.m.'], dtype=object)"
      ]
     },
     "execution_count": 23,
     "metadata": {},
     "output_type": "execute_result"
    }
   ],
   "source": [
    "data_1.event_time.unique()"
   ]
  },
  {
   "cell_type": "markdown",
   "metadata": {},
   "source": [
    "Fix the individual date rows that have problems"
   ]
  },
  {
   "cell_type": "code",
   "execution_count": 24,
   "metadata": {
    "collapsed": false
   },
   "outputs": [],
   "source": [
    "time=[]\n",
    "for i in range(len(data_1)): \n",
    "    if data_1.event_time.str.contains('midnight')[i]  == True:\n",
    "        time.append(data_1['event_time'].str.replace('midnight','12:00 am')[i])\n",
    "    elif data_1['event_time'].str.contains('Midnight')[i] == True:\n",
    "        time.append(data_1['event_time'].str.replace('Midnight','12:00 am')[i])\n",
    "    elif data_1['event_time'].str.contains('Approximately 3:00 p.m.')[i] == True:\n",
    "        time.append(data_1['event_time'].str.replace('Approximately 3:00 p.m.','3:00pm')[i])\n",
    "    elif data_1['event_time'].str.contains('Ongoing')[i] == True:\n",
    "        time.append(data_1['event_time'].str.replace('Ongoing','')[i])\n",
    "    elif data_1['event_time'].str.contains('12:00 noon')[i] == True:\n",
    "        time.append(data_1['event_time'].str.replace('12:00 noon','12:00pm')[i])\n",
    "    elif data_1['event_time'].str.contains('Evening')[i] == True:\n",
    "        time.append(data_1['event_time'].str.replace('Evening','6:00pm')[i])\n",
    "    elif data_1['event_time'].str.contains('5:78 p.m.')[i] == True:\n",
    "        time.append(data_1['event_time'].str.replace('5:78 p.m.','5:00pm')[i]) ## come back to this\n",
    "    else:\n",
    "        time.append(data_1['event_time'][i])\n",
    "data_1['event_time']=time\n"
   ]
  },
  {
   "cell_type": "code",
   "execution_count": 25,
   "metadata": {
    "collapsed": false
   },
   "outputs": [],
   "source": [
    "data_1['event_time']=[str(x) if type(x) is unicode else x for x in data_1.event_time] # change unicode to string\n",
    "data_1['event_time']=[x.replace('.','') if type(x) is str else x for x in data_1.event_time] # remove the . in a.m. or p.m.\n",
    "data_1['event_time']=[x.replace(' ','') if type(x) is str else x for x in data_1.event_time] #remove all spaces as well"
   ]
  },
  {
   "cell_type": "markdown",
   "metadata": {},
   "source": [
    "event_time variable is a mixture of datetime.time and strings. I want to convert the strings into datetime format"
   ]
  },
  {
   "cell_type": "code",
   "execution_count": 26,
   "metadata": {
    "collapsed": false
   },
   "outputs": [],
   "source": [
    "dd=[]\n",
    "for row in data_1['event_time']:\n",
    "    if type(row) is str and row !='':\n",
    "        try: \n",
    "            dd.append(datetime.datetime.strptime(row, \"%I:%M%p\").time())\n",
    "        except ValueError, v:\n",
    "            \n",
    "            if len(v.args) > 0 and v.args[0].startswith('unconverted data remains: '):\n",
    "                row = row[:-(len(v.args[0])-26)]\n",
    "                row = datetime.datetime.strptime(row,\"%I:%M%p\").time()\n",
    "            else:\n",
    "                raise v\n",
    "    else:\n",
    "        dd.append(row)\n",
    "        "
   ]
  },
  {
   "cell_type": "code",
   "execution_count": 27,
   "metadata": {
    "collapsed": false
   },
   "outputs": [],
   "source": [
    "data_1['event_time']=dd"
   ]
  },
  {
   "cell_type": "code",
   "execution_count": 28,
   "metadata": {
    "collapsed": true
   },
   "outputs": [],
   "source": [
    "def convert_time(time): #make the time variable appear as time delta\n",
    "    if type(time) is datetime.datetime or type(time) is datetime.time:\n",
    "        time=datetime.timedelta(hours=time.hour,minutes=time.minute)\n",
    "    else:\n",
    "        time=pd.to_datetime(time,errors='coerce')\n",
    "    return time\n",
    "    "
   ]
  },
  {
   "cell_type": "code",
   "execution_count": 29,
   "metadata": {
    "collapsed": false
   },
   "outputs": [],
   "source": [
    "data_1['event_time']=data_1.event_time.apply(convert_time)"
   ]
  },
  {
   "cell_type": "code",
   "execution_count": 30,
   "metadata": {
    "collapsed": true
   },
   "outputs": [],
   "source": [
    "def convert_datetime(data,date,time):\n",
    "    bb=[]\n",
    "    for i in range(len(data)):\n",
    "        if data[date].dt.hour[i]==0 and data[date].dt.minute[i]==0 and data[date].dt.second[i]==0:\n",
    "            bb.append(data[date][i]+data[time][i]) \n",
    "        else:\n",
    "            bb.append(data[date][i])\n",
    "    return bb\n",
    "    "
   ]
  },
  {
   "cell_type": "code",
   "execution_count": 31,
   "metadata": {
    "collapsed": false
   },
   "outputs": [],
   "source": [
    "data_1['event_datetime']=convert_datetime(data_1,'event_date','event_time')"
   ]
  },
  {
   "cell_type": "markdown",
   "metadata": {},
   "source": [
    "Now I will move on to the restoration_date variable "
   ]
  },
  {
   "cell_type": "code",
   "execution_count": 32,
   "metadata": {
    "collapsed": false
   },
   "outputs": [
    {
     "name": "stdout",
     "output_type": "stream",
     "text": [
      "The number of missing data in restoration_date: 1\n"
     ]
    }
   ],
   "source": [
    "print \"The number of missing data in restoration_date:\", data_1.restoration_date.isnull().sum()"
   ]
  },
  {
   "cell_type": "code",
   "execution_count": 33,
   "metadata": {
    "collapsed": false
   },
   "outputs": [
    {
     "data": {
      "text/plain": [
       "array([datetime.datetime(2002, 2, 7, 12, 0), nan,\n",
       "       datetime.datetime(2002, 2, 10, 21, 0),\n",
       "       datetime.datetime(2002, 2, 27, 11, 35),\n",
       "       datetime.datetime(2002, 3, 11, 12, 0),\n",
       "       datetime.datetime(2002, 4, 9, 0, 0),\n",
       "       datetime.datetime(2002, 7, 9, 19, 54),\n",
       "       datetime.datetime(2002, 7, 19, 16, 30),\n",
       "       datetime.datetime(2002, 7, 20, 20, 12),\n",
       "       datetime.datetime(2002, 8, 2, 18, 36),\n",
       "       datetime.datetime(2002, 8, 9, 12, 13),\n",
       "       datetime.datetime(2002, 8, 25, 9, 17),\n",
       "       datetime.datetime(2002, 8, 28, 15, 38),\n",
       "       datetime.datetime(2002, 10, 12, 0, 0), u'Noon November 10',\n",
       "       u'Unknown', datetime.datetime(2002, 11, 21, 8, 0),\n",
       "       datetime.datetime(2002, 12, 9, 22, 30),\n",
       "       datetime.datetime(2002, 12, 13, 22, 0),\n",
       "       datetime.datetime(2002, 12, 19, 16, 0),\n",
       "       datetime.datetime(2002, 12, 21, 17, 0),\n",
       "       datetime.datetime(2002, 12, 26, 5, 0),\n",
       "       datetime.datetime(2002, 12, 27, 8, 30), u'1/26/03, 2:00 a.m.',\n",
       "       u'3/01/03, 8:00 a.m.', u'4/06/03, 5:00 p.m. ',\n",
       "       u'4/05/03, 2:00 p.m. ', u'4/15/03, 2:06 p.m. ',\n",
       "       u'4/29/03, 12:00 noon ', u'5/04/03, 12:00 noon',\n",
       "       u'5/03/03, 8:00 a.m.', u'5/15/03, 3:29 a.m.', u'6/16/03, 2:00 p.m.',\n",
       "       u'6/16/03, 5:00 p.m.', u'6/30/03, 12:00 a.m. ',\n",
       "       u'7/01/03, 3:50 p.m.  ', u'7/02/03, 3:59 p.m. ',\n",
       "       u'7/04/03, 10:00 a.m. ', u'7/06/03, 4:00 p.m. ',\n",
       "       u'7/06/03, 9:00 p.m.', u'7/05/03, 7:00 a.m. ',\n",
       "       u'7/07/03, 3:00 p.m. ', u'7/11/03, 4:00 p.m.',\n",
       "       u'7/09/03, 7:09 p.m. ', u'7/21/03, 10:30 a.m.',\n",
       "       u'7/24/03, 5:33 a.m.', u'7/28/03, 8:35 p.m.', u'Approximately ',\n",
       "       u'8/16/03, 7:00 a.m.', u'8/16/03, 1:03 p.m.', u'8/16/03, 8:27 p.m.',\n",
       "       u'8/16/03, 3:45 a.m.', u'8/18/03, 12:03 a.m.',\n",
       "       u'8/14/03, 11:48 p.m.', u'Approximately', u'8/15/03, 9:03 p.m.',\n",
       "       u'8/29/03, 12:00 noon', u'8/31/03, 6:00 p.m.',\n",
       "       u'9/07/03, 6:00 p.m.', u'9/29/03, 10:42 p.m.',\n",
       "       u'9/18/03, 12:00 midnight', u'9/26/03, 10:50 p.m.',\n",
       "       u'9/24/03, 12:00 midnight', u'9/19/03, 5:00 p.m.',\n",
       "       u'9/28/03, 6:00 p.m.', u'9/21/03, 5:00 p.m.',\n",
       "       u'11/18/03, 10:54 a.m. (Trans. Only)', u'11/05/03, 3:54 p.m.',\n",
       "       u'11/16/03, 6:00 p.m.', u'11/12/03, 7:00 p.m.',\n",
       "       u'11/16/03, 5:00 p.m.', u'11/16/03, 4:00 p.m.',\n",
       "       u'11/14/03, 6:30 a.m.', u'11/14/03, 7:30 a.m.',\n",
       "       u'11/13/03, 3:51 p.m.', u'12/01/03, 8:11 p.m.',\n",
       "       u'12/08/03, 7:00 a.m.', u'12/07/03, 8:30 a.m.',\n",
       "       u'12/08/03, 8:30 a.m.', u'12/05/03, 6:25 a.m.',\n",
       "       u'12/05/03, 8:00 p.m.', u'12/21/03, 11:45 p.m.',\n",
       "       u'12/22/03, 11:16 a.m.', u'1/01/04, 11:30 a.m.',\n",
       "       u'1/02/04, 4:00 p.m.', u'1/10/04, 5:00 p.m.', u'1/10/04, 7:00 p.m.',\n",
       "       u'1/17/04, 12:00 noon', u'1/28/04, 8:00 a.m.',\n",
       "       u'1/27/04, 8:00 p.m.', u'1/29/04, 6:30 a.m.', u'1/29/04, 5:00 a.m.',\n",
       "       u'2/09/04, 8:00 p.m.', u'2/16/04, 12 noon', u'2/17/04, 11:57 p.m. ',\n",
       "       u'2/26/04, 10:00 a.m.', u'2/26/04, 1:30 a.m.',\n",
       "       u'3/16/04, 2:45 p.m.', u'3/09/04, 8:00 a.m.  ',\n",
       "       u'3/08/04, 6:55 p.m.', u'3/17/04, 2:06 p.m.',\n",
       "       u'4/11/04, 4:00 p.m.   ', u'4/12/04, 10:15 a.m.',\n",
       "       u'4/30/04, 12:00 p.m.', u'5/03/04, 7:00 p.m.',\n",
       "       u'5/11/04, 6:00 p.m.', u'5/24/04, 12:00 a.m.',\n",
       "       u'5/25/04, 12:00 a.m.', u'5/26/04, 9:00 p.m.',\n",
       "       u'5/25/04, 12:00 p.m.', u'5/24/04, 8:00 p.m.',\n",
       "       u'5/31/04, 12:00 a.m.', u'6/02/04, 1:00 a.m.',\n",
       "       u'6/07/04, 4:00 p.m.', u'6/06/04, 6:00 p.m.', u'6/12/04, 5:41 p.m.',\n",
       "       u'6/14/04, 2:39 p.m.', u'6/23/04, 7:10 p.m.', u'6/23/04, 8:00 p.m.',\n",
       "       u'8/09/04, 12:00 p.m.', u'7/07/04, 11:54 p.m.',\n",
       "       u'7/13/04, 5:15 p.m.', u'7/17/04, 8:00 a. m. ',\n",
       "       u'7/21/04, 2:00 a.m.', u'7/20/04, 5:51 p.m.', u'7/22/04, 7:00 p.m.',\n",
       "       u'7/25/2004, 9:00 p.m.', u'7/25/04, 11:00 p.m.',\n",
       "       u'8/02/04, 8:00 p.m.', u'8/04/04, 7:00 a.m.', u'8/04/04, 1:50 p.m.',\n",
       "       u'8/09/04, 11:10 a.m.', u'8/23/04, 12:00 a.m',\n",
       "       u'8/13/04, 11:00 p.m.', u'8/13/04, 12 a.m.', u'8/13/04, 8:24 p.m.',\n",
       "       u'8/14/04, 4:23 p.m.', u'8/14/04, 11:00 p.m.',\n",
       "       u'8/20/04, 9:45 p.m.', u'8/29/04, 6:00 p.m.', u'8/31/04, 3:35 p.m.',\n",
       "       u'9/05/04, 2:00 p.m.', u'9/06/04, 8:00 a.m.',\n",
       "       u'09/12/04, 7:00 p.m.', u'09/09/04, 5:00 p.m.',\n",
       "       u'09/12/04 , 12:00 a.m.', u'09/09/04, 12:00 p.m.',\n",
       "       u'09/08/04, 12:00 p.m.', u'09/23/04 12:00 p.m.',\n",
       "       u'09/17/04, 7:00 p.m.', u'9/16/04, 10:02 a.m.',\n",
       "       u'9/20/04, 4:00 p.m.', u'09/18/04, 12:00 p.m.',\n",
       "       u'09/26/04, 9:00 a.m.', u'9/27/04, 12:00 a.m.',\n",
       "       u'09/30/04, 9:00 a.m.', u'10/01/04, 12:00 a.m.',\n",
       "       u'09/27/04, 2:00 p.m.', u'09/27/04, 4:12 p.m.',\n",
       "       u'10/11/04, 7:57 p.m.', u'10/20/04, 9:00 a.m.',\n",
       "       u'10/26/04, 10:00 a.m.', u'10/28/04, 6:08 p.m.',\n",
       "       u'11/01/04, 6:00 p.m.', u'11/03/04, 1:50 p.m.',\n",
       "       u'11/12/04, 1:07p.m.', u'11/15/04, 1:31 a.m.',\n",
       "       u'11/24/04, 1:00 a.m.', u'11/24/04, 4:00 p.m.',\n",
       "       u'12/02/04, 11:59 p.m.', u'12/02/04, 10:09 p.m.',\n",
       "       u'12/31/04, 11:00 p.m.', u'12/27/04, 10:50 a.m.',\n",
       "       u'1/14/05, 12:00 p.m.', u'1/13/05, 6:00 p.m.',\n",
       "       u'1/16/05, 11:00 a.m.', u'1/10/05, 8:00 a.m.',\n",
       "       u'1/19/05, 9:27 a.m.', u'1/23/05, 11:24 a.m.  ',\n",
       "       u'1/24/05, 6:50 a.m.', u'1/24/05, 12:34 p.m.',\n",
       "       u'1/31/05, 10:00 a.m', u'1/30/05, 3:00 p.m.', u'2/01/05, 6:01 p.m.',\n",
       "       u'2/15/05 1:30 p.m.', u'2/16/05, 1:43 p.m.', u'2/18/05, 8:41 a.m.',\n",
       "       u'2/24/05, 1:05 a.m.', u'3/08/05, 3:00 p.m.',\n",
       "       u'4/06/05, 12:00 p.m. ', u'4/22/05, 3:59 p.m.',\n",
       "       u'4/23/05, 4:48 a.m.', u'4/27/05, 6:00 a.m.',\n",
       "       u'4/30/05, 10:00 a.m.', u'5/08/05, 10:00 p.m.',\n",
       "       u'5/11/05, 8:31 p.m.', u'5/30/05, 2:30 a.m.', u'6/10/05, 7:30 a.m.',\n",
       "       u'6/07/05, 6:00 p.m.', u'6/08/05, 6:00 p.m.',\n",
       "       u'6/07/05, 10:00 p.m.', u'6/10/05, 10:00 p.m.',\n",
       "       u'6/20/05, 5:15 pm.', u'6/24/05, 11:06 p.m.', u'Ongoing',\n",
       "       u'7/04/05, 11:30 p.m.', u'7/02/05, 1:46 a.m.',\n",
       "       u'7/06/05, 9:00 a.m.', u'7/12/05, 8:00 a.m.', u'7/11/05, 5:33 pm.',\n",
       "       u'7/21/05, 5:30 p.m.', u'7/22/05, 6:00 p.m.',\n",
       "       u'7/26/05, 10:50 a.m.', u'7/28/05, 9:24 p.m.',\n",
       "       u'7/30/05, 9:07 p.m.', u'7/29/05, 4:00 p.m.', u'8/01/05, 5:00 p.m.',\n",
       "       u'8/01/05, 10:47 a.m.', u'8/08/05, 4:00 p.m.',\n",
       "       u'8/19/05, 8:15 p.m.', u'8/20/05, 4:21 p.m. ',\n",
       "       u'8/25/05, 8:00 p.m.', u'8/25/05,  8:00 p.m.',\n",
       "       u'8/29/05, 12:42 p.m.', u'8/30/05, 6:00 a.m.',\n",
       "       u'9/07/05, 3:00 p.m.', u'8/29/05, 10:00 p.m.',\n",
       "       u'9/10/05, 12:00 p.m.', u'9/08/05,12:01 a.m.',\n",
       "       u'9/12/05, 8:00 a.m.', u'9/12/05, 1:56 p.m.', u'9/13/05, 2:29 p.m.',\n",
       "       u'9/16/05, 8:00 p.m.', u'9/15/05, 3:00 p.m.',\n",
       "       u'9/27/05, 11:00 p.m.', u'9/26/05, 11:30 p.m.',\n",
       "       u'9/29/05, 12:00 p.m.', u'9/28/05, 11:29 a.m.',\n",
       "       u'10/06/05, 2:30 p.m.', u'9/24/05, 8:00 p.m.',\n",
       "       u'9/25/05, 7:30 a.m.', u' 10/02/05, 5:00 p.m.',\n",
       "       u'9/28/05, 6:00 p.m.', u'10/02/05, 5:54 p.m.',\n",
       "       u'10/18/05, 3: 37 p.m.', u'10/22/05, 11:40 a.m.',\n",
       "       u'10/24/05, 2:00 p.m.', u'10/24/05, 4:00 p.m.',\n",
       "       u'11/10/05, 12:00 a.m.', u'11/02/05, 4:30 p.m.',\n",
       "       u'11/03/05, 7:00 p.m.', u'11/11/05, 11:30  p.m.',\n",
       "       u'11/14/05, 6:00 p.m.', u'11/14/05, 11:59 p.m.',\n",
       "       u'12/21/05, 5:00 p.m.', u'12/16/05, 12:10  p.m.',\n",
       "       u'01/05/06, 9:00 a.m.', u'5:30 p.m. January 16',\n",
       "       u'6:34 p.m. January 18', u'12:01 a.m. February 06',\n",
       "       u'8:00  a.m. February 08', u'11:00 p.m. February 14',\n",
       "       u'5:44 p.m.   February 14', u'4:00 p.m. February 14',\n",
       "       u'7:00 a.m. February 13', u'2:00 p.m. February 12',\n",
       "       u'11:00 p.m. February 20', u'12:00 p.m. February 17',\n",
       "       u'4:09 p.m. February 18', u'2:30 p.m. March 01',\n",
       "       u'10:00 p.m. March 09', u'12:00 p.m. March 14',\n",
       "       u'4:25 a.m. April 05', u'9:29 a.m. April 07',\n",
       "       u'11:00 a.m. April 08', u'7:30 p.m. April 17',\n",
       "       u'6:11 p.m. April 17', u'7:20 p.m. April 17', u'6:30 p.m. April 17',\n",
       "       u'6:10 p.m. April 17', u'10:00 a.m. April 21',\n",
       "       u'3:45 p.m. April 29', u'9:35 p.m. May 03', u'2:45 p.m. May 04',\n",
       "       u'10:30 p.m. May 19', u'9:00 a.m. May 27', u'6:09 p.m. June 01',\n",
       "       u'9:00 a.m. June 03', u'2:00 p.m. June 03', u'9:00 p.m. June 11',\n",
       "       u'11:00 p.m. June 27', u'12:31 a.m. July 03', u'8:18 p.m. July 04',\n",
       "       u'12:00 a.m. July 21', u'3:06 a.m. July 25', u'9:00 a.m. July 18',\n",
       "       u'11:59 p.m. July 23', u'10:32 p.m. July 18', u'5:54 p.m. July 19',\n",
       "       u'8:00 a.m. July 31', u'4:00 p.m. July 27', u'5:33 p.m. July 24',\n",
       "       u'9:36 p.m. July 29', u'7:00 p.m. August 01',\n",
       "       u'8:30 p.m. August 01', u'4:45 p.m. August 02',\n",
       "       u'4:35 p.m. August 02', u'1:00 a.m. August 03',\n",
       "       u'2:46 p.m. August 03', u'6:00 p.m. August 07',\n",
       "       u'12:00 p.m. August 12', u'11:25 p.m. August 24',\n",
       "       u'10:00 a.m. September 01', u'3:25 p.m. September 03',\n",
       "       u'2:00 p.m. September 04', u'11:00 p.m. September 04',\n",
       "       u'5:00 p.m. September 04', u'9:08 a.m. September 14',\n",
       "       u'10:10 p.m. September 28', u'6:00 p.m. October 03',\n",
       "       u'8:39 p.m. October 02', u'9:59 p.m. October 03',\n",
       "       u'12:00 a.m. October 23', u'11:00 p.m. October 21',\n",
       "       u'4:12 p.m. October 15', u'2:55 p.m. October 16',\n",
       "       u'5:00 p.m. October 22', u'5:10 p.m. October 27',\n",
       "       u'8:00 p.m. November 15', u'2:35 a.m. November 19',\n",
       "       u'5:00 p.m. November 15', u'6:00 p.m. December 02',\n",
       "       u'6:00 p.m. December 09', u'6:00 a.m. December 02',\n",
       "       u'10:14 p.m. December 10', u'11:59 p.m. December 28',\n",
       "       u'8:00 a.m. December 15', u'10:00 p.m. December 20',\n",
       "       u'2:34 p.m. December 31', u'12:00 p.m. December 17',\n",
       "       u'4:00 p.m. December 16', u'8:00 p.m. December 17',\n",
       "       u'1:00 a.m. December 17', u'9:13 a.m. December 31',\n",
       "       u'6:59 p.m. December 31', u'2:25 p.m. January 06',\n",
       "       u'11:13 a.m. January 05', u'12:00 p.m. January 19',\n",
       "       u'4:00 p.m. January 19', u'12:00 a.m. January 17',\n",
       "       u'12:00 a.m. February 16', u'5:30 a.m. February 17',\n",
       "       u'12:57 a.m. March 04', u'11:47 p.m. February 24',\n",
       "       u'12:47 a.m. February 25', u'8:45 p.m. March 02',\n",
       "       u'11:30 p.m. March 02', u'7:00 p.m. March 31',\n",
       "       u'1:10 p.m. April 06', u'9:02 p.m. April 12',\n",
       "       u'11:23 a.m. April 12', u'11:00 a.m. April 14',\n",
       "       u'7:00 p.m. April 16', u'10:18 p.m. April 18',\n",
       "       u'5:00 p.m. April 18', u'7:03 p.m. April 16', u'8:00 p.m. May 03',\n",
       "       u'1:47 p.m. May 10', u'1:50 p.m. May 14', u'7:00 a.m. May 17',\n",
       "       u'5:00 a.m. May 19', u'4:50 p.m. May 21', u'11:51 a.m. June 05',\n",
       "       u'4:30 p.m. June 27', u'10:09 a.m. June 29', u'6:00 p.m. July 05',\n",
       "       u'7:00 a.m. July 08', u'6:20 p.m. July 06', u'6:00 a.m. July 12',\n",
       "       u'9:00 p.m. July 16', u'2:00 a.m. July 19', u'11:30 p.m. July 22',\n",
       "       u'10:15 p.m. July 19', u'9:00 p.m. August 08',\n",
       "       u'5:59 p.m. August 08', u'9:00 p.m. August 09',\n",
       "       u'4:11 p.m. August 09', u'9:00 p.m. August 10',\n",
       "       u'12:00 a.m. August 14', u'6:00 p.m. August 14',\n",
       "       u'10:49 p.m. August 17', u'1:10 a.m. August 20',\n",
       "       u'10:49 p.m. August 28', u'6:30 a.m. August 28',\n",
       "       u'2:57 p.m. August 29', u'6:00 p.m. August 30',\n",
       "       u'8:00 p.m. August 31', u'5:30 p.m. September 03',\n",
       "       u'3:30 p.m. September 04', u'1:11 p.m. September 05',\n",
       "       u'7:00 a.m. September 14', u'7:48 p.m. September 17',\n",
       "       u'6:10 a.m. September 18', u'6:30 a.m. September 18',\n",
       "       u'12:00 a.m. September 18', u'4:26 p.m. September 24',\n",
       "       u'11:36 a.m. October 22', u'2:22 p.m. October 22',\n",
       "       u'2:43 p.m. October 22', u'10:46 a.m. October 26',\n",
       "       u'10:43 a.m. October 26', u'6:00 a.m. November 04',\n",
       "       u'10:00 p.m. December 02', u'5:53 p.m. December 04',\n",
       "       u'8:00 a.m. December 19', u'3:30 p.m. December 20',\n",
       "       u'9:22 p.m. December 11', u'9:00 p.m. December 23',\n",
       "       u'6:07 p.m. December 25', u'5:00 p.m. January 14',\n",
       "       u'4:30 p.m. January 04', u'12:17 p.m. January 29',\n",
       "       u'8:00 a.m February 03', u'6:30 p.m. February 01',\n",
       "       u'12:48 a.m. January 30', u'2:50 p.m. February 01',\n",
       "       u'7:49 a.m. February 01', u'4:27 p.m. February 02',\n",
       "       u'3:00 a.m. February 06', u'11:00 a.m. February 06',\n",
       "       u'3:33 p.m. February 09', u'8:43 p.m. February 12',\n",
       "       u'11:36 p.m. February 10', u'5:05 p.m. February 14',\n",
       "       u'4:00 a.m. February 11', u'5:00 p.m. February 15',\n",
       "       u'12:00 p.m. February 14', u'10:46 a.m. February 14',\n",
       "       u'7:36 p.m. February 15', u'8:00 a.m. March 12',\n",
       "       u'3:00 p.m. February 26', u'2:10 p.m. February 26',\n",
       "       u'2:40 p.m. February 26', u'4:11 p.m. February 26',\n",
       "       u'1:47 p.m. February 26', u'3:45 p.m. February 26',\n",
       "       u'10:45 p.m. March 04', u'9:59 p.m. March 08',\n",
       "       u'1:44 p.m. March 10', u'8:30 p.m. March 16', u'5:00 p.m. April 04',\n",
       "       u'1:15 a.m. April 13', u'12:56 a.m. May 08', u'2:30 p.m. May 12',\n",
       "       u'8:43 p.m. May 11', u'12:00 a.m. May 14', u'3:52 p.m. May 27',\n",
       "       u'11:00 p.m. May 30', u'8:00 p.m. May 30', u'11:59 p.m. June 04',\n",
       "       u'11:00 p.m. June 07', u'1:00 a.m. June 05', u'5:30 a.m. June 07',\n",
       "       u'9:30 p.m. June 05', u'3:46 p..m. June 04', u'8:00 a.m. June 12',\n",
       "       u'7:00 a.m. June 09', u'11:30 p.m. June 16', u'7:00 p.m. June 09',\n",
       "       u'8:25 p.m. June 09', u'5:30 p.m. June 13', u'6:00 p.m. June 10',\n",
       "       u'11:30 a.m. June 14', u'3:59 p.m. June 14', u'9:00 a.m. June 11',\n",
       "       u'2:05 p.m. June 11', u'4:00 p.m. June 18', u'8:00 p.m. June 15',\n",
       "       u'8:42 p.m. June 15', u'11:19 p.m. June 16', u'8:30 p.m. June 19',\n",
       "       u'1:55 a.m. June 18', u'11:00 p.m. June 17', u'6:53 p.m. June 21',\n",
       "       u'5:05 p.m. June 22', u'1:45 p.m. June 23', u'11:28 p.m. June 23',\n",
       "       u'9:30 p.m. June 26', u'5:30 p.m. June 27', u'12:00 p.m. July 01',\n",
       "       u'12:00 p.m. July 06', u'11:28 p.m. July 02', u'1:10 a.m. July 03',\n",
       "       u'3:00 a.m. July 03', u'5:00 p.m. July 10', u'5:21 p.m. July 10',\n",
       "       u'6:00 p.m. July 22', u'7:32 p.m. July 24', u'3:30 a.m. July 23',\n",
       "       u'5:09 a.m. July 24', u'4:00 a.m. July 31', u'5:41 p.m. July 24',\n",
       "       u'5:30 a.m. August 03', u'4:15 a.m. August 03',\n",
       "       u'8:00 a.m. August 06', u'9:50 a.m. August 05',\n",
       "       u'8:46 p.m. August 09', u'5:00 p.m. August 15',\n",
       "       u'7:30 a.m. August 16', u'3:00 p.m. August 16',\n",
       "       u'6:44 p.m. August 19', u'10:00 p.m. August 22',\n",
       "       u'8:00 a.m. August 25', u'12:00 p.m. August 23',\n",
       "       u'2:00 p.m. August 24', u'9:00 a.m. September 19',\n",
       "       u'9:00 a.m. September 03', u'7:22 p.m. September 13',\n",
       "       u'4:00 p.m. September 10', u'10:30 a.m. September 06',\n",
       "       u'4:06 p.m. September 06', u'12:28 a.m. September 09',\n",
       "       u'1:00 p.m. September 14', u'11:59 p.m. October 01',\n",
       "       u'7:00 p.m. September 27', u'2:40 p.m. September 27',\n",
       "       u'8:00 a.m. September 15', u'7:44 p.m. September 16',\n",
       "       u'2:38 p.m. September 14', u'3:00 p.m. September 18',\n",
       "       u'5:00 p.m. September 21', u'4:30 p.m. September 14',\n",
       "       u'12:00 p.m. September 17', u'11:00 p.m. September 20',\n",
       "       u'12:38 p.m. September 19', u'5:11 p.m. September 22',\n",
       "       u'3:20 a.m. September 22', u'11:59 p.m. September 14',\n",
       "       u'4:30 p.m. September 19', u'6:39 a.m. September 22',\n",
       "       u'2:05 p.m. September 30', u'9:50 a.m. October 02',\n",
       "       u'7:00 a.m. October 27', u'11:54 a.m. November 07',\n",
       "       u'12:19 a.m. November 11', u'10:10 a.m. November 15',\n",
       "       u'7:00 a.m. December 02', u'4:12 a.m. December 10',\n",
       "       u'8:29 p.m. December 10', u'11:59 p.m. December 13',\n",
       "       u'12:00 a.m. December 15', u'12:00 a.m. December 22',\n",
       "       u'1:24 p.m. December 19', u'9:52 a.m. December 14',\n",
       "       u'9:17 a.m. December 21', u'6:17 a.m. December 19',\n",
       "       u'12:00 p.m. December 22', u'8:20 a.m. December 20',\n",
       "       u'3:34 p.m. December 26', u'5:00 p.m. December 27',\n",
       "       u'11:30 p.m. January 01', u'6:00 p.m. December 31',\n",
       "       u'11:30 p.m. December 28', u'4:37 p.m. December 30',\n",
       "       u'6:00 p.m. January 06', u'8:05 p.m. January 07',\n",
       "       u'11:25 a.m. January 09', u'8:00 a.m. January 25',\n",
       "       u'5:05 p.m. January 22', u'4:30 p.m. January 29',\n",
       "       u'5:15 p.m. January 31', u'7:30 p.m. February 04',\n",
       "       u'6:00 p.m. January 30', u'5:00 p.m. February 03',\n",
       "       u'9:00 a.m. January 29', u'6:00 a.m. January 29',\n",
       "       u'10:17 p.m. January 27', u'9:20 p.m. January 30',\n",
       "       u'8:03 a.m. February 13', u'5:00 p.m. February 07',\n",
       "       u'6:00 p.m. February 05', u'8:00 a.m. February 05',\n",
       "       u'12:00 p.m. February 11', u'5:00 p.m. February 13',\n",
       "       u'8:10 p.m. February 16', u'11:00 a.m. February 12',\n",
       "       u'12:00 p.m. February 12', u'6:00 a.m. February 12',\n",
       "       u'10:00 p.m. February 15', u'3:00 a.m. February 15',\n",
       "       u'1:46 p.m. February 24', u'3:00 a.m. March 01',\n",
       "       u'11:25 p.m. March 01', u'4:06 p.m. March 03',\n",
       "       u'6:00 p.m. March 03', u'6:05 a.m. April 26', u'8:17 p.m. March 04',\n",
       "       u'11:45 p.m. March 08', u'12:00 p.m. April 08',\n",
       "       u'2:30 a.m. April 11', u'12:29 a.m. April 24',\n",
       "       u'7:58 p.m. April 23', u'11:21 a.m. April 24',\n",
       "       u'1:00 a.m. April 29', u'11:30 a.m. April 28', u'9:00 a.m. May 08',\n",
       "       u'11:20 p.m. May 14', u'7:57 p.m. May 29', u'8:18 p.m. June 05',\n",
       "       u'5:00 a.m. June 11', u'10:00 a.m. June 14', u'6:53 p.m. June 12',\n",
       "       u'11:59 p.m. June 15', u'6:00 p.m. June 13', u'2:00 a.m. June 17',\n",
       "       u'11:00 p.m. June 21', u'11:59 p.m. June 19', u'10:00 p.m. June 24',\n",
       "       u'7:00 p.m. June 25', u'8:00 p.m. June 28', u'9:00 a.m. June 27',\n",
       "       u'9:00 a.m. June 29', u'1:25 a.m. July 03', u'7:00 p.m. July 07',\n",
       "       u'7:00 p.m. July 08', u'6:00 p.m. July 14', u'6:00 p.m. July 15',\n",
       "       u'6:00 p.m. July 16', u'9:00 p.m. July 19', u'7:00 p.m. July 22',\n",
       "       u'8:43 a.m. July 21', u'5:47 a.m. July 27', u'8:33 p.m. July 28',\n",
       "       u'1:09 p.m. August 03', u'7:00 p.m. August 05',\n",
       "       u'10:00 p.m. August 11', u'9:59 a.m. August 10',\n",
       "       u'10:00 a.m. August 12', u'8:00 a.m. August 22',\n",
       "       u'2:01 p.m. August 29', u'11:53 p.m. August 29',\n",
       "       u'12:00 a.m. August 31', u'11:00 p.m. October 09',\n",
       "       u'7:10 p.m. October 09', u'4:00 p.m. October 11',\n",
       "       u'2:34 p.m. October 13', u'5:50 p.m. October 13',\n",
       "       u'10:30 p.m. October 13', u'4:25 a.m. November 14',\n",
       "       u'10:00 a.m. November 18', u'4:00 a.m. December 08',\n",
       "       u'11:00 a.m. December 10', u'12:00 p.m. December 08',\n",
       "       u'6:30 a.m. December 10', u'8:00 a.m. December 12',\n",
       "       u'9:30 p.m. December 25', u'11:15 p.m. December 19',\n",
       "       u'6:00 p.m. January 08', u'9:57 a.m. January 11',\n",
       "       u'8:00 a.m. January 28', u'12:24 p.m. January 19',\n",
       "       u'3:00 p.m. January 20', u'6:10 p.m. January 24',\n",
       "       u'12:00 p.m. February 02', u'5:00 p.m. February 01',\n",
       "       u'4:00 p.m. February 13', u'3:46 p.m. February 12',\n",
       "       u'2:38 a.m. February 07', u'7:00 a.m. February 07',\n",
       "       u'9:00 a.m. February 06', u'9:00 p.m. February 15',\n",
       "       u'5:00 p.m. February 12', u'4:01 a.m. February 20',\n",
       "       u'4:00 p.m. February 25', u'9:00 p.m. February 26',\n",
       "       u'7:00 p.m. March 02', u'4:40 p.m. March 01', u'6:40 p.m. March 16',\n",
       "       u'8:05 p.m. March 15', u'4:00 p.m. March 17',\n",
       "       u'12:00 a.m. March 16', u'12:59 p.m. March 20',\n",
       "       u'9:00 a.m. March 20', u'12:55 a.m. April 01',\n",
       "       u'12:38 a.m. April 01', u'8:00 p.m. April 21',\n",
       "       u'2:55 p.m. April 27', u'7:30 p.m. May 09', u'10:46 p.m. May 18',\n",
       "       u'3:00 p.m. May 26', u'12:30 a.m. June 18', u'8:00 a.m. June 04',\n",
       "       u'5:35 a.m. June 06', u'1:00 a.m. June 08', u'5:00 p.m. June 08',\n",
       "       u'3:00 p.m. June 09', u'11:32 a.m. June 16', u'5:47 p.m. June 17',\n",
       "       u'5:17 p.m. June 17', u'4:40 p.m. June 17', u'11:02 a.m. June 17',\n",
       "       u'12:30 a.m. June 20', u'1:00 p.m. June 20', u'5:00 a.m. June 19',\n",
       "       u'10:45 a.m. June 21', u'7:30 p.m. June 22', u'8:31 p.m. June 22',\n",
       "       u'7:00 p.m. June 22', u'1:40 p.m. June 25', u'2:21 a.m. June 24',\n",
       "       u'12:00 p.m. June 29', u'11:59 p.m. June 29', u'1:38 a.m. June 26',\n",
       "       u'4:37 a.m. July 06', u'10:29 p.m. July 07', u'11:30 p.m. July 19',\n",
       "       u'10:00 p.m. July 19', u'8:00 p.m. July 21', u'11:55 p.m. July 24',\n",
       "       u'6:30 p.m. July 26', u'11:30 p.m. July 30', u'6:00 p.m. July 27',\n",
       "       u'8:06 p.m. July 25', u'8:07 p.m. July 29', u'7:26 p.m. July 29',\n",
       "       u'11:00 p.m. August 02', u'11:00 a.m. August 04',\n",
       "       u'10:00 p.m. August 04', u'12:00 a.m. August 07',\n",
       "       u'4:00 a.m. August 06', u'10:00 p.m. August 05',\n",
       "       u'12:00 a.m. August 08', u'12:00 p.m. August 16',\n",
       "       u'12:12 p.m. August 11', u'9:00 p.m. August 12',\n",
       "       u'11:00 a.m. August 12', u'10:10 p.m. August 12',\n",
       "       u'3:30 p.m. August 23', u'9:30 a.m. August 24',\n",
       "       u'12:44 p.m. September 01', u'1:27 a.m. September 08',\n",
       "       u'5:30 p.m. September 20', u'2:30 p.m. September 22',\n",
       "       u'11:00 p.m. September 22', u'12:00 a.m. September 26',\n",
       "       u'11:30 p.m. September 24', u'6:12 p.m. September 27',\n",
       "       u'6:00a.m. October 07', u'11:00 a.m. October 28',\n",
       "       u'10:00 p.m. October 28', u'12:00 p.m. October 27',\n",
       "       u'7:00 a.m. October 29', u'4:00 a.m. October 29',\n",
       "       u'5:27 p.m. October 27', u'1:45 a.m. November 01',\n",
       "       u'10:47 a.m. November 04', u'6:08 p.m. November 06',\n",
       "       u'6:00 p.m. November 08', u'10:00 p.m. November 14',\n",
       "       u'2:14 a.m. November 16', u'4:46 p.m. November 24',\n",
       "       u'8:00 p.m. November 24', u'6:12 p.m. November 23',\n",
       "       u'2:00 a.m. December 04', u'2:00 p.m. December 15',\n",
       "       u'7:25 a.m. December 14', u'9:00 a.m. December 15',\n",
       "       u'10:00 p.m. December 19', u'4:15 p.m. December 26',\n",
       "       u'6:00 a.m. January 12'], dtype=object)"
      ]
     },
     "execution_count": 33,
     "metadata": {},
     "output_type": "execute_result"
    }
   ],
   "source": [
    "data_1.restoration_date.unique()"
   ]
  },
  {
   "cell_type": "code",
   "execution_count": 34,
   "metadata": {
    "collapsed": false
   },
   "outputs": [],
   "source": [
    "data_1['event_year']= data_1['event_date'].dt.year"
   ]
  },
  {
   "cell_type": "markdown",
   "metadata": {},
   "source": [
    "There are different formats that the individual rows in restoration_date column take. My solution is to force the rows to convert into datetime and then observe the rows that were not converted successfully. I can then make changes to those rows and then convert them to datetime.datetime."
   ]
  },
  {
   "cell_type": "code",
   "execution_count": 35,
   "metadata": {
    "collapsed": false
   },
   "outputs": [
    {
     "name": "stdout",
     "output_type": "stream",
     "text": [
      "After parsing the rest_date, how many missing values are there? 22\n"
     ]
    }
   ],
   "source": [
    "data_1['rest_date']=pd.to_datetime(data_1['restoration_date'],errors='coerce') #coerce rows to be converted\n",
    "data_1['rest_year']=data_1['event_year']\n",
    "print \"After parsing the rest_date, how many missing values are there?\", data_1.rest_date.isnull().sum()\n"
   ]
  },
  {
   "cell_type": "markdown",
   "metadata": {},
   "source": [
    "Clearly parsing the dates through coercion led to missing values. Let's look at these rows and see why they didn't parse"
   ]
  },
  {
   "cell_type": "markdown",
   "metadata": {},
   "source": [
    "Some of these rows have noon or midnight in them. I can easily replace them with p.m and a.m. respectively. "
   ]
  },
  {
   "cell_type": "code",
   "execution_count": 36,
   "metadata": {
    "collapsed": false
   },
   "outputs": [],
   "source": [
    "rest=[]\n",
    "for i in range(len(data_1)): \n",
    "    if data_1.restoration_date.str.contains('12:00 midnight')[i] == True:\n",
    "        rest.append(data_1['restoration_date'].str.replace('12:00 midnight','12:00 a.m.')[i])\n",
    "    elif data_1['restoration_date'].str.contains('12:00 noon')[i] == True:\n",
    "        rest.append(data_1['restoration_date'].str.replace('12:00 noon','12:00 p.m.')[i])\n",
    "    elif data_1['restoration_date'].str.contains('Noon')[i] == True:\n",
    "        rest.append(data_1['restoration_date'].str.replace('Noon','12:00 p.m.')[i]) \n",
    "    elif data_1['restoration_date'].str.contains('12 noon')[i] == True:\n",
    "        rest.append(data_1['restoration_date'].str.replace('12 noon','12:00 p.m.')[i])\n",
    "    elif data_1['restoration_date'].str.contains('9/08/05,12:01 a.m.')[i] == True:\n",
    "        rest.append(data_1['restoration_date'].str.replace('9/08/05,12:01 a.m.','9/08/05, 12:01 a.m.')[i])\n",
    "    elif data_1['restoration_date'].str.contains('10/18/05, 3: 37 p.m.')[i] == True:\n",
    "        rest.append(data_1['restoration_date'].str.replace('10/18/05, 3: 37 p.m.','10/18/05, 3:37 p.m.')[i])\n",
    "    else:\n",
    "        rest.append(data_1['restoration_date'][i])\n",
    "data_1['rest_date']=rest\n"
   ]
  },
  {
   "cell_type": "code",
   "execution_count": 37,
   "metadata": {
    "collapsed": false
   },
   "outputs": [],
   "source": [
    "data_1['rest_date']=pd.to_datetime(data_1.rest_date,errors='coerce')\n"
   ]
  },
  {
   "cell_type": "markdown",
   "metadata": {},
   "source": [
    "After correcting the issues, the only rows that did not convert are those labeled ongoing or unknown (A total of 12 rows out of 800 rows)."
   ]
  },
  {
   "cell_type": "markdown",
   "metadata": {},
   "source": [
    "While converting the dates, some rows ended up with year 2016 because the year wasn't explicity accounted for in the dataset. These dates need to be changed to the actual dates. \n",
    "\n",
    "I also have to account for cases(those with year 2016) where the blackout happens at the end of the year(december) and recovery is completed at the beginning of the next year"
   ]
  },
  {
   "cell_type": "code",
   "execution_count": 38,
   "metadata": {
    "collapsed": false
   },
   "outputs": [],
   "source": [
    "rest_datetime=[]\n",
    "for i in range(len(data_1)): \n",
    "    if data_1['rest_date'].dt.year[i]==2016 and data_1['event_date'].dt.month[i]<12:\n",
    "        rest_datetime.append(data_1['rest_date'][i].replace(year = data_1['event_year'][i]))\n",
    "    elif data_1['rest_date'].dt.year[i]==2016 and data_1['event_date'].dt.month[i]==12 and data_1['rest_date'].dt.month[i]==1:\n",
    "        rest_datetime.append(data_1['rest_date'][i].replace(year=data_1['event_year'][i] + 1 ))\n",
    "    elif data_1['rest_date'].dt.year[i]==2016 and data_1['event_date'].dt.month[i]==12 and data_1['rest_date'].dt.month[i]==12:\n",
    "        rest_datetime.append(data_1['rest_date'][i].replace(year=data_1['event_year'][i]))\n",
    "    else:\n",
    "        rest_datetime.append(data_1['rest_date'][i])\n",
    "data_1['restoration_datetime']=rest_datetime"
   ]
  },
  {
   "cell_type": "code",
   "execution_count": 39,
   "metadata": {
    "collapsed": false
   },
   "outputs": [],
   "source": [
    "data_1['blackout_duration']=data_1.restoration_datetime-data_1.event_datetime #this is how long it took to restore power fully\n"
   ]
  },
  {
   "cell_type": "markdown",
   "metadata": {},
   "source": [
    "## Let's look at data_2 (2011 to 2014) and clean it up as well."
   ]
  },
  {
   "cell_type": "code",
   "execution_count": 40,
   "metadata": {
    "collapsed": false
   },
   "outputs": [
    {
     "data": {
      "text/plain": [
       "{0, u'Date Event Began'}"
      ]
     },
     "execution_count": 40,
     "metadata": {},
     "output_type": "execute_result"
    }
   ],
   "source": [
    "check_datetime(data_2,'event_date')"
   ]
  },
  {
   "cell_type": "code",
   "execution_count": 41,
   "metadata": {
    "collapsed": true
   },
   "outputs": [],
   "source": [
    "data_2=data_2[data_2.event_date != 'Date Event Began']"
   ]
  },
  {
   "cell_type": "code",
   "execution_count": 42,
   "metadata": {
    "collapsed": true
   },
   "outputs": [],
   "source": [
    "data_2=data_2.reset_index()"
   ]
  },
  {
   "cell_type": "code",
   "execution_count": 43,
   "metadata": {
    "collapsed": true
   },
   "outputs": [],
   "source": [
    "data_2['event_date']=data_2.event_date.apply(convert_date)"
   ]
  },
  {
   "cell_type": "code",
   "execution_count": 44,
   "metadata": {
    "collapsed": false
   },
   "outputs": [],
   "source": [
    "data_2['event_time']=data_2['event_time'].apply(convert_time)"
   ]
  },
  {
   "cell_type": "code",
   "execution_count": 45,
   "metadata": {
    "collapsed": false
   },
   "outputs": [],
   "source": [
    "data_2['event_datetime']=convert_datetime(data_2,'event_date','event_time')"
   ]
  },
  {
   "cell_type": "code",
   "execution_count": 46,
   "metadata": {
    "collapsed": false
   },
   "outputs": [
    {
     "data": {
      "text/plain": [
       "{0, u'Ongoing', u'Unknown'}"
      ]
     },
     "execution_count": 46,
     "metadata": {},
     "output_type": "execute_result"
    }
   ],
   "source": [
    "check_datetime(data_2,'restoration_date')"
   ]
  },
  {
   "cell_type": "markdown",
   "metadata": {},
   "source": [
    "The only non datetime rows in restoration_date variable are 'onging' and 'unknown'. We can change those to missing data."
   ]
  },
  {
   "cell_type": "code",
   "execution_count": 47,
   "metadata": {
    "collapsed": false
   },
   "outputs": [],
   "source": [
    "data_2['restoration_date']=data_2.restoration_date.apply(convert_date)"
   ]
  },
  {
   "cell_type": "code",
   "execution_count": 48,
   "metadata": {
    "collapsed": false
   },
   "outputs": [],
   "source": [
    "data_2['restoration_time']=data_2.restoration_time.apply(convert_time)"
   ]
  },
  {
   "cell_type": "code",
   "execution_count": 49,
   "metadata": {
    "collapsed": false
   },
   "outputs": [],
   "source": [
    "data_2['restoration_datetime']=convert_datetime(data_2,'restoration_date','restoration_time')"
   ]
  },
  {
   "cell_type": "code",
   "execution_count": 50,
   "metadata": {
    "collapsed": false
   },
   "outputs": [
    {
     "data": {
      "text/plain": [
       "array([ 2001.,  2011.,  2012.,  2013.,  2014.,  2015.,  2077.,    nan])"
      ]
     },
     "execution_count": 50,
     "metadata": {},
     "output_type": "execute_result"
    }
   ],
   "source": [
    "np.sort(data_2.restoration_datetime.dt.year.unique() )"
   ]
  },
  {
   "cell_type": "markdown",
   "metadata": {},
   "source": [
    "Because the dataset is from 2011 to 2014, it is very obvious that the values 2001 and 2077 have no place in the data. 2015 could occur if the blackout happended late in 2014 and recovery wasn't concluded untill 2015"
   ]
  },
  {
   "cell_type": "code",
   "execution_count": 51,
   "metadata": {
    "collapsed": false
   },
   "outputs": [
    {
     "data": {
      "text/html": [
       "<div>\n",
       "<table border=\"1\" class=\"dataframe\">\n",
       "  <thead>\n",
       "    <tr style=\"text-align: right;\">\n",
       "      <th></th>\n",
       "      <th>index</th>\n",
       "      <th>event_date</th>\n",
       "      <th>event_time</th>\n",
       "      <th>restoration_date</th>\n",
       "      <th>restoration_time</th>\n",
       "      <th>utility</th>\n",
       "      <th>Area Affected</th>\n",
       "      <th>powerpool</th>\n",
       "      <th>type</th>\n",
       "      <th>demand_loss</th>\n",
       "      <th>customers</th>\n",
       "      <th>event_datetime</th>\n",
       "      <th>restoration_datetime</th>\n",
       "    </tr>\n",
       "  </thead>\n",
       "  <tbody>\n",
       "    <tr>\n",
       "      <th>41</th>\n",
       "      <td>44</td>\n",
       "      <td>2011-03-08</td>\n",
       "      <td>08:00:00</td>\n",
       "      <td>2001-03-18</td>\n",
       "      <td>09:00:00</td>\n",
       "      <td>AES Somerset</td>\n",
       "      <td>Western New York</td>\n",
       "      <td>NPCC</td>\n",
       "      <td>Fuel Supply Deficiency (Coal)</td>\n",
       "      <td>676</td>\n",
       "      <td>UNK</td>\n",
       "      <td>2011-03-08 08:00:00</td>\n",
       "      <td>2001-03-18 09:00:00</td>\n",
       "    </tr>\n",
       "    <tr>\n",
       "      <th>219</th>\n",
       "      <td>227</td>\n",
       "      <td>2011-08-27</td>\n",
       "      <td>23:05:00</td>\n",
       "      <td>2077-08-29</td>\n",
       "      <td>15:30:00</td>\n",
       "      <td>Pepco</td>\n",
       "      <td>District of Columbia; Maryland</td>\n",
       "      <td>RFC</td>\n",
       "      <td>Severe Weather</td>\n",
       "      <td>NaN</td>\n",
       "      <td>220000</td>\n",
       "      <td>2011-08-27 23:05:00</td>\n",
       "      <td>2077-08-29 15:30:00</td>\n",
       "    </tr>\n",
       "  </tbody>\n",
       "</table>\n",
       "</div>"
      ],
      "text/plain": [
       "     index event_date  event_time restoration_date  restoration_time  \\\n",
       "41      44 2011-03-08    08:00:00       2001-03-18          09:00:00   \n",
       "219    227 2011-08-27    23:05:00       2077-08-29          15:30:00   \n",
       "\n",
       "          utility                   Area Affected powerpool  \\\n",
       "41   AES Somerset                Western New York      NPCC   \n",
       "219         Pepco  District of Columbia; Maryland       RFC   \n",
       "\n",
       "                              type demand_loss customers      event_datetime  \\\n",
       "41   Fuel Supply Deficiency (Coal)         676       UNK 2011-03-08 08:00:00   \n",
       "219                 Severe Weather         NaN    220000 2011-08-27 23:05:00   \n",
       "\n",
       "    restoration_datetime  \n",
       "41   2001-03-18 09:00:00  \n",
       "219  2077-08-29 15:30:00  "
      ]
     },
     "execution_count": 51,
     "metadata": {},
     "output_type": "execute_result"
    }
   ],
   "source": [
    "data_2[(data_2.restoration_datetime.dt.year==2001) | (data_2.restoration_datetime.dt.year==2077)]"
   ]
  },
  {
   "cell_type": "code",
   "execution_count": 52,
   "metadata": {
    "collapsed": false
   },
   "outputs": [],
   "source": [
    "#replace 2077 and 2001 with 2011\n",
    "restoration_date=[]\n",
    "for i in range(len(data_2)):\n",
    "    if data_2['restoration_datetime'].dt.year[i]==2077 or data_2['restoration_datetime'].dt.year[i]==2001:\n",
    "        restoration_date.append(data_2.restoration_datetime[i].replace(year=2011))\n",
    "    else:\n",
    "        restoration_date.append(data_2.restoration_datetime[i])\n",
    "data_2['restoration_datetime']=restoration_date"
   ]
  },
  {
   "cell_type": "code",
   "execution_count": 53,
   "metadata": {
    "collapsed": true
   },
   "outputs": [],
   "source": [
    "data_2['blackout_duration'] = data_2.restoration_datetime-data_2.event_datetime"
   ]
  },
  {
   "cell_type": "markdown",
   "metadata": {},
   "source": [
    "## Look at data_00 (2000 and 2001 data)"
   ]
  },
  {
   "cell_type": "code",
   "execution_count": 54,
   "metadata": {
    "collapsed": false
   },
   "outputs": [
    {
     "data": {
      "text/plain": [
       "{'1/17/2001',\n",
       " '1/20/2001',\n",
       " '1/23/2000',\n",
       " '1/24/2000',\n",
       " '1/29/2000',\n",
       " '12/16/2000',\n",
       " '3/14/2000',\n",
       " '3/14/2001',\n",
       " '3/18/2000',\n",
       " '3/19/2001',\n",
       " '3/20/2001',\n",
       " '3/6/2001',\n",
       " '4/1/2000',\n",
       " '4/20/2000',\n",
       " '5/18/2000',\n",
       " '5/2/2000',\n",
       " '5/21/2000',\n",
       " '5/24/2000',\n",
       " '5/25/2000',\n",
       " '5/31/2000',\n",
       " '5/7/2001',\n",
       " '5/8/2000',\n",
       " '5/8/2001',\n",
       " '5/9/2000',\n",
       " '6/14/2000',\n",
       " '6/25/2001',\n",
       " '6/28/2000',\n",
       " '6/6/2001',\n",
       " '6/8/2001',\n",
       " '7/20/2000',\n",
       " '7/3/2000',\n",
       " '8/10/2000',\n",
       " '8/18/2000',\n",
       " '8/28/2000',\n",
       " '8/6/2000',\n",
       " '8/9/2000',\n",
       " '8/9/2001'}"
      ]
     },
     "execution_count": 54,
     "metadata": {},
     "output_type": "execute_result"
    }
   ],
   "source": [
    "check_datetime(data_00,'event_date')"
   ]
  },
  {
   "cell_type": "markdown",
   "metadata": {},
   "source": [
    "All the dates need to be converted to datetime"
   ]
  },
  {
   "cell_type": "code",
   "execution_count": 55,
   "metadata": {
    "collapsed": false
   },
   "outputs": [],
   "source": [
    "data_00['event_date']=data_00.event_date.apply(convert_date)\n",
    "data_00['restoration_date']=data_00.restoration_date.apply(convert_date)"
   ]
  },
  {
   "cell_type": "code",
   "execution_count": 56,
   "metadata": {
    "collapsed": false
   },
   "outputs": [
    {
     "data": {
      "text/plain": [
       "array(['1:45 a.m.', '8:15 a.m.', '9:17 a.m.', '3:00 p.m.', '11:50 a.m.',\n",
       "       '11:46 a.m.', '4:45 p.m.', '3:10 p.m.', '3:12 p.m.', '4:22 p.m.',\n",
       "       '7:00 p.m.', '1:25 p.m.', '3:11 p.m.', '8:00 a.m.', '10:00 p.m.',\n",
       "       '9:06 p.m.', '4:00 p.m.', '7:08 p.m.', nan, '4:00 a.m.',\n",
       "       '11:39 a.m.', '6:00 p.m.', '10:15 a.m.', '10:00 a.m.', '1:15 a.m.',\n",
       "       '1:13 p.m.', '3:45 p.m.', '3:54 p.m.', '5:52 p.m.', '6:30 p.m.',\n",
       "       '9:30 p.m.', '11:00 p.m.', '11:36 a.m.'], dtype=object)"
      ]
     },
     "execution_count": 56,
     "metadata": {},
     "output_type": "execute_result"
    }
   ],
   "source": [
    "data_00['event_time'].unique()"
   ]
  },
  {
   "cell_type": "code",
   "execution_count": 57,
   "metadata": {
    "collapsed": false
   },
   "outputs": [],
   "source": [
    "data_00['ET']=data_00['event_time'].apply(convert_time).dt.time.apply(convert_time)"
   ]
  },
  {
   "cell_type": "code",
   "execution_count": 58,
   "metadata": {
    "collapsed": false
   },
   "outputs": [],
   "source": [
    "data_00['RT']=data_00['restoration_time'].apply(convert_time).dt.time.apply(convert_time)"
   ]
  },
  {
   "cell_type": "code",
   "execution_count": 59,
   "metadata": {
    "collapsed": false
   },
   "outputs": [],
   "source": [
    "data_00['event_datetime']=convert_datetime(data_00,'event_date','ET')"
   ]
  },
  {
   "cell_type": "code",
   "execution_count": 60,
   "metadata": {
    "collapsed": true
   },
   "outputs": [],
   "source": [
    "data_00['restoration_datetime']=convert_datetime(data_00,'restoration_date','RT')"
   ]
  },
  {
   "cell_type": "code",
   "execution_count": 61,
   "metadata": {
    "collapsed": false
   },
   "outputs": [],
   "source": [
    "data_00['blackout_duration']=data_00.restoration_datetime-data_00.event_datetime"
   ]
  },
  {
   "cell_type": "markdown",
   "metadata": {},
   "source": [
    "### Merge data sets"
   ]
  },
  {
   "cell_type": "code",
   "execution_count": 62,
   "metadata": {
    "collapsed": true
   },
   "outputs": [],
   "source": [
    "data=pd.concat([data_1,data_2,data_00],ignore_index=True)"
   ]
  },
  {
   "cell_type": "code",
   "execution_count": 63,
   "metadata": {
    "collapsed": false
   },
   "outputs": [
    {
     "data": {
      "text/plain": [
       "(1736, 20)"
      ]
     },
     "execution_count": 63,
     "metadata": {},
     "output_type": "execute_result"
    }
   ],
   "source": [
    "data.shape"
   ]
  },
  {
   "cell_type": "code",
   "execution_count": 64,
   "metadata": {
    "collapsed": false
   },
   "outputs": [],
   "source": [
    "data['OutageDays']=data.blackout_duration.astype('timedelta64[D]') #This is the number of days without power"
   ]
  },
  {
   "cell_type": "code",
   "execution_count": 65,
   "metadata": {
    "collapsed": false
   },
   "outputs": [],
   "source": [
    "data['OutageinSeconds']=(pd.to_timedelta(data.blackout_duration).dt.days*60*60*24)+ pd.to_timedelta(data.blackout_duration,unit='s').dt.seconds"
   ]
  },
  {
   "cell_type": "code",
   "execution_count": 66,
   "metadata": {
    "collapsed": true
   },
   "outputs": [],
   "source": [
    "data['OutageinHours']=data['OutageinSeconds']/3600."
   ]
  },
  {
   "cell_type": "markdown",
   "metadata": {},
   "source": [
    "## Handle number of customers affected column"
   ]
  },
  {
   "cell_type": "code",
   "execution_count": 67,
   "metadata": {
    "collapsed": true
   },
   "outputs": [],
   "source": [
    "dd=[type(row) for row in data['customers']] # I want to see what type of data exists in this column"
   ]
  },
  {
   "cell_type": "code",
   "execution_count": 68,
   "metadata": {
    "collapsed": false
   },
   "outputs": [
    {
     "data": {
      "text/plain": [
       "{float, int, str, unicode}"
      ]
     },
     "execution_count": 68,
     "metadata": {},
     "output_type": "execute_result"
    }
   ],
   "source": [
    "set(dd)"
   ]
  },
  {
   "cell_type": "markdown",
   "metadata": {},
   "source": [
    "We have a combination of float, integer, strings and unicode. However, this column needs to be numeric"
   ]
  },
  {
   "cell_type": "code",
   "execution_count": 69,
   "metadata": {
    "collapsed": false
   },
   "outputs": [
    {
     "data": {
      "text/plain": [
       "array([1881134, 270000, 95000, 255000, 190000, 0, u'1 PG&E', 63500, 53565,\n",
       "       25000, 242910, 939000, 224912, 43000, 130000, u'1.5 million',\n",
       "       385000, 106000, 95630, nan, u'over 340,000', 425000, 160000, 68530,\n",
       "       139000, u'102,842 (Georgia)', 192000, 2, 179299, 47000, 1, 52000,\n",
       "       131000, 55142, 72000, 134500, 80000, 108000, 185000, 90000, 2100000,\n",
       "       101000, 1203000, u'unknown', 840137, 3125350,\n",
       "       u'93,000 at peak 133,000 cumulative', 153000, u'4 (industrial)',\n",
       "       u'1.8 million', u'peak 320,00 9/18/03 7:00 p.m.', 650000, 237366,\n",
       "       u'Under 50,000', u'Over 530,000 peak on 9/19/03',\n",
       "       u'108,000 (Dist. And Trans. Combined)', 245000, 51000, 110000,\n",
       "       50280, u'104,195 at 5:23 p.m. 11/13/03', 67000, 300000,\n",
       "       u'200,000 (Peak)', u'6 (utilities)', 36000, 16500, 120000, 109750,\n",
       "       241000, 263000, 145000, 18600, 150000, 30689, 9905,\n",
       "       u'Approx. 70,000', 87456, u' PG&E', 505000, 47165, 63000, 206000,\n",
       "       u'Approx. 100,000', u'85,000 at peak', 179000, 187000,\n",
       "       u'Approx. 940', u'62,500 at peak ', 281000, 127000,\n",
       "       u'94,366 at peak, ', 122600, 248209, u'Greater than 250,000',\n",
       "       500000, 59057, 56874, 120212, 30000, 35000, 50595, u'-', 88110,\n",
       "       42124, 135000, 61624, 200000, 61004, 182000, 259478, 502000,\n",
       "       1200000, 78000, 23000, 94000, 380000, 125000, 99816, 26000, 2775093,\n",
       "       268000, 65000, 832898, 99000, 1423590, 916316, 75000, 175000,\n",
       "       112000, 285300, 722000, 85455, u'All', 407440, 59458, 122000,\n",
       "       159870, 165000, 119000, 83450, 105312, 359171, 211000, 246990,\n",
       "       114791, 442000, 70717, 82000, 139438, 372288, 51600, u'PG&E',\n",
       "       116552, 51808, 243000, 123000, 201580, 105000, 143000, 600000,\n",
       "       51500, 114711, 132290, 287000, 228102, 50000, 128050, 133900, 55118,\n",
       "       93837, 64943, 87600, 52200, 47116, 71864, 50797, 409000,\n",
       "       u'1.1 million and 100,000 gas customers', 512049, 323529, 900000,\n",
       "       66480, 60000, 53000, 715000, 766000, 71240, 142591, 85682, 3241437,\n",
       "       84900, 303795, u'--', 118000, 48000, 272355, 683000, 52659, 1667316,\n",
       "       142315, 123827, 140000, 180000, 58000, 126000, 252089, 73000, 65400,\n",
       "       186000, 54700, 115589, 68000, 489478, u'8,000 -10,000', 51404,\n",
       "       164105, 55655, 94639, 210000, 29300, 111555, 70000, 195000, 315000,\n",
       "       170519, 492955, 8000, u'700,000 (peak)  2,500,000 (actual)',\n",
       "       1271893, u'Interruptible Tarriff 1-6 customers', 167564, 77000,\n",
       "       227480, u'Major Industrial Customer Load Reduction', 61000, 333000,\n",
       "       146094, 100000, 34716, 56500, 471932, 250000, 59886, 291000, 83000,\n",
       "       109000, 63992, 550000, 59106, 700000, 172060, 24, u'111,000 (peak)',\n",
       "       249500, 84500, 850068, 18386, 15000, 225000, 129607, 110433, 367500,\n",
       "       155183, 215000, 671189, 25445, 117142, 158977, 102568, 127545,\n",
       "       33000, 138000, 242000, 66000, 137000, 98700, 69000, 107000, 55000,\n",
       "       93300, 58500, 629590, 9600, 6000, u'GRE (1,900) Total 11,175',\n",
       "       11175, 90323, 68780, 20345, 104000, 62843, 256663, 237000, 134288,\n",
       "       2606931, 86915, 45000, 54316, 76000, 57000, 100969, 212560, 97342,\n",
       "       114618, 50718, 54000, 50462, 74031, 10008, 145380, 47661, 53965,\n",
       "       584384, 56000, 55267, 141130, 168449, 157744, 488689, 80539, 9700,\n",
       "       56400, 157168, 249408, 253800, 100948, 358000, 19, 75654, 248800,\n",
       "       198000, 21000, 115000, 234393, 18000, 37330, 477, 32593, 239663,\n",
       "       37784, 211266, 131115, 59500, 653000, 71823, 101950, 430000, 87390,\n",
       "       964000, 246092, 64463, 705000, 2142678, 2504366, 113247, 238392,\n",
       "       184501, 875000, 375000, 124596, 564728, 245164, 160875, 43600,\n",
       "       10000, 400000, 261000, 115500, 156729, 3, 91300, 970000, 169757,\n",
       "       638, 294000, 247847, 210517, 230000, 157019, 31000, 383000, 62500,\n",
       "       111818, 59402, 215700, 230300, 3500, 53700, 109527, 53600, 64801,\n",
       "       279813, 374644, 184000, 132000, 217000, 70793, 56679, 280000, 11000,\n",
       "       158000, 68800, 70, 85091, 800000, 136000, 81645, 102000, 85000,\n",
       "       50752, 86058, 70264, 63700, 58156, 18, 35500, 859554, 335000, 48102,\n",
       "       65562, 403913, 1700000, 147223, 68705, 221000, 74000, 97651, 102225,\n",
       "       104736, 58491, 223000, 52999, 509606, 177528, 50246, 360000, 173000,\n",
       "       290000, 29376, 50500, 2650, 79741, 4196, 94345, 79000, 50636, 25159,\n",
       "       355000, 18400, 43903, 127534, 50100, 297700, 124000, 81000, 11186,\n",
       "       37000, 76729, 145157, 101003, 7600, 81586, 340350, 82861, 73514,\n",
       "       192106, 285000, 2674, 4, 60863, 149256, 123535, 7077, 60175, 6635,\n",
       "       92090, 42000, 20900, 234326, 150084, 272880, 158013, 213000,\n",
       "       1069730, 178000, u'UNK', 86013, 93000, 6800, 9000, 128000, 54332,\n",
       "       60596, 87000, 74645, 52920, 303434, 256000, 220000, 64000, 165711,\n",
       "       141700, 13000, 426640, 612000, 86000, 62000, 78213, 71000, 20000,\n",
       "       215387, 141000, 120001, 218783, 113000, 50465, 420, 5314, 162000,\n",
       "       52747, 169000, 70135, 93828, 106300, 75101, 102275, 90160, 121000,\n",
       "       51580, 103000, 197166, 201000, 67900, 71500, 14500, 181700, 931000,\n",
       "       53064, 107833, 200717, 264000, 760113, 1000000, 285465, 1200,\n",
       "       116000, 99700, 152261, 284000, 665000, 53295, 2000000, 319616, 2000,\n",
       "       204000, 312359, 379000, 161151, 146721, 109335, 197000, 1418100,\n",
       "       91690, 34500, 2500, 426000, 96000, 111393, 120377, 30379, 110591,\n",
       "       68200, 29250, 1355919, 7935, 4645572, 265000, 880000, 86390, 205000,\n",
       "       320000, 6100, 69106, 111000, 50001, 64500, 95400, u'Unknown',\n",
       "       181000, 82621, 330000, 65112, 57054, 52702, 127, 61413, 325000,\n",
       "       3314, 440000, 770000, 68018, 64951, 371526, 2035, 9800, 208000,\n",
       "       632816, 649075, 346000, 818000, 219000, 850000, 156000, 371000,\n",
       "       173273, 133777, 242509, 262000, 12000, 146500, 6810, 56444, 58850,\n",
       "       233000, 262937, 240000, 99188, 35230, 41306, 21800, 197287, u'None',\n",
       "       61795, 6300, 165798, 40000, 283000, 90247, 37, 1100, 193000, 148000,\n",
       "       283451, 86615, 65255, 393000, 122314, 156627, 74300, 92748, 104498,\n",
       "       51160, 219681, 7000, 157000, 9200, 433, 171117, 48400, 325325, 7500,\n",
       "       61705, 75065, 77346, 89500, 881000, 88000, 59000, 140735, 52500,\n",
       "       677858, 101580, 144000, 62159, 373835, 120124, 66445, 65904, 370900,\n",
       "       61377, 57200, 164000, 28000, 4000000, 106648, 89000, 426, 1400000,\n",
       "       38500, 56475, 66383, 55951, 138802, 420000, 57237, 298165, 260000,\n",
       "       56600, 57299, 26856, 156611, 6549, 324000, 180400, 123, 67300,\n",
       "       129237, 2800, 68600, 57475, 66650, 63719, 186154, 79530, 85470,\n",
       "       '130000', '114000', '430984', 'undetermined', '58000', '70848',\n",
       "       '24506', '36073', '600000', '133000', '81000', '173000', '100000',\n",
       "       '500000', '45000', '37000', '0', '238000', '101830', '50000',\n",
       "       '2000000', '32000', '40911', '30500', '14273', '160000', '239567',\n",
       "       '92000', '75000', '11000', '124000', '60000'], dtype=object)"
      ]
     },
     "execution_count": 69,
     "metadata": {},
     "output_type": "execute_result"
    }
   ],
   "source": [
    "data.customers.unique()"
   ]
  },
  {
   "cell_type": "code",
   "execution_count": 70,
   "metadata": {
    "collapsed": false
   },
   "outputs": [],
   "source": [
    "data['customers']=data.customers.replace(',','',regex=True)\n",
    "data['customers']=data.customers.replace('[.]','',regex=True)\n",
    "data['customers']=data['customers'].replace(r'.million','00000',regex=True) #convert the million"
   ]
  },
  {
   "cell_type": "code",
   "execution_count": 71,
   "metadata": {
    "collapsed": false
   },
   "outputs": [],
   "source": [
    "def convert_to_float(data,numbers):### \n",
    "    cc=[]\n",
    "    for row in data[numbers]:\n",
    "        try:\n",
    "            cc.append(float(row))\n",
    "        except ValueError:\n",
    "            try:\n",
    "                if '-' in row:\n",
    "                    cc.append([float(x) for x in row.split('-') if x.isdigit()][0])\n",
    "                else:\n",
    "                    cc.append([float(x) for x in row.split() if x.replace('.','',1).isdigit()][0]) #split rows that contain digits and strings. select first digits\n",
    "            except IndexError:\n",
    "                cc.append(np.nan)\n",
    "    return cc\n",
    "        "
   ]
  },
  {
   "cell_type": "code",
   "execution_count": 72,
   "metadata": {
    "collapsed": false
   },
   "outputs": [],
   "source": [
    "data['customers']=convert_to_float(data,'customers')"
   ]
  },
  {
   "cell_type": "code",
   "execution_count": 73,
   "metadata": {
    "collapsed": true
   },
   "outputs": [],
   "source": [
    "#data['customer_1']=data.customers.str.extract('(\\d+)', expand=True) "
   ]
  },
  {
   "cell_type": "markdown",
   "metadata": {},
   "source": [
    "### Handle the demand loss column"
   ]
  },
  {
   "cell_type": "code",
   "execution_count": 74,
   "metadata": {
    "collapsed": true
   },
   "outputs": [],
   "source": [
    "data['demand_loss']=[0 if x=='None' else x for x in data['demand_loss']]\n"
   ]
  },
  {
   "cell_type": "code",
   "execution_count": 75,
   "metadata": {
    "collapsed": true
   },
   "outputs": [],
   "source": [
    "data['loss']=data['demand_loss'].replace(',','',regex=True) #remove any commas that may exist\n",
    "data['loss']=[np.nan if type(x) is datetime.datetime else x for x in data['loss']]"
   ]
  },
  {
   "cell_type": "code",
   "execution_count": 76,
   "metadata": {
    "collapsed": false
   },
   "outputs": [],
   "source": [
    "data['loss']=convert_to_float(data,'loss')"
   ]
  },
  {
   "cell_type": "code",
   "execution_count": 77,
   "metadata": {
    "collapsed": false
   },
   "outputs": [
    {
     "data": {
      "text/plain": [
       "Unknown                269\n",
       "UNK                     83\n",
       "-                       20\n",
       "--                       2\n",
       "Various                  2\n",
       "All                      1\n",
       "unknown                  1\n",
       "2011-06-08 00:00:00      1\n",
       "UNK                      1\n",
       "  N/A                    1\n",
       "Name: demand_loss, dtype: int64"
      ]
     },
     "execution_count": 77,
     "metadata": {},
     "output_type": "execute_result"
    }
   ],
   "source": [
    "(data[data.loss.isnull()].demand_loss.value_counts())"
   ]
  },
  {
   "cell_type": "markdown",
   "metadata": {},
   "source": [
    "### Now the dataset is ready for analysis. I will create a new dataset that only contains the essential columns"
   ]
  },
  {
   "cell_type": "code",
   "execution_count": 78,
   "metadata": {
    "collapsed": true
   },
   "outputs": [],
   "source": [
    "important_variables=['utility','event_date','event_datetime','restoration_datetime','powerpool','loss','customers','type','OutageDays','Area Affected','OutageinSeconds','OutageinHours']"
   ]
  },
  {
   "cell_type": "code",
   "execution_count": 79,
   "metadata": {
    "collapsed": true
   },
   "outputs": [],
   "source": [
    "df=data[important_variables]"
   ]
  },
  {
   "cell_type": "code",
   "execution_count": 81,
   "metadata": {
    "collapsed": false
   },
   "outputs": [],
   "source": [
    "df.loc[:,'type'] = df['type'].str.lower().str.strip()\n"
   ]
  },
  {
   "cell_type": "code",
   "execution_count": 82,
   "metadata": {
    "collapsed": false
   },
   "outputs": [
    {
     "data": {
      "text/plain": [
       "array([u'ice storm', u'interruption of firm load', u'severe weather',\n",
       "       u'vandalism/', u'interruption of firm power',\n",
       "       u'interruption of firm power (unit tripped)', u'fire',\n",
       "       u'hurricane lily', u'winter storm', u'cable tripped',\n",
       "       u'cyber threat from internet', u'winter ice storm', u'severe storm',\n",
       "       u'relaying malfunction', u'vandalism', u'severe thunderstorms',\n",
       "       u'interruption of firm', u'flood', u'public appeal',\n",
       "       u'tropical storm bill', u'breaker failure', u'unit tripped',\n",
       "       u'severe storms', u'hurricane claudette', u'breaker closed',\n",
       "       u'unknown *', u'transmission  equipment', u'hurricane isabel',\n",
       "       u'wild fire', u'tornado', u'wind storm', u'high winds',\n",
       "       u'storm with high winds', u'major wind storm',\n",
       "       u'wild fire \\u2013 transmission equipment', u'fault on 138 kv line',\n",
       "       u'transmission equipment', u'cable failure', u'earthquake',\n",
       "       u'snow storm', u'public appeal to reduce load',\n",
       "       u'lightning struck intertie breaker', u'high winds - severe storm',\n",
       "       u'inadequate resources', u'faulty switch', u'thunderstorms',\n",
       "       u'strong winds', u'heat storm', u'strong thunderstorms',\n",
       "       u'high winds and heavy rains', u'public appeals',\n",
       "       u'severe storms with strong winds',\n",
       "       u'severe  thunderstorms with strong winds',\n",
       "       u'severe thunderstorms with strong winds', u'fault on line',\n",
       "       u'load shedding', u'fire/substation multiple public appeals',\n",
       "       u'units tripped', u'wildfire/shed interruptible load', u'wildfire',\n",
       "       u'unplanned generator outage/high loads made public appeal',\n",
       "       u'fault at barre substation', u'two large units tripped',\n",
       "       u'hurricane charley',\n",
       "       u'major transmission line tripped due to lightning strike',\n",
       "       u'tropical storm gaston', u'hurricane frances', u'hurricane jeanne',\n",
       "       u'hurricane ivan', u'switch error concerning breakers',\n",
       "       u'severe storm with high wind gusts',\n",
       "       u'public appeal/breaker failure and fire',\n",
       "       u'major transmission distribution system interruption',\n",
       "       u'high wind gusts',\n",
       "       u'fuel supply deficiency - williams company: event for trans continental gas pipeline',\n",
       "       u'heavy snow, high winds and rain/major distribution system interruption',\n",
       "       u'heavy rain and wind storm', u'major freezing rain and ice storm',\n",
       "       u'severe weather/line relayed', u'voltage reduction',\n",
       "       u'voltage reduction/shed load', u'generator loss',\n",
       "       u'generator loss/voltage reduction', u'wind storms',\n",
       "       u'lightning strike', u'strong thunderstorm/high winds',\n",
       "       u'strong thunderstorm', u'transmission equipment failure',\n",
       "       u'fuel supply deficiency/coal rail transportation interruption',\n",
       "       u'fuel supply - deficiency coal rail transporation interruption',\n",
       "       u'tropical storm cindy', u'hurricane dennis',\n",
       "       u'ca iso  stage 2 -initiated interruption of air conditioner cycling interruptible load program',\n",
       "       u'ca iso stage 2 -initiated interruption of air conditioner cycling interruptible load program',\n",
       "       u'severe thunderstorm', u'voltage reduction/load shed',\n",
       "       u'plant tripped',\n",
       "       u'caiso determined there was  inadequate electric resources to serve load.  public appeals and a shedding of interruptible and firm load occurred.',\n",
       "       u'caiso initiated interruption of  interruptible and firm load due to declaration of  transmission emergency in southern california',\n",
       "       u'hurricane katrina',\n",
       "       u'hurricane katrina disrupted fuel supply in the gulf of mexico. public appeals for conservation were issued.',\n",
       "       u'hurricane katrina  disrupted normal gas allotment through natural gas pipelines (fgt & gulf stream). public appeals for conservation were issued.',\n",
       "       u'hurricane katrina disrupted normal gas supplies distribution. public appeals for conservation were issued.',\n",
       "       u'breaker protection cable accidentally cut', u'hurricane ophelia',\n",
       "       u'high winds/tornados',\n",
       "       u'hurricane rita disrupted fuel supply in the gulf of mexico. public appeals for conservation were issued.',\n",
       "       u'hurricane rita  disrupted normal gas allotment through natural gas pipelines (fgt & gulf stream). public appeals for conservation were issued.',\n",
       "       u'hurricane rita', u'hurricane wilma', u'severe windstorm',\n",
       "       u'major snow storm', u'winter snow/ice storm', u'severe snow storm',\n",
       "       u'severe thunderstorm/ snow/ice storm',\n",
       "       u'fuel supply - deficiency coal rail transportation interruption',\n",
       "       u'inadequate electric resources to serve load',\n",
       "       u'severe winter storm', u'major storms/tornadoes',\n",
       "       u'severe weather/ tornadoes', u'load shed/declared eecp',\n",
       "       u'load shed/made public appeals/rolling blackouts',\n",
       "       u'load shed/ declared eecp', u'lightning storm',\n",
       "       u'transmission equipment failure/fire', u'load shed',\n",
       "       u'severe lightning storms',\n",
       "       u'severe weather/public appeals made/voltage reduction',\n",
       "       u'lightning storms/tripped lines',\n",
       "       u'load reduction/public appeals made',\n",
       "       u'severe storms (3) (many customers experienced multiple outages.)',\n",
       "       u'widespread heat wave/public appeals made',\n",
       "       u'widespread heat wave/caiso implementation of stage 2 electrical emergency plan',\n",
       "       u'widespread heat wave/caiso  implementation of stage 2 electrical emergency plan',\n",
       "       u'made public appeals/heat wave', u'made public appeals',\n",
       "       u'declared energy emergency alert 2/heat wave',\n",
       "       u'system wide voltage reduction', u'shed firm load',\n",
       "       u'shed firm load/reduced voltage', u'tropical storm ernesto',\n",
       "       u'shed firm load/ reduced voltage', u'earthquakes',\n",
       "       u'wet snow/winds', u'wind/snow storm',\n",
       "       u'transmission equipment/fire',\n",
       "       u'main power transformer failure/voltage reduction/fire',\n",
       "       u'major windstorm', u'ice/wind storm', u'major storm',\n",
       "       u'heavy snow storm', u'trip of a unit', u'fuel supply deficiency',\n",
       "       u'lightning', u'loss of load',\n",
       "       u'electrical separation/load shedding/made public appeal',\n",
       "       u'major storms', u'fire/load shedding', u'made public appeal',\n",
       "       u'voltage reduction/made public appeal',\n",
       "       u'declared energy emergency alert2/heat wave', u'shed load',\n",
       "       u'declared energy emergency alert 1/heat wave',\n",
       "       u'high temperatures/made public appeals',\n",
       "       u'severe weather/transmission fault-units tripped',\n",
       "       u'hurricane humberto', u'electrical system separation',\n",
       "       u'electrical system separation/load shedding/ implemented emergency alert/severe storms',\n",
       "       u'electrical system separation/load shedding/ implemented emergency alert/ severe storms',\n",
       "       u'brush fire/load shedding/implemented emergency alert',\n",
       "       u'brush fire/load shedding', u'tropical storm',\n",
       "       u'voltage reduction/made public appeal/fuel deficiency',\n",
       "       u'exciter faulted', u'wind/ice storm', u'equipment faulted',\n",
       "       u'under frequency/load shedding', u'windstorm',\n",
       "       u'electric system separation',\n",
       "       u'load shedding, inadequate electric resources to serve load',\n",
       "       u'load shedding/voltage reduction',\n",
       "       u'indequate electric resources to serve load',\n",
       "       u'fire/breaker failure', u'storm', u'uncontrolled loss',\n",
       "       u'flooding and uncontrolled loss',\n",
       "       u'electrical system separation/severe thunderstorms',\n",
       "       u'thunderstorms/uncontrolled loss of load',\n",
       "       u'electrical system separation/severe lightning storms',\n",
       "       u'lightning stirke/uncontrolled loss of load',\n",
       "       u'transmission equipment failure/load shedding',\n",
       "       u'severe wind storm', u'wild land fire',\n",
       "       u'brush fire/lines loss/transmission emergency declared',\n",
       "       u'heat wave/potential fire threat/made public appeals',\n",
       "       u'indequate electric resources to serve load/public appeal',\n",
       "       u'hurricane dolly',\n",
       "       u'electric system separation/severe lightning storms',\n",
       "       u'declared energy emergency alert 1/made public appeals',\n",
       "       u'lightning/transmission equipment damage',\n",
       "       u'shed firm load/voltage reduction', u'tropical storm fay',\n",
       "       u'fuel supply emergency-low coal inventory levels',\n",
       "       u'fuel supply curtailed', u'hurricane gustav',\n",
       "       u'tropical storm hanna', u'hurricane ike',\n",
       "       u'tropical depression ike', u'brush fire/shed firm load',\n",
       "       u'lines loss/transmission', u'equipment failure/made public appeal',\n",
       "       u'declared stage 1 electric emergency/made public appeal',\n",
       "       u'ice/snow storm', u'transformer faulted/unit tripped',\n",
       "       u'unit shut down', u'transmission tripped',\n",
       "       u'substation load interruption',\n",
       "       u'complete electric system failure', u'high winds/rain',\n",
       "       u'failure of computer hardware used for monitoring',\n",
       "       u'loss of part of substation', u'highwinds', u'high winds and rain',\n",
       "       u'transmission system interruption', u'ice', u'tropical storm ida',\n",
       "       u'switching failure', u'forced outage equipment failure',\n",
       "       u'load shed/made public appeals',\n",
       "       u'interruptible load shed/made public appeals',\n",
       "       u'ice storm/electrical system separation', u'firm system load shed',\n",
       "       u'high winds and flooding', u'generator tripped',\n",
       "       u'breakers tripped', u'made public appeal - system drill',\n",
       "       u'firm load shed', u'voltage reduction (system test)',\n",
       "       u'made public appeal/transmission equipment failure',\n",
       "       u'transformer outage', u'loss of transmission equipment',\n",
       "       u'strong winds, tornadoes', u'shed interruptible load, wildfire',\n",
       "       u'fuel supply deficiency (hydro)', u'fuel supply defiency',\n",
       "       u'electrical system separation (islanding)',\n",
       "       u'low flying helicopter', u'interruptible load shed',\n",
       "       u'rain and high winds', u'electrical system separation-islanding',\n",
       "       u'firm system load loss',\n",
       "       u'transmission equipment failure/interruptible load shed',\n",
       "       u'electrical system separation - islanding', u'snow and high winds',\n",
       "       u'transmission equipment/firm system load',\n",
       "       u'electrical fault at generator', u'suspicious activity',\n",
       "       u'suspected telecommunications attack',\n",
       "       u'fuel supply deficiency (coal)',\n",
       "       u'generation inadequacy/load shed',\n",
       "       u'fuel supply deficiency (natural gas)', u'suspected cyber attack',\n",
       "       u'cold weather event', u'suspected physical attack',\n",
       "       u'transmission level outage', u'severe weather - high winds',\n",
       "       u'equipment malfunction', u'suspected sabotage',\n",
       "       u'generation inadequacy; load shed; electrical system separation (islanding)',\n",
       "       u'physical attack', u'transmission level interruption',\n",
       "       u'load shed/ automatic undervoltage relay action',\n",
       "       u'public appeal to reduce electricity usage',\n",
       "       u'major system interruption/load shed',\n",
       "       u'distribution system interruption', u'actual physical attack',\n",
       "       u'transmission/distribution interruption; load shed; generation inadequacy',\n",
       "       u'generation inadequacy; load shed', u'sabotage',\n",
       "       u'severe weather - winter storm', u'severe weather - tornadoes',\n",
       "       u'operational failure/equipment malfunction',\n",
       "       u'severe weather - thunderstorms',\n",
       "       u'load shed/severe weather  - lightning storm',\n",
       "       u'fuel supply deficiency (water)', u'severe weather - wind & rain',\n",
       "       u'equipment trip & failure', u'operational failure; storm damage',\n",
       "       u'severe weather - wind & storms', u'energy deficiency alert',\n",
       "       u'public appeal to reduce energy usage',\n",
       "       u'severe weather; equipment failure',\n",
       "       u'severe weather - dust storm; load shed event',\n",
       "       u'severe weather - ts isaac', u'severe weather - hurricane isaac',\n",
       "       u'vandalsim', u'vandalism; theft', u'physical attack; vandalism',\n",
       "       u'severe weather - hurricane sandy', u\"severe weather - nor'easter\",\n",
       "       u'severe weather - cold front, high winds',\n",
       "       u'severe weather - thunderstorm', u'transmission interruption',\n",
       "       u'physcial attack; vandalism', u'distribution interruption',\n",
       "       u'severe weather - wind storm',\n",
       "       u'severe weather - winter storm nemo',\n",
       "       u'vandalism; equipment fault', u'generator trip; voltage reduction',\n",
       "       u'fuel supply emergency - petroleum',\n",
       "       u'equipment failure; transmission system interruption',\n",
       "       u'generator trip; load shed', u'vandalism - copper wire theft',\n",
       "       u'sabotage; vandalism',\n",
       "       u'loss of part of a high voltage substation, physical attack',\n",
       "       u'severe weather - storms and wind',\n",
       "       u'fuel supply emergency - hydro', u'vandalism/theft',\n",
       "       u'severe weather - tornados', u'generator trip; load shed 100+ mw',\n",
       "       u'severe weather - lightning',\n",
       "       u'loss of 300+ mw load; severe weather - thunderstorms',\n",
       "       u'load shed of 100+ mw under emergency operational policy',\n",
       "       u'physical attack; vandalism & sabotage',\n",
       "       u'severe weather - hailstorm', u'severe weather - fog',\n",
       "       u'equipment failure', u'load shed 100+mw',\n",
       "       u'voltage reduction; line and generator trip',\n",
       "       u'physical attack; copper theft',\n",
       "       u'fuel supply emergency (natural gas)', u'public appeal - heatwave',\n",
       "       u'electrical system separation (islanding', u'loss of 300+ mw load',\n",
       "       u'electrical system separation (islanding); severe weather',\n",
       "       u'fuel supply emergency (natural gas & fuel oil)',\n",
       "       u'severe weather - lightning strike', u'physcial attack; sabotage',\n",
       "       u'load shed of 100+ mw',\n",
       "       u'cyber event with potential to cause impact',\n",
       "       u'severe weather - hail storm', u'physical attack - vandalism',\n",
       "       u'severe weather - heavy winds',\n",
       "       u'loss of power from wholesale provider; major distribution disruption',\n",
       "       u'severe weather - ice and snow storm',\n",
       "       u'system-wide voltage reductions of 3 percent or more',\n",
       "       u'load shed 100+ mw', u'physical attack - vandalism, theft',\n",
       "       u'severe weather - ice/snow', u'fuel supply emergencies (coal)',\n",
       "       u'voltage reduction due to severe weather - cold',\n",
       "       u'public appeal due to severe weather - cold',\n",
       "       u'severe weather - cold',\n",
       "       u'voltage reduction; public appeal due to severe weather - cold',\n",
       "       u'voltage reduction; public appeal; load shed 100+mw due to severe weather - cold',\n",
       "       u'fuel supply emergency - natural gas',\n",
       "       u'fuel supply emergency due to severe weather - cold',\n",
       "       u'electrical system islanding', u'fuel supply emergency - coal',\n",
       "       u'severe weather - snow/ice', u'severe weather - ice',\n",
       "       u'severe weather - thunderstorms/high winds',\n",
       "       u'physical attack - sabatoge', u'severe weather - wind',\n",
       "       u'load shedding of 100 megawatts',\n",
       "       u'public appeal to reduce electricity usage - wild fires',\n",
       "       u'uncontrolled loss of 300 megawatts',\n",
       "       u'operational failure of electrical system',\n",
       "       u'suspected physical attack - suspcious activity',\n",
       "       u'physical attack - suspcious activity',\n",
       "       u'suspected physical attack - vandalism',\n",
       "       u'public appeal to reduce electricity usage; load shed of 100 mw',\n",
       "       u'severe weather- high winds',\n",
       "       u'distribution interruption - unknown cause',\n",
       "       'firm load interruption',\n",
       "       'interruption of firm power & public appeal', 'flooding',\n",
       "       'feeder shutdowns', 'transmission line loss', 'transformer faulted',\n",
       "       'relay malfunction & fire', 'energy conservation', 'high wind',\n",
       "       'thunder/lightning', 'voltage electric usage',\n",
       "       'generating resources loss', 'relay trouble', 'tripped lines fire',\n",
       "       'line outages/switch fire', 'b-phase to ground fault',\n",
       "       'high winds & thunder', 'circuit failure/fire', 'tripped lines'], dtype=object)"
      ]
     },
     "execution_count": 82,
     "metadata": {},
     "output_type": "execute_result"
    }
   ],
   "source": [
    "df.type.unique()"
   ]
  },
  {
   "cell_type": "markdown",
   "metadata": {},
   "source": [
    "## create a variable that indicates what caused the blackout"
   ]
  },
  {
   "cell_type": "code",
   "execution_count": 83,
   "metadata": {
    "collapsed": false
   },
   "outputs": [
    {
     "name": "stderr",
     "output_type": "stream",
     "text": [
      "//anaconda/lib/python2.7/site-packages/pandas/core/indexing.py:288: SettingWithCopyWarning: \n",
      "A value is trying to be set on a copy of a slice from a DataFrame.\n",
      "Try using .loc[row_indexer,col_indexer] = value instead\n",
      "\n",
      "See the caveats in the documentation: http://pandas.pydata.org/pandas-docs/stable/indexing.html#indexing-view-versus-copy\n",
      "  self.obj[key] = _infer_fill_value(value)\n"
     ]
    }
   ],
   "source": [
    "cause=[]\n",
    "for i in range(len(df)):\n",
    "    if df['type'].str.contains('hurricane')[i] or df['type'].str.contains('tropical')[i]==True:\n",
    "        cause.append('Hurricane')\n",
    "    elif df['type'].str.contains('thunder')[i] or df['type'].str.contains('severe storm')[i]==True:\n",
    "        cause.append('Thunderstorm')\n",
    "    elif df['type'].str.contains('shed')[i] ==True:\n",
    "        cause.append('Load Shedding')\n",
    "    elif df['type'].str.contains('earthquake')[i] ==True:\n",
    "        cause.append('Earthquake')\n",
    "    elif df['type'].str.contains('vandal')[i] or df['type'].str.contains('attack')[i] or df['type'].str.contains('sabotage')[i] or df['type'].str.contains('cyber threat')[i] or df['type'].str.contains('cyber')[i] or df['type'].str.contains('suspicious')[i]==True:\n",
    "        cause.append('Intentional Attack')\n",
    "    elif df['type'].str.contains('fuel supply')[i] or df['type'].str.contains('inadequate')[i] ==True:\n",
    "        cause.append('Supply Shortage')\n",
    "    elif df['type'].str.contains('malfunction')[i] or df['type'].str.contains('failure')[i]==True:\n",
    "        cause.append('Equipment Failure')\n",
    "    elif df['type'].str.contains('tornado')[i]==True:\n",
    "        cause.append('Tornadoes')\n",
    "    elif df['type'].str.contains('voltage reduct')[i]==True:\n",
    "        cause.append('Voltage Reduction')\n",
    "    elif df['type'].str.contains('public appeal')[i]==True:\n",
    "        cause.append('Public Appeal')\n",
    "    elif df['type'].str.contains('severe weather')[i]==True:\n",
    "        cause.append('Severe Weather')\n",
    "    elif df['type'].str.contains('islanding')[i]==True:\n",
    "        cause.append('Islanding')\n",
    "    elif df['type'].str.contains('lightning')[i]==True:\n",
    "        cause.append('Lightning')\n",
    "    elif df['type'].str.contains('snow')[i] or df['type'].str.contains('winter')[i] or df['type'].str.contains('ice')[i] or df['type'].str.contains('cold')[i]==True:\n",
    "        cause.append('Snow')\n",
    "    elif df['type'].str.contains('wind')[i] or df['type'].str.contains('rain')[i] or df['type'].str.contains('flood')[i]==True:\n",
    "        cause.append('Wind/Rain')\n",
    "    elif df['type'].str.contains('firm power')[i] or df['type'].str.contains('firm load')[i] or df['type'].str.contains('firm system load loss')[i]  or df['type'].str.contains('interruption of firm')[i]==True:\n",
    "        cause.append('Firm power interruption')\n",
    "    elif df['type'].str.contains('fire')[i]==True:\n",
    "        cause.append('fire')\n",
    "    else:\n",
    "        cause.append('Others')\n",
    "\n",
    "df.loc[:,'cause']=cause\n"
   ]
  },
  {
   "cell_type": "markdown",
   "metadata": {},
   "source": [
    "I will drop events that are caused by voltage reduction as these events generally do not lead to disrupted electricity service"
   ]
  },
  {
   "cell_type": "code",
   "execution_count": 84,
   "metadata": {
    "collapsed": true
   },
   "outputs": [],
   "source": [
    "df=df[df.cause !='Voltage Reduction']"
   ]
  },
  {
   "cell_type": "code",
   "execution_count": 85,
   "metadata": {
    "collapsed": false
   },
   "outputs": [
    {
     "name": "stdout",
     "output_type": "stream",
     "text": [
      "After dropping voltage reductions, the number of blackouts: 1704\n"
     ]
    }
   ],
   "source": [
    "print \"After dropping voltage reductions, the number of blackouts:\", df.shape[0]"
   ]
  },
  {
   "cell_type": "markdown",
   "metadata": {},
   "source": [
    "### create blackout size category "
   ]
  },
  {
   "cell_type": "code",
   "execution_count": 86,
   "metadata": {
    "collapsed": false
   },
   "outputs": [],
   "source": [
    "loss_group=[]\n",
    "for row in df['loss']:\n",
    "    if row>=0 and row<=299:\n",
    "        loss_group.append('1-299')\n",
    "    elif row>=300 and row<=999:\n",
    "        loss_group.append('300-999')\n",
    "    elif row>=1000 and row<=2999:\n",
    "        loss_group.append('1000-2999')\n",
    "    elif row>=3000 and row<=9999:\n",
    "        loss_group.append('3000-9999')\n",
    "    elif row>=10000 and row <=29999:\n",
    "        loss_group.append('10000-29999')\n",
    "    elif row>=30000:\n",
    "        loss_group.append('>=30000')\n",
    "    else:\n",
    "        loss_group.append('unknown')\n",
    "df['loss_group']=loss_group"
   ]
  },
  {
   "cell_type": "code",
   "execution_count": 87,
   "metadata": {
    "collapsed": false
   },
   "outputs": [
    {
     "data": {
      "text/plain": [
       "<matplotlib.axes._subplots.AxesSubplot at 0x10d28b9d0>"
      ]
     },
     "execution_count": 87,
     "metadata": {},
     "output_type": "execute_result"
    },
    {
     "data": {
      "image/png": "[encoded data removed]",
      "text/plain": [
       "<matplotlib.figure.Figure at 0x10d174050>"
      ]
     },
     "metadata": {},
     "output_type": "display_data"
    }
   ],
   "source": [
    "seaborn.countplot(df['loss_group'])"
   ]
  },
  {
   "cell_type": "code",
   "execution_count": 88,
   "metadata": {
    "collapsed": true
   },
   "outputs": [],
   "source": [
    "GT=[]\n",
    "for row in df['cause']:\n",
    "    if row=='Thunderstorm' or row=='Tornadoes' or row=='Hurricane' or row=='Earthquake':\n",
    "        GT.append('extreme natural')\n",
    "    elif row=='Public Appeal' or row =='Load Shedding' or row =='Supply Shortage':\n",
    "        GT.append('Supply shortage')\n",
    "    elif row =='lightning' or row =='Severe Weather' or row =='Wind/Rain' or row=='Snow':\n",
    "        GT.append('non extreme weather')\n",
    "    else:\n",
    "        GT.append('others')"
   ]
  },
  {
   "cell_type": "code",
   "execution_count": 89,
   "metadata": {
    "collapsed": true
   },
   "outputs": [],
   "source": [
    "df['general_cause']=GT"
   ]
  },
  {
   "cell_type": "code",
   "execution_count": 90,
   "metadata": {
    "collapsed": false
   },
   "outputs": [
    {
     "data": {
      "text/plain": [
       "<matplotlib.axes._subplots.AxesSubplot at 0x10ce45710>"
      ]
     },
     "execution_count": 90,
     "metadata": {},
     "output_type": "execute_result"
    },
    {
     "data": {
      "image/png": "[encoded data removed]",
      "text/plain": [
       "<matplotlib.figure.Figure at 0x10acf7090>"
      ]
     },
     "metadata": {},
     "output_type": "display_data"
    }
   ],
   "source": [
    "seaborn.countplot(df.general_cause)"
   ]
  },
  {
   "cell_type": "code",
   "execution_count": 91,
   "metadata": {
    "collapsed": true
   },
   "outputs": [],
   "source": [
    "def normalize_name(name):\n",
    "    \"\"\"\n",
    "    Standardizes the full name of a utility. This will make name comparison easy\n",
    "    \n",
    "    name: full name of a utility can be in any format \n",
    "    \"\"\"\n",
    "    if \" and\" in name:\n",
    "        name = name.replace(' and ',' & ')\n",
    "    if \"Co.\" in name:\n",
    "        name=name.replace('Co.','Company')\n",
    "    return name"
   ]
  },
  {
   "cell_type": "code",
   "execution_count": 92,
   "metadata": {
    "collapsed": false
   },
   "outputs": [],
   "source": [
    "df['utility']=df.utility.apply(normalize_name)"
   ]
  },
  {
   "cell_type": "markdown",
   "metadata": {
    "collapsed": true
   },
   "source": [
    "## How much missing data do we have?"
   ]
  },
  {
   "cell_type": "code",
   "execution_count": 93,
   "metadata": {
    "collapsed": false
   },
   "outputs": [
    {
     "name": "stdout",
     "output_type": "stream",
     "text": [
      "Missing customer data: 450\n",
      "This is  26.41% of available data\n"
     ]
    }
   ],
   "source": [
    "print \"Missing customer data:\", len(df[df.customers.isnull()])\n",
    "print \"This is \", str(round((len(df[df.customers.isnull()])/float(len(df)) * 100), 2)) +'%' , \"of available data\""
   ]
  },
  {
   "cell_type": "code",
   "execution_count": 94,
   "metadata": {
    "collapsed": false
   },
   "outputs": [
    {
     "name": "stdout",
     "output_type": "stream",
     "text": [
      "Missing loss data: 768\n",
      "This is  45.07% of available data\n"
     ]
    }
   ],
   "source": [
    "print \"Missing loss data:\", len(df[df.loss.isnull()])\n",
    "print \"This is \", str(round((len(df[df.loss.isnull()])/float(len(df)) * 100), 2)) +'%' , \"of available data\""
   ]
  },
  {
   "cell_type": "code",
   "execution_count": 95,
   "metadata": {
    "collapsed": false
   },
   "outputs": [
    {
     "name": "stdout",
     "output_type": "stream",
     "text": [
      "Missing OutageinHours data: 54\n",
      "This is  3.17% of available data\n"
     ]
    }
   ],
   "source": [
    "print \"Missing OutageinHours data:\", len(df[df.OutageinHours.isnull()])\n",
    "print \"This is \", str(round((len(df[df.OutageinHours.isnull()])/float(len(df)) * 100), 2)) +'%' , \"of available data\""
   ]
  },
  {
   "cell_type": "code",
   "execution_count": 96,
   "metadata": {
    "collapsed": true
   },
   "outputs": [],
   "source": [
    "df=df.reset_index()\n",
    "del df['index']"
   ]
  },
  {
   "cell_type": "code",
   "execution_count": 97,
   "metadata": {
    "collapsed": false
   },
   "outputs": [],
   "source": [
    "df.to_excel('/Users/oladipoositelu/Desktop/outagedata.xls')"
   ]
  },
  {
   "cell_type": "markdown",
   "metadata": {},
   "source": [
    "## Summary\n",
    "In the preceding steps, I did the following:\n",
    "1. Converted Strings to numbers in situations where I could\n",
    "2. Fixed date variables\n",
    "3. I removed from the dataset blackouts caused by voltage reduction\n",
    "4. Dropped extraneous features\n"
   ]
  },
  {
   "cell_type": "markdown",
   "metadata": {},
   "source": [
    "# Exploratory Data Analysis\n",
    "Let's look closer at the data"
   ]
  },
  {
   "cell_type": "code",
   "execution_count": 98,
   "metadata": {
    "collapsed": false
   },
   "outputs": [
    {
     "name": "stderr",
     "output_type": "stream",
     "text": [
      "//anaconda/lib/python2.7/site-packages/numpy/lib/function_base.py:3823: RuntimeWarning: Invalid value encountered in percentile\n",
      "  RuntimeWarning)\n"
     ]
    },
    {
     "data": {
      "text/html": [
       "<div>\n",
       "<table border=\"1\" class=\"dataframe\">\n",
       "  <thead>\n",
       "    <tr style=\"text-align: right;\">\n",
       "      <th></th>\n",
       "      <th>loss</th>\n",
       "      <th>customers</th>\n",
       "      <th>OutageDays</th>\n",
       "      <th>OutageinSeconds</th>\n",
       "      <th>OutageinHours</th>\n",
       "    </tr>\n",
       "  </thead>\n",
       "  <tbody>\n",
       "    <tr>\n",
       "      <th>count</th>\n",
       "      <td>936.000000</td>\n",
       "      <td>1.254000e+03</td>\n",
       "      <td>1650.000000</td>\n",
       "      <td>1.650000e+03</td>\n",
       "      <td>1650.000000</td>\n",
       "    </tr>\n",
       "    <tr>\n",
       "      <th>mean</th>\n",
       "      <td>562.789637</td>\n",
       "      <td>1.644710e+05</td>\n",
       "      <td>1.627879</td>\n",
       "      <td>1.667808e+05</td>\n",
       "      <td>46.328010</td>\n",
       "    </tr>\n",
       "    <tr>\n",
       "      <th>std</th>\n",
       "      <td>1748.910499</td>\n",
       "      <td>3.385305e+05</td>\n",
       "      <td>5.037730</td>\n",
       "      <td>4.383779e+05</td>\n",
       "      <td>121.771647</td>\n",
       "    </tr>\n",
       "    <tr>\n",
       "      <th>min</th>\n",
       "      <td>0.000000</td>\n",
       "      <td>0.000000e+00</td>\n",
       "      <td>-1.000000</td>\n",
       "      <td>-4.860000e+04</td>\n",
       "      <td>-13.500000</td>\n",
       "    </tr>\n",
       "    <tr>\n",
       "      <th>25%</th>\n",
       "      <td>NaN</td>\n",
       "      <td>NaN</td>\n",
       "      <td>NaN</td>\n",
       "      <td>NaN</td>\n",
       "      <td>NaN</td>\n",
       "    </tr>\n",
       "    <tr>\n",
       "      <th>50%</th>\n",
       "      <td>NaN</td>\n",
       "      <td>NaN</td>\n",
       "      <td>NaN</td>\n",
       "      <td>NaN</td>\n",
       "      <td>NaN</td>\n",
       "    </tr>\n",
       "    <tr>\n",
       "      <th>75%</th>\n",
       "      <td>NaN</td>\n",
       "      <td>NaN</td>\n",
       "      <td>NaN</td>\n",
       "      <td>NaN</td>\n",
       "      <td>NaN</td>\n",
       "    </tr>\n",
       "    <tr>\n",
       "      <th>max</th>\n",
       "      <td>22934.000000</td>\n",
       "      <td>4.645572e+06</td>\n",
       "      <td>131.000000</td>\n",
       "      <td>1.133868e+07</td>\n",
       "      <td>3149.633333</td>\n",
       "    </tr>\n",
       "  </tbody>\n",
       "</table>\n",
       "</div>"
      ],
      "text/plain": [
       "               loss     customers   OutageDays  OutageinSeconds  OutageinHours\n",
       "count    936.000000  1.254000e+03  1650.000000     1.650000e+03    1650.000000\n",
       "mean     562.789637  1.644710e+05     1.627879     1.667808e+05      46.328010\n",
       "std     1748.910499  3.385305e+05     5.037730     4.383779e+05     121.771647\n",
       "min        0.000000  0.000000e+00    -1.000000    -4.860000e+04     -13.500000\n",
       "25%             NaN           NaN          NaN              NaN            NaN\n",
       "50%             NaN           NaN          NaN              NaN            NaN\n",
       "75%             NaN           NaN          NaN              NaN            NaN\n",
       "max    22934.000000  4.645572e+06   131.000000     1.133868e+07    3149.633333"
      ]
     },
     "execution_count": 98,
     "metadata": {},
     "output_type": "execute_result"
    }
   ],
   "source": [
    "df.describe()"
   ]
  },
  {
   "cell_type": "markdown",
   "metadata": {},
   "source": [
    "Looking at the descriptive statistics, two things stand out: the max amount of power lost is 22,934MW. This seems like a lot for one blackout. In addition, we also have a maximum of 131 outage days, which is very long.\n",
    "\n",
    "I would like to look at this particular data point and also observe data for blackouts longer than 30 days."
   ]
  },
  {
   "cell_type": "code",
   "execution_count": 99,
   "metadata": {
    "collapsed": false
   },
   "outputs": [
    {
     "data": {
      "text/html": [
       "<div>\n",
       "<table border=\"1\" class=\"dataframe\">\n",
       "  <thead>\n",
       "    <tr style=\"text-align: right;\">\n",
       "      <th></th>\n",
       "      <th>utility</th>\n",
       "      <th>event_date</th>\n",
       "      <th>event_datetime</th>\n",
       "      <th>restoration_datetime</th>\n",
       "      <th>powerpool</th>\n",
       "      <th>loss</th>\n",
       "      <th>customers</th>\n",
       "      <th>type</th>\n",
       "      <th>OutageDays</th>\n",
       "      <th>Area Affected</th>\n",
       "      <th>OutageinSeconds</th>\n",
       "      <th>OutageinHours</th>\n",
       "      <th>cause</th>\n",
       "      <th>loss_group</th>\n",
       "      <th>general_cause</th>\n",
       "    </tr>\n",
       "  </thead>\n",
       "  <tbody>\n",
       "    <tr>\n",
       "      <th>32</th>\n",
       "      <td>We Energies</td>\n",
       "      <td>2003-05-15</td>\n",
       "      <td>2003-05-15 14:00:00</td>\n",
       "      <td>2003-06-16 14:00:00</td>\n",
       "      <td>None</td>\n",
       "      <td>240.0</td>\n",
       "      <td>2.0</td>\n",
       "      <td>flood</td>\n",
       "      <td>32.0</td>\n",
       "      <td>Upper Michigan Peninsula</td>\n",
       "      <td>2764800.0</td>\n",
       "      <td>768.000000</td>\n",
       "      <td>Wind/Rain</td>\n",
       "      <td>1-299</td>\n",
       "      <td>non extreme weather</td>\n",
       "    </tr>\n",
       "    <tr>\n",
       "      <th>122</th>\n",
       "      <td>Salt River Project</td>\n",
       "      <td>2004-07-06</td>\n",
       "      <td>2004-07-06 06:00:00</td>\n",
       "      <td>2004-08-09 12:00:00</td>\n",
       "      <td>WECC</td>\n",
       "      <td>NaN</td>\n",
       "      <td>NaN</td>\n",
       "      <td>fire/substation multiple public appeals</td>\n",
       "      <td>34.0</td>\n",
       "      <td>Metro Phoenix, Arizona</td>\n",
       "      <td>2959200.0</td>\n",
       "      <td>822.000000</td>\n",
       "      <td>Public Appeal</td>\n",
       "      <td>unknown</td>\n",
       "      <td>Supply shortage</td>\n",
       "    </tr>\n",
       "    <tr>\n",
       "      <th>123</th>\n",
       "      <td>Arizona Public Service</td>\n",
       "      <td>2004-07-06</td>\n",
       "      <td>2004-07-06 06:00:00</td>\n",
       "      <td>2004-08-09 12:00:00</td>\n",
       "      <td>WECC</td>\n",
       "      <td>NaN</td>\n",
       "      <td>NaN</td>\n",
       "      <td>fire/substation multiple public appeals</td>\n",
       "      <td>34.0</td>\n",
       "      <td>Metro Phoenix, Arizona</td>\n",
       "      <td>2959200.0</td>\n",
       "      <td>822.000000</td>\n",
       "      <td>Public Appeal</td>\n",
       "      <td>unknown</td>\n",
       "      <td>Supply shortage</td>\n",
       "    </tr>\n",
       "    <tr>\n",
       "      <th>1505</th>\n",
       "      <td>Somerset Operating Company, LLC</td>\n",
       "      <td>2014-02-07</td>\n",
       "      <td>2014-02-07 07:00:00</td>\n",
       "      <td>2014-03-21 08:00:00</td>\n",
       "      <td>NPCC</td>\n",
       "      <td>675.0</td>\n",
       "      <td>NaN</td>\n",
       "      <td>fuel supply emergency - coal</td>\n",
       "      <td>42.0</td>\n",
       "      <td>Niagara County New York</td>\n",
       "      <td>3632400.0</td>\n",
       "      <td>1009.000000</td>\n",
       "      <td>Supply Shortage</td>\n",
       "      <td>300-999</td>\n",
       "      <td>Supply shortage</td>\n",
       "    </tr>\n",
       "    <tr>\n",
       "      <th>598</th>\n",
       "      <td>New Covert Generating Company, LLC</td>\n",
       "      <td>2009-03-03</td>\n",
       "      <td>2009-03-03 06:48:00</td>\n",
       "      <td>2009-04-26 06:05:00</td>\n",
       "      <td>RFC</td>\n",
       "      <td>378.0</td>\n",
       "      <td>NaN</td>\n",
       "      <td>transformer faulted/unit tripped</td>\n",
       "      <td>53.0</td>\n",
       "      <td>Southwest Michigan</td>\n",
       "      <td>4663020.0</td>\n",
       "      <td>1295.283333</td>\n",
       "      <td>Others</td>\n",
       "      <td>300-999</td>\n",
       "      <td>others</td>\n",
       "    </tr>\n",
       "    <tr>\n",
       "      <th>1486</th>\n",
       "      <td>We Energies</td>\n",
       "      <td>2014-01-24</td>\n",
       "      <td>2014-01-24 00:00:00</td>\n",
       "      <td>2014-04-09 11:53:00</td>\n",
       "      <td>RFC</td>\n",
       "      <td>NaN</td>\n",
       "      <td>NaN</td>\n",
       "      <td>fuel supply emergency - coal</td>\n",
       "      <td>75.0</td>\n",
       "      <td>Wisconsin</td>\n",
       "      <td>6522780.0</td>\n",
       "      <td>1811.883333</td>\n",
       "      <td>Supply Shortage</td>\n",
       "      <td>unknown</td>\n",
       "      <td>Supply shortage</td>\n",
       "    </tr>\n",
       "    <tr>\n",
       "      <th>1361</th>\n",
       "      <td>ITC Transmission</td>\n",
       "      <td>2013-06-21</td>\n",
       "      <td>2013-06-21 08:31:00</td>\n",
       "      <td>2013-10-30 14:09:00</td>\n",
       "      <td>MRO</td>\n",
       "      <td>NaN</td>\n",
       "      <td>NaN</td>\n",
       "      <td>suspected cyber attack</td>\n",
       "      <td>131.0</td>\n",
       "      <td>Michigan, Iowa</td>\n",
       "      <td>11338680.0</td>\n",
       "      <td>3149.633333</td>\n",
       "      <td>Intentional Attack</td>\n",
       "      <td>unknown</td>\n",
       "      <td>others</td>\n",
       "    </tr>\n",
       "  </tbody>\n",
       "</table>\n",
       "</div>"
      ],
      "text/plain": [
       "                                 utility event_date      event_datetime  \\\n",
       "32                           We Energies 2003-05-15 2003-05-15 14:00:00   \n",
       "122                   Salt River Project 2004-07-06 2004-07-06 06:00:00   \n",
       "123               Arizona Public Service 2004-07-06 2004-07-06 06:00:00   \n",
       "1505     Somerset Operating Company, LLC 2014-02-07 2014-02-07 07:00:00   \n",
       "598   New Covert Generating Company, LLC 2009-03-03 2009-03-03 06:48:00   \n",
       "1486                         We Energies 2014-01-24 2014-01-24 00:00:00   \n",
       "1361                    ITC Transmission 2013-06-21 2013-06-21 08:31:00   \n",
       "\n",
       "     restoration_datetime powerpool   loss  customers  \\\n",
       "32    2003-06-16 14:00:00      None  240.0        2.0   \n",
       "122   2004-08-09 12:00:00      WECC    NaN        NaN   \n",
       "123   2004-08-09 12:00:00      WECC    NaN        NaN   \n",
       "1505  2014-03-21 08:00:00      NPCC  675.0        NaN   \n",
       "598   2009-04-26 06:05:00       RFC  378.0        NaN   \n",
       "1486  2014-04-09 11:53:00       RFC    NaN        NaN   \n",
       "1361  2013-10-30 14:09:00       MRO    NaN        NaN   \n",
       "\n",
       "                                         type  OutageDays  \\\n",
       "32                                      flood        32.0   \n",
       "122   fire/substation multiple public appeals        34.0   \n",
       "123   fire/substation multiple public appeals        34.0   \n",
       "1505             fuel supply emergency - coal        42.0   \n",
       "598          transformer faulted/unit tripped        53.0   \n",
       "1486             fuel supply emergency - coal        75.0   \n",
       "1361                   suspected cyber attack       131.0   \n",
       "\n",
       "                 Area Affected  OutageinSeconds  OutageinHours  \\\n",
       "32    Upper Michigan Peninsula        2764800.0     768.000000   \n",
       "122     Metro Phoenix, Arizona        2959200.0     822.000000   \n",
       "123     Metro Phoenix, Arizona        2959200.0     822.000000   \n",
       "1505   Niagara County New York        3632400.0    1009.000000   \n",
       "598         Southwest Michigan        4663020.0    1295.283333   \n",
       "1486                 Wisconsin        6522780.0    1811.883333   \n",
       "1361            Michigan, Iowa       11338680.0    3149.633333   \n",
       "\n",
       "                   cause loss_group        general_cause  \n",
       "32             Wind/Rain      1-299  non extreme weather  \n",
       "122        Public Appeal    unknown      Supply shortage  \n",
       "123        Public Appeal    unknown      Supply shortage  \n",
       "1505     Supply Shortage    300-999      Supply shortage  \n",
       "598               Others    300-999               others  \n",
       "1486     Supply Shortage    unknown      Supply shortage  \n",
       "1361  Intentional Attack    unknown               others  "
      ]
     },
     "execution_count": 99,
     "metadata": {},
     "output_type": "execute_result"
    }
   ],
   "source": [
    "df[df.OutageDays>=30].sort_values('OutageDays')"
   ]
  },
  {
   "cell_type": "markdown",
   "metadata": {},
   "source": [
    "It seems very unlikely that customers would be without power for more than a month except in rare cases involving natural disasters. However, none of the observed blackouts involved natural disasters. These values may be as a result of incorrect data entries. Need to investigate further"
   ]
  },
  {
   "cell_type": "markdown",
   "metadata": {},
   "source": [
    "Another issue is that there are negative OutageHours which is quite frankly impossible. Let's investigate that."
   ]
  },
  {
   "cell_type": "code",
   "execution_count": 100,
   "metadata": {
    "collapsed": false
   },
   "outputs": [
    {
     "data": {
      "text/html": [
       "<div>\n",
       "<table border=\"1\" class=\"dataframe\">\n",
       "  <thead>\n",
       "    <tr style=\"text-align: right;\">\n",
       "      <th></th>\n",
       "      <th>utility</th>\n",
       "      <th>event_date</th>\n",
       "      <th>event_datetime</th>\n",
       "      <th>restoration_datetime</th>\n",
       "      <th>powerpool</th>\n",
       "      <th>loss</th>\n",
       "      <th>customers</th>\n",
       "      <th>type</th>\n",
       "      <th>OutageDays</th>\n",
       "      <th>Area Affected</th>\n",
       "      <th>OutageinSeconds</th>\n",
       "      <th>OutageinHours</th>\n",
       "      <th>cause</th>\n",
       "      <th>loss_group</th>\n",
       "      <th>general_cause</th>\n",
       "    </tr>\n",
       "  </thead>\n",
       "  <tbody>\n",
       "    <tr>\n",
       "      <th>138</th>\n",
       "      <td>Seminole Electric Cooperative</td>\n",
       "      <td>2004-08-13</td>\n",
       "      <td>2004-08-13 13:30:00</td>\n",
       "      <td>2004-08-13 00:00:00</td>\n",
       "      <td>FRCC</td>\n",
       "      <td>700.0</td>\n",
       "      <td>200000.0</td>\n",
       "      <td>hurricane charley</td>\n",
       "      <td>-1.0</td>\n",
       "      <td>Florida counties of Collier, Hendry, Glades, H...</td>\n",
       "      <td>-48600.0</td>\n",
       "      <td>-13.500000</td>\n",
       "      <td>Hurricane</td>\n",
       "      <td>300-999</td>\n",
       "      <td>extreme natural</td>\n",
       "    </tr>\n",
       "    <tr>\n",
       "      <th>34</th>\n",
       "      <td>Entergy Corporation</td>\n",
       "      <td>2003-06-30</td>\n",
       "      <td>2003-06-30 13:00:00</td>\n",
       "      <td>2003-06-30 00:00:00</td>\n",
       "      <td>None</td>\n",
       "      <td>NaN</td>\n",
       "      <td>179299.0</td>\n",
       "      <td>tropical storm bill</td>\n",
       "      <td>-1.0</td>\n",
       "      <td>Coastal areas of</td>\n",
       "      <td>-46800.0</td>\n",
       "      <td>-13.000000</td>\n",
       "      <td>Hurricane</td>\n",
       "      <td>unknown</td>\n",
       "      <td>extreme natural</td>\n",
       "    </tr>\n",
       "    <tr>\n",
       "      <th>60</th>\n",
       "      <td>Carolina Power &amp; Light</td>\n",
       "      <td>2003-09-18</td>\n",
       "      <td>2003-09-18 11:45:00</td>\n",
       "      <td>2003-09-18 00:00:00</td>\n",
       "      <td>SERC</td>\n",
       "      <td>1655.0</td>\n",
       "      <td>32000.0</td>\n",
       "      <td>hurricane isabel</td>\n",
       "      <td>-1.0</td>\n",
       "      <td>Eastern North Carolina</td>\n",
       "      <td>-42300.0</td>\n",
       "      <td>-11.750000</td>\n",
       "      <td>Hurricane</td>\n",
       "      <td>1000-2999</td>\n",
       "      <td>extreme natural</td>\n",
       "    </tr>\n",
       "    <tr>\n",
       "      <th>539</th>\n",
       "      <td>Puerto Rico Electric Power Authority</td>\n",
       "      <td>2008-09-22</td>\n",
       "      <td>2008-09-22 17:49:00</td>\n",
       "      <td>2008-09-22 06:39:00</td>\n",
       "      <td>PR</td>\n",
       "      <td>125.0</td>\n",
       "      <td>43600.0</td>\n",
       "      <td>shed firm load</td>\n",
       "      <td>-1.0</td>\n",
       "      <td>Island of Puerto Rico</td>\n",
       "      <td>-40200.0</td>\n",
       "      <td>-11.166667</td>\n",
       "      <td>Load Shedding</td>\n",
       "      <td>1-299</td>\n",
       "      <td>Supply shortage</td>\n",
       "    </tr>\n",
       "    <tr>\n",
       "      <th>1542</th>\n",
       "      <td>Southern Company</td>\n",
       "      <td>2014-04-29</td>\n",
       "      <td>2014-04-29 23:30:00</td>\n",
       "      <td>2014-04-29 12:30:00</td>\n",
       "      <td>SERC</td>\n",
       "      <td>355.0</td>\n",
       "      <td>106648.0</td>\n",
       "      <td>severe weather - thunderstorms</td>\n",
       "      <td>-1.0</td>\n",
       "      <td>Mississippi, Alabama</td>\n",
       "      <td>-39600.0</td>\n",
       "      <td>-11.000000</td>\n",
       "      <td>Thunderstorm</td>\n",
       "      <td>300-999</td>\n",
       "      <td>extreme natural</td>\n",
       "    </tr>\n",
       "    <tr>\n",
       "      <th>646</th>\n",
       "      <td>Los Angeles Department of Water &amp; Power</td>\n",
       "      <td>2009-08-31</td>\n",
       "      <td>2009-08-31 10:31:00</td>\n",
       "      <td>2009-08-31 00:00:00</td>\n",
       "      <td>WECC</td>\n",
       "      <td>NaN</td>\n",
       "      <td>NaN</td>\n",
       "      <td>made public appeals</td>\n",
       "      <td>-1.0</td>\n",
       "      <td>City of Los Angeles, California</td>\n",
       "      <td>-37860.0</td>\n",
       "      <td>-10.516667</td>\n",
       "      <td>Public Appeal</td>\n",
       "      <td>unknown</td>\n",
       "      <td>Supply shortage</td>\n",
       "    </tr>\n",
       "    <tr>\n",
       "      <th>450</th>\n",
       "      <td>California ISO</td>\n",
       "      <td>2008-05-08</td>\n",
       "      <td>2008-05-08 10:21:00</td>\n",
       "      <td>2008-05-08 00:56:00</td>\n",
       "      <td>WECC</td>\n",
       "      <td>483.0</td>\n",
       "      <td>0.0</td>\n",
       "      <td>load shedding</td>\n",
       "      <td>-1.0</td>\n",
       "      <td>California</td>\n",
       "      <td>-33900.0</td>\n",
       "      <td>-9.416667</td>\n",
       "      <td>Load Shedding</td>\n",
       "      <td>300-999</td>\n",
       "      <td>Supply shortage</td>\n",
       "    </tr>\n",
       "    <tr>\n",
       "      <th>642</th>\n",
       "      <td>CenterPoint Energy</td>\n",
       "      <td>2009-08-12</td>\n",
       "      <td>2009-08-12 18:25:00</td>\n",
       "      <td>2009-08-12 10:00:00</td>\n",
       "      <td>TRE</td>\n",
       "      <td>491.0</td>\n",
       "      <td>73000.0</td>\n",
       "      <td>thunderstorms</td>\n",
       "      <td>-1.0</td>\n",
       "      <td>South Houston Service Area</td>\n",
       "      <td>-30300.0</td>\n",
       "      <td>-8.416667</td>\n",
       "      <td>Thunderstorm</td>\n",
       "      <td>300-999</td>\n",
       "      <td>extreme natural</td>\n",
       "    </tr>\n",
       "    <tr>\n",
       "      <th>545</th>\n",
       "      <td>Puerto Rico Electric Power Authority</td>\n",
       "      <td>2008-11-11</td>\n",
       "      <td>2008-11-11 08:30:00</td>\n",
       "      <td>2008-11-11 00:19:00</td>\n",
       "      <td>PR</td>\n",
       "      <td>250.0</td>\n",
       "      <td>261000.0</td>\n",
       "      <td>shed firm load</td>\n",
       "      <td>-1.0</td>\n",
       "      <td>Island of Puerto Rico</td>\n",
       "      <td>-29460.0</td>\n",
       "      <td>-8.183333</td>\n",
       "      <td>Load Shedding</td>\n",
       "      <td>1-299</td>\n",
       "      <td>Supply shortage</td>\n",
       "    </tr>\n",
       "    <tr>\n",
       "      <th>403</th>\n",
       "      <td>Midwest ISO</td>\n",
       "      <td>2007-09-18</td>\n",
       "      <td>2007-09-18 05:15:00</td>\n",
       "      <td>2007-09-18 00:00:00</td>\n",
       "      <td>RFC</td>\n",
       "      <td>8000.0</td>\n",
       "      <td>11175.0</td>\n",
       "      <td>electrical system separation/load shedding/ im...</td>\n",
       "      <td>-1.0</td>\n",
       "      <td>Manitoba, Minnesota, North Dakota, Portions of...</td>\n",
       "      <td>-18900.0</td>\n",
       "      <td>-5.250000</td>\n",
       "      <td>Thunderstorm</td>\n",
       "      <td>3000-9999</td>\n",
       "      <td>extreme natural</td>\n",
       "    </tr>\n",
       "    <tr>\n",
       "      <th>541</th>\n",
       "      <td>Dow Chemical Company</td>\n",
       "      <td>2008-10-02</td>\n",
       "      <td>2008-10-02 14:50:00</td>\n",
       "      <td>2008-10-02 09:50:00</td>\n",
       "      <td>SERC</td>\n",
       "      <td>200.0</td>\n",
       "      <td>0.0</td>\n",
       "      <td>load shedding</td>\n",
       "      <td>-1.0</td>\n",
       "      <td>Louisiana</td>\n",
       "      <td>-18000.0</td>\n",
       "      <td>-5.000000</td>\n",
       "      <td>Load Shedding</td>\n",
       "      <td>1-299</td>\n",
       "      <td>Supply shortage</td>\n",
       "    </tr>\n",
       "    <tr>\n",
       "      <th>747</th>\n",
       "      <td>American Electric Power</td>\n",
       "      <td>2010-08-11</td>\n",
       "      <td>2010-08-11 15:21:00</td>\n",
       "      <td>2010-08-11 12:12:00</td>\n",
       "      <td>RFC</td>\n",
       "      <td>NaN</td>\n",
       "      <td>57000.0</td>\n",
       "      <td>severe weather</td>\n",
       "      <td>-1.0</td>\n",
       "      <td>Ohio</td>\n",
       "      <td>-11340.0</td>\n",
       "      <td>-3.150000</td>\n",
       "      <td>Severe Weather</td>\n",
       "      <td>unknown</td>\n",
       "      <td>non extreme weather</td>\n",
       "    </tr>\n",
       "  </tbody>\n",
       "</table>\n",
       "</div>"
      ],
      "text/plain": [
       "                                      utility event_date      event_datetime  \\\n",
       "138             Seminole Electric Cooperative 2004-08-13 2004-08-13 13:30:00   \n",
       "34                        Entergy Corporation 2003-06-30 2003-06-30 13:00:00   \n",
       "60                     Carolina Power & Light 2003-09-18 2003-09-18 11:45:00   \n",
       "539      Puerto Rico Electric Power Authority 2008-09-22 2008-09-22 17:49:00   \n",
       "1542                         Southern Company 2014-04-29 2014-04-29 23:30:00   \n",
       "646   Los Angeles Department of Water & Power 2009-08-31 2009-08-31 10:31:00   \n",
       "450                            California ISO 2008-05-08 2008-05-08 10:21:00   \n",
       "642                        CenterPoint Energy 2009-08-12 2009-08-12 18:25:00   \n",
       "545      Puerto Rico Electric Power Authority 2008-11-11 2008-11-11 08:30:00   \n",
       "403                               Midwest ISO 2007-09-18 2007-09-18 05:15:00   \n",
       "541                      Dow Chemical Company 2008-10-02 2008-10-02 14:50:00   \n",
       "747                   American Electric Power 2010-08-11 2010-08-11 15:21:00   \n",
       "\n",
       "     restoration_datetime powerpool    loss  customers  \\\n",
       "138   2004-08-13 00:00:00      FRCC   700.0   200000.0   \n",
       "34    2003-06-30 00:00:00      None     NaN   179299.0   \n",
       "60    2003-09-18 00:00:00      SERC  1655.0    32000.0   \n",
       "539   2008-09-22 06:39:00        PR   125.0    43600.0   \n",
       "1542  2014-04-29 12:30:00      SERC   355.0   106648.0   \n",
       "646   2009-08-31 00:00:00      WECC     NaN        NaN   \n",
       "450   2008-05-08 00:56:00      WECC   483.0        0.0   \n",
       "642   2009-08-12 10:00:00       TRE   491.0    73000.0   \n",
       "545   2008-11-11 00:19:00        PR   250.0   261000.0   \n",
       "403   2007-09-18 00:00:00       RFC  8000.0    11175.0   \n",
       "541   2008-10-02 09:50:00      SERC   200.0        0.0   \n",
       "747   2010-08-11 12:12:00       RFC     NaN    57000.0   \n",
       "\n",
       "                                                   type  OutageDays  \\\n",
       "138                                   hurricane charley        -1.0   \n",
       "34                                  tropical storm bill        -1.0   \n",
       "60                                     hurricane isabel        -1.0   \n",
       "539                                      shed firm load        -1.0   \n",
       "1542                     severe weather - thunderstorms        -1.0   \n",
       "646                                 made public appeals        -1.0   \n",
       "450                                       load shedding        -1.0   \n",
       "642                                       thunderstorms        -1.0   \n",
       "545                                      shed firm load        -1.0   \n",
       "403   electrical system separation/load shedding/ im...        -1.0   \n",
       "541                                       load shedding        -1.0   \n",
       "747                                      severe weather        -1.0   \n",
       "\n",
       "                                          Area Affected  OutageinSeconds  \\\n",
       "138   Florida counties of Collier, Hendry, Glades, H...         -48600.0   \n",
       "34                                     Coastal areas of         -46800.0   \n",
       "60                               Eastern North Carolina         -42300.0   \n",
       "539                               Island of Puerto Rico         -40200.0   \n",
       "1542                               Mississippi, Alabama         -39600.0   \n",
       "646                     City of Los Angeles, California         -37860.0   \n",
       "450                                          California         -33900.0   \n",
       "642                          South Houston Service Area         -30300.0   \n",
       "545                               Island of Puerto Rico         -29460.0   \n",
       "403   Manitoba, Minnesota, North Dakota, Portions of...         -18900.0   \n",
       "541                                           Louisiana         -18000.0   \n",
       "747                                                Ohio         -11340.0   \n",
       "\n",
       "      OutageinHours           cause loss_group        general_cause  \n",
       "138      -13.500000       Hurricane    300-999      extreme natural  \n",
       "34       -13.000000       Hurricane    unknown      extreme natural  \n",
       "60       -11.750000       Hurricane  1000-2999      extreme natural  \n",
       "539      -11.166667   Load Shedding      1-299      Supply shortage  \n",
       "1542     -11.000000    Thunderstorm    300-999      extreme natural  \n",
       "646      -10.516667   Public Appeal    unknown      Supply shortage  \n",
       "450       -9.416667   Load Shedding    300-999      Supply shortage  \n",
       "642       -8.416667    Thunderstorm    300-999      extreme natural  \n",
       "545       -8.183333   Load Shedding      1-299      Supply shortage  \n",
       "403       -5.250000    Thunderstorm  3000-9999      extreme natural  \n",
       "541       -5.000000   Load Shedding      1-299      Supply shortage  \n",
       "747       -3.150000  Severe Weather    unknown  non extreme weather  "
      ]
     },
     "execution_count": 100,
     "metadata": {},
     "output_type": "execute_result"
    }
   ],
   "source": [
    "df[df.OutageinHours<0].sort_values('OutageinHours')"
   ]
  },
  {
   "cell_type": "code",
   "execution_count": 101,
   "metadata": {
    "collapsed": true
   },
   "outputs": [],
   "source": [
    "dd=[]\n",
    "for i in range(len(df)):\n",
    "    if df['OutageinHours'][i]<0:\n",
    "        dd.append(df['restoration_datetime'][i] + datetime.timedelta(days=1))\n",
    "    else:\n",
    "        dd.append(df['restoration_datetime'][i])\n"
   ]
  },
  {
   "cell_type": "code",
   "execution_count": 102,
   "metadata": {
    "collapsed": false
   },
   "outputs": [],
   "source": [
    "df['restoration_datetime']=dd"
   ]
  },
  {
   "cell_type": "code",
   "execution_count": 103,
   "metadata": {
    "collapsed": true
   },
   "outputs": [],
   "source": [
    "df['OutageDays']=(df['restoration_datetime']-df['event_datetime']).astype('timedelta64[D]')"
   ]
  },
  {
   "cell_type": "code",
   "execution_count": 104,
   "metadata": {
    "collapsed": true
   },
   "outputs": [],
   "source": [
    "df['OutageinSeconds']=(pd.to_timedelta(df['restoration_datetime']-df['event_datetime']).dt.days*60*60*24)+ pd.to_timedelta((df['restoration_datetime']-df['event_datetime']),unit='s').dt.seconds"
   ]
  },
  {
   "cell_type": "code",
   "execution_count": 105,
   "metadata": {
    "collapsed": true
   },
   "outputs": [],
   "source": [
    "df['OutageinHours']=df['OutageinSeconds']/3600"
   ]
  },
  {
   "cell_type": "markdown",
   "metadata": {},
   "source": [
    "### Distribution of blackouts by cause"
   ]
  },
  {
   "cell_type": "code",
   "execution_count": 106,
   "metadata": {
    "collapsed": false
   },
   "outputs": [
    {
     "data": {
      "image/png": "[encoded data removed]",
      "text/plain": [
       "<matplotlib.figure.Figure at 0x10db1ed10>"
      ]
     },
     "metadata": {},
     "output_type": "display_data"
    }
   ],
   "source": [
    "df.cause.value_counts().plot(kind='barh',figsize=(10,10))\n",
    "plt.savefig('cause.png', bbox_inches='tight')"
   ]
  },
  {
   "cell_type": "markdown",
   "metadata": {},
   "source": [
    "Intentional attacks form the greatest cause of reported power outages in the United States. This may indicate that the grid is very susceptible to physical attacks and more resources need to be allocated to avoid this. However, the impact of intentional attacks on customers still needs to be observed."
   ]
  },
  {
   "cell_type": "markdown",
   "metadata": {},
   "source": [
    "### Intentional Attacks"
   ]
  },
  {
   "cell_type": "code",
   "execution_count": 107,
   "metadata": {
    "collapsed": true
   },
   "outputs": [],
   "source": [
    "attacks=df[df.cause=='Intentional Attack']"
   ]
  },
  {
   "cell_type": "code",
   "execution_count": 109,
   "metadata": {
    "collapsed": false
   },
   "outputs": [
    {
     "name": "stdout",
     "output_type": "stream",
     "text": [
      "The proportion of blackouts caused by intentional attacks:22.0%\n"
     ]
    }
   ],
   "source": [
    "print \"The proportion of blackouts caused by intentional attacks:\" + str(round(attacks.shape[0]/float(df.shape[0]),2) * 100) +'%'"
   ]
  },
  {
   "cell_type": "code",
   "execution_count": 110,
   "metadata": {
    "collapsed": false
   },
   "outputs": [
    {
     "data": {
      "image/png": "[encoded data removed]",
      "text/plain": [
       "<matplotlib.figure.Figure at 0x10dbae0d0>"
      ]
     },
     "metadata": {},
     "output_type": "display_data"
    }
   ],
   "source": [
    "attacks['event_date'].dt.year.value_counts(sort=False).plot(kind='bar',color='purple')\n",
    "plt.xlabel('year')\n",
    "plt.ylabel('# of reported events')\n",
    "plt.title('Yearly Distribution of Blackouts Caused by Intentional Attacks')\n",
    "plt.savefig('Yearly Intentional Attacks.png',bbox_inches='tight')"
   ]
  },
  {
   "cell_type": "code",
   "execution_count": 111,
   "metadata": {
    "collapsed": false
   },
   "outputs": [
    {
     "data": {
      "image/png": "[encoded data removed]",
      "text/plain": [
       "<matplotlib.figure.Figure at 0x10db26e10>"
      ]
     },
     "metadata": {},
     "output_type": "display_data"
    }
   ],
   "source": [
    "attacks['event_date'].dt.month.value_counts(sort=False).plot(kind='bar',color='blue')\n",
    "plt.ylabel('# of events')\n",
    "plt.xlabel('Months')\n",
    "plt.title('Monthly distribution of blackouts caused by Intentional Attacks')\n",
    "plt.savefig('Monthly Intentional Attacks.png',bbox_inches='tight')"
   ]
  },
  {
   "cell_type": "code",
   "execution_count": 112,
   "metadata": {
    "collapsed": false
   },
   "outputs": [
    {
     "data": {
      "image/png": "[encoded data removed]",
      "text/plain": [
       "<matplotlib.figure.Figure at 0x10dbbbb10>"
      ]
     },
     "metadata": {},
     "output_type": "display_data"
    }
   ],
   "source": [
    "attacks['event_datetime'].dt.hour.value_counts(sort=False).plot(kind='bar',color='red')\n",
    "plt.ylabel('# of events')\n",
    "plt.xlabel('Time of Day (Hour)')\n",
    "plt.title('Hourly distribution of blackouts caused by Intentional Attacks')\n",
    "plt.savefig('Hourly Intentional Attacks.png',bbox_inches='tight')\n"
   ]
  },
  {
   "cell_type": "markdown",
   "metadata": {},
   "source": [
    "### Distribution of blackouts by year and month"
   ]
  },
  {
   "cell_type": "code",
   "execution_count": 114,
   "metadata": {
    "collapsed": false
   },
   "outputs": [
    {
     "data": {
      "image/png": "[encoded data removed]",
      "text/plain": [
       "<matplotlib.figure.Figure at 0x10dbf1f50>"
      ]
     },
     "metadata": {},
     "output_type": "display_data"
    }
   ],
   "source": [
    "df.event_datetime.dt.year.value_counts(sort=False).plot(figsize=(12,9))\n",
    "plt.ylabel('# of blackouts')\n",
    "plt.xlabel('year')\n",
    "plt.title('Number of blackouts per year')\n",
    "plt.savefig('blackoutersPerYear.png')"
   ]
  },
  {
   "cell_type": "markdown",
   "metadata": {},
   "source": [
    "It seems like the number of blackouts reported by utilities is steadily increasing till it reaches its peak in 2011. This is interesting because it may imply that the electricity grid system is getting worse over the years in terms of how it is dealing with blackouts. However, it could also be due to more improved and mandatory reporting of blackouts of different types."
   ]
  },
  {
   "cell_type": "code",
   "execution_count": 115,
   "metadata": {
    "collapsed": false
   },
   "outputs": [
    {
     "data": {
      "text/plain": [
       "<matplotlib.text.Text at 0x10dc15450>"
      ]
     },
     "execution_count": 115,
     "metadata": {},
     "output_type": "execute_result"
    },
    {
     "data": {
      "image/png": "[encoded data removed]",
      "text/plain": [
       "<matplotlib.figure.Figure at 0x10dde1190>"
      ]
     },
     "metadata": {},
     "output_type": "display_data"
    }
   ],
   "source": [
    "df.event_datetime.dt.hour.value_counts(sort=False).plot(kind='bar')\n",
    "plt.xlabel('Time of day')\n",
    "plt.ylabel('# of blackouts')"
   ]
  },
  {
   "cell_type": "code",
   "execution_count": 116,
   "metadata": {
    "collapsed": false
   },
   "outputs": [
    {
     "data": {
      "image/png": "[encoded data removed]",
      "text/plain": [
       "<matplotlib.figure.Figure at 0x103fe8850>"
      ]
     },
     "metadata": {},
     "output_type": "display_data"
    }
   ],
   "source": [
    "df.event_datetime.dt.month.value_counts(sort=False).plot(kind='bar')\n",
    "plt.ylabel('# of blackouts')\n",
    "plt.xlabel('Month')\n",
    "plt.title('Number of blackouts per month')\n",
    "plt.tight_layout()"
   ]
  },
  {
   "cell_type": "markdown",
   "metadata": {},
   "source": [
    "We observe that most of the blackouts reported by utilities occur during the summer months between June and August. One reason for this is likely that hot summer days leads to an increase in usage of air conditioning systems, which further put stress on the grid. "
   ]
  },
  {
   "cell_type": "markdown",
   "metadata": {},
   "source": [
    "### Group by the cause of blackout\n",
    "Now lets categorize what causes each blackout"
   ]
  },
  {
   "cell_type": "code",
   "execution_count": 117,
   "metadata": {
    "collapsed": false
   },
   "outputs": [],
   "source": [
    "cause_group=df.groupby('cause')\n"
   ]
  },
  {
   "cell_type": "code",
   "execution_count": 118,
   "metadata": {
    "collapsed": false
   },
   "outputs": [
    {
     "data": {
      "image/png": "[encoded data removed]",
      "text/plain": [
       "<matplotlib.figure.Figure at 0x103fe8b50>"
      ]
     },
     "metadata": {},
     "output_type": "display_data"
    }
   ],
   "source": [
    "cause_group[['customers']].mean().plot(kind='bar')\n",
    "#plt.ylabel('Average number of customers')\n",
    "plt.title('Average number of customers affected by blackout cause')\n",
    "plt.savefig('meancustomers_cause.png',bbox_inches='tight')"
   ]
  },
  {
   "cell_type": "markdown",
   "metadata": {},
   "source": [
    "On average, hurricanes affect more customers than anyother cause of blackout"
   ]
  },
  {
   "cell_type": "code",
   "execution_count": 119,
   "metadata": {
    "collapsed": false
   },
   "outputs": [
    {
     "data": {
      "image/png": "[encoded data removed]",
      "text/plain": [
       "<matplotlib.figure.Figure at 0x10d7df090>"
      ]
     },
     "metadata": {},
     "output_type": "display_data"
    }
   ],
   "source": [
    "cause_group[['loss']].mean().plot(kind='bar',color='r')\n",
    "plt.title('Average amount of lost power(MW) by blackout cause')\n",
    "plt.savefig('meanloss_cause.png',bbox_inches='tight')"
   ]
  },
  {
   "cell_type": "code",
   "execution_count": 120,
   "metadata": {
    "collapsed": false
   },
   "outputs": [
    {
     "data": {
      "text/plain": [
       "<matplotlib.axes._subplots.AxesSubplot at 0x10fc4c690>"
      ]
     },
     "execution_count": 120,
     "metadata": {},
     "output_type": "execute_result"
    },
    {
     "data": {
      "image/png": "[encoded data removed]",
      "text/plain": [
       "<matplotlib.figure.Figure at 0x10d7df1d0>"
      ]
     },
     "metadata": {},
     "output_type": "display_data"
    }
   ],
   "source": [
    "cause_group[['OutageinHours']].mean().plot(kind='bar',color='r')"
   ]
  },
  {
   "cell_type": "markdown",
   "metadata": {},
   "source": [
    "### Correlation "
   ]
  },
  {
   "cell_type": "code",
   "execution_count": 122,
   "metadata": {
    "collapsed": false
   },
   "outputs": [
    {
     "data": {
      "text/plain": [
       "array([[<matplotlib.axes._subplots.AxesSubplot object at 0x10f87ba90>,\n",
       "        <matplotlib.axes._subplots.AxesSubplot object at 0x10f246a50>,\n",
       "        <matplotlib.axes._subplots.AxesSubplot object at 0x10b664190>],\n",
       "       [<matplotlib.axes._subplots.AxesSubplot object at 0x10da5d5d0>,\n",
       "        <matplotlib.axes._subplots.AxesSubplot object at 0x10dde1b90>,\n",
       "        <matplotlib.axes._subplots.AxesSubplot object at 0x10dd93910>],\n",
       "       [<matplotlib.axes._subplots.AxesSubplot object at 0x10dd25150>,\n",
       "        <matplotlib.axes._subplots.AxesSubplot object at 0x10e77f5d0>,\n",
       "        <matplotlib.axes._subplots.AxesSubplot object at 0x10f82e290>]], dtype=object)"
      ]
     },
     "execution_count": 122,
     "metadata": {},
     "output_type": "execute_result"
    },
    {
     "name": "stderr",
     "output_type": "stream",
     "text": [
      "//anaconda/lib/python2.7/site-packages/matplotlib/collections.py:590: FutureWarning: elementwise comparison failed; returning scalar instead, but in the future will perform elementwise comparison\n",
      "  if self._edgecolors == str('face'):\n"
     ]
    },
    {
     "data": {
      "image/png": "[encoded data removed]",
      "text/plain": [
       "<matplotlib.figure.Figure at 0x10f6c5410>"
      ]
     },
     "metadata": {},
     "output_type": "display_data"
    }
   ],
   "source": [
    "pd.tools.plotting.scatter_matrix(df[['loss','OutageinHours','customers']],figsize=(10,10),color='g')\n"
   ]
  },
  {
   "cell_type": "code",
   "execution_count": 123,
   "metadata": {
    "collapsed": false
   },
   "outputs": [
    {
     "data": {
      "text/html": [
       "<div>\n",
       "<table border=\"1\" class=\"dataframe\">\n",
       "  <thead>\n",
       "    <tr style=\"text-align: right;\">\n",
       "      <th></th>\n",
       "      <th>OutageinHours</th>\n",
       "      <th>customers</th>\n",
       "      <th>loss</th>\n",
       "    </tr>\n",
       "  </thead>\n",
       "  <tbody>\n",
       "    <tr>\n",
       "      <th>OutageinHours</th>\n",
       "      <td>1.000000</td>\n",
       "      <td>0.264971</td>\n",
       "      <td>0.055452</td>\n",
       "    </tr>\n",
       "    <tr>\n",
       "      <th>customers</th>\n",
       "      <td>0.264971</td>\n",
       "      <td>1.000000</td>\n",
       "      <td>0.512909</td>\n",
       "    </tr>\n",
       "    <tr>\n",
       "      <th>loss</th>\n",
       "      <td>0.055452</td>\n",
       "      <td>0.512909</td>\n",
       "      <td>1.000000</td>\n",
       "    </tr>\n",
       "  </tbody>\n",
       "</table>\n",
       "</div>"
      ],
      "text/plain": [
       "               OutageinHours  customers      loss\n",
       "OutageinHours       1.000000   0.264971  0.055452\n",
       "customers           0.264971   1.000000  0.512909\n",
       "loss                0.055452   0.512909  1.000000"
      ]
     },
     "execution_count": 123,
     "metadata": {},
     "output_type": "execute_result"
    }
   ],
   "source": [
    "df_cor=df[['OutageinHours','customers','loss']].corr()\n",
    "df_cor\n"
   ]
  },
  {
   "cell_type": "markdown",
   "metadata": {},
   "source": [
    "Looking at the entire sample, it appears that there's little correlation between the variables. The number of affected customers and loss have the highest correlation.\n",
    "\n",
    "What would probably be more interesting would be to take a closer look based on the cause of the blackout"
   ]
  },
  {
   "cell_type": "markdown",
   "metadata": {},
   "source": [
    "### The distribution of days without power"
   ]
  },
  {
   "cell_type": "code",
   "execution_count": 127,
   "metadata": {
    "collapsed": false
   },
   "outputs": [
    {
     "data": {
      "text/plain": [
       "<matplotlib.axes._subplots.AxesSubplot at 0x11058b990>"
      ]
     },
     "execution_count": 127,
     "metadata": {},
     "output_type": "execute_result"
    },
    {
     "data": {
      "image/png": "[encoded data removed]",
      "text/plain": [
       "<matplotlib.figure.Figure at 0x110359b50>"
      ]
     },
     "metadata": {},
     "output_type": "display_data"
    }
   ],
   "source": [
    "df.OutageinHours.hist(bins=50)"
   ]
  },
  {
   "cell_type": "markdown",
   "metadata": {},
   "source": [
    "### Relationship between the blackout size and the number of days without power\n",
    "\n",
    "It seems reasonable that a large blackout will require a long time for power to be restored. The size of the blackout is measured in MW(this is the loss column) and OutageDays is the number of days without power."
   ]
  },
  {
   "cell_type": "code",
   "execution_count": 129,
   "metadata": {
    "collapsed": false
   },
   "outputs": [
    {
     "data": {
      "text/plain": [
       "0.055452246035202844"
      ]
     },
     "execution_count": 129,
     "metadata": {},
     "output_type": "execute_result"
    }
   ],
   "source": [
    "df.loss.corr(df.OutageinSeconds)"
   ]
  },
  {
   "cell_type": "code",
   "execution_count": 130,
   "metadata": {
    "collapsed": false
   },
   "outputs": [
    {
     "data": {
      "text/plain": [
       "cause                                                \n",
       "Earthquake               OutageinHours  OutageinHours    1.000000\n",
       "                                        customers        0.663620\n",
       "                                        OutageDays       0.965410\n",
       "                         customers      OutageinHours    0.663620\n",
       "                                        customers        1.000000\n",
       "                                        OutageDays       0.614059\n",
       "                         OutageDays     OutageinHours    0.965410\n",
       "                                        customers        0.614059\n",
       "                                        OutageDays       1.000000\n",
       "Equipment Failure        OutageinHours  OutageinHours    1.000000\n",
       "                                        OutageDays       0.897949\n",
       "                         customers      customers        1.000000\n",
       "                         OutageDays     OutageinHours    0.897949\n",
       "                                        OutageDays       1.000000\n",
       "Firm power interruption  OutageinHours  OutageinHours    1.000000\n",
       "                                        OutageDays       0.968511\n",
       "                         customers      customers        1.000000\n",
       "                         OutageDays     OutageinHours    0.968511\n",
       "                                        OutageDays       1.000000\n",
       "Hurricane                OutageinHours  OutageinHours    1.000000\n",
       "                                        OutageDays       0.998030\n",
       "                         customers      customers        1.000000\n",
       "                         OutageDays     OutageinHours    0.998030\n",
       "                                        OutageDays       1.000000\n",
       "Intentional Attack       OutageinHours  OutageinHours    1.000000\n",
       "                                        OutageDays       0.999449\n",
       "                         customers      customers        1.000000\n",
       "                         OutageDays     OutageinHours    0.999449\n",
       "                                        OutageDays       1.000000\n",
       "Islanding                OutageinHours  OutageinHours    1.000000\n",
       "                                                           ...   \n",
       "Snow                     OutageinHours  OutageDays       0.996300\n",
       "                         customers      customers        1.000000\n",
       "                         OutageDays     OutageinHours    0.996300\n",
       "                                        OutageDays       1.000000\n",
       "Supply Shortage          OutageinHours  OutageinHours    1.000000\n",
       "                                        OutageDays       0.999739\n",
       "                         customers      customers        1.000000\n",
       "                         OutageDays     OutageinHours    0.999739\n",
       "                                        OutageDays       1.000000\n",
       "Thunderstorm             OutageinHours  OutageinHours    1.000000\n",
       "                                        OutageDays       0.989292\n",
       "                         customers      customers        1.000000\n",
       "                         OutageDays     OutageinHours    0.989292\n",
       "                                        OutageDays       1.000000\n",
       "Tornadoes                OutageinHours  OutageinHours    1.000000\n",
       "                                        customers        0.531139\n",
       "                                        OutageDays       0.977995\n",
       "                         customers      OutageinHours    0.531139\n",
       "                                        customers        1.000000\n",
       "                                        OutageDays       0.486738\n",
       "                         OutageDays     OutageinHours    0.977995\n",
       "                                        customers        0.486738\n",
       "                                        OutageDays       1.000000\n",
       "Wind/Rain                OutageinHours  OutageinHours    1.000000\n",
       "                                        OutageDays       0.997593\n",
       "                         customers      customers        1.000000\n",
       "                         OutageDays     OutageinHours    0.997593\n",
       "                                        OutageDays       1.000000\n",
       "fire                     OutageinHours  OutageinHours    1.000000\n",
       "                         customers      customers        1.000000\n",
       "dtype: float64"
      ]
     },
     "execution_count": 130,
     "metadata": {},
     "output_type": "execute_result"
    }
   ],
   "source": [
    "cause_group_cor=cause_group[['OutageinHours','customers','OutageDays']].corr()\n",
    "\n",
    " # below main lower triangle of an array\n",
    "cause_group_cor= cause_group_cor.stack()\n",
    "cause_group_cor[(cause_group_cor > 0.35) | (cause_group_cor < -0.35)]\n"
   ]
  },
  {
   "cell_type": "code",
   "execution_count": 131,
   "metadata": {
    "collapsed": false
   },
   "outputs": [
    {
     "data": {
      "text/plain": [
       "<seaborn.axisgrid.FacetGrid at 0x110359c50>"
      ]
     },
     "execution_count": 131,
     "metadata": {},
     "output_type": "execute_result"
    },
    {
     "data": {
      "image/png": "[encoded data removed]",
      "text/plain": [
       "<matplotlib.figure.Figure at 0x1107d8210>"
      ]
     },
     "metadata": {},
     "output_type": "display_data"
    }
   ],
   "source": [
    "seaborn.set(font_scale=1.4, rc={\"lines.linewidth\": 1.7}) \n",
    "#greater_zero=blackout_data.query('OutageDays>0')\n",
    "g = seaborn.lmplot(\"loss\", \"OutageinHours\", x_jitter= .5,  y_jitter= .1,\n",
    "           data=df,lowess=True, size=5,aspect=1.4, legend_out=False,\n",
    "           scatter_kws={ 's':20, 'alpha':.6})\n",
    "\n",
    "g.set(xlim=(0, 15000),ylim=(0, 50))\n",
    "\n",
    "#g.savefig('1.png',transparent=True)\n",
    "\n"
   ]
  },
  {
   "cell_type": "markdown",
   "metadata": {},
   "source": [
    "### Create some new variables"
   ]
  },
  {
   "cell_type": "code",
   "execution_count": 132,
   "metadata": {
    "collapsed": false
   },
   "outputs": [],
   "source": [
    "df['loss_sq']=df['loss']**2\n",
    "df['customer_sq']=df['customers']**2"
   ]
  },
  {
   "cell_type": "markdown",
   "metadata": {
    "collapsed": true
   },
   "source": [
    "## Next steps\n",
    "1. Answer some interesting questions using Machine learning models: For instance, can we predict how long it would take to restore power after a blackout?"
   ]
  }
 ],
 "metadata": {
  "kernelspec": {
   "display_name": "Python 2",
   "language": "python",
   "name": "python2"
  },
  "language_info": {
   "codemirror_mode": {
    "name": "ipython",
    "version": 2
   },
   "file_extension": ".py",
   "mimetype": "text/x-python",
   "name": "python",
   "nbconvert_exporter": "python",
   "pygments_lexer": "ipython2",
   "version": "2.7.11"
  }
 },
 "nbformat": 4,
 "nbformat_minor": 0
}
