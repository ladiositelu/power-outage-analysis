{
 "cells": [
  {
   "cell_type": "code",
   "execution_count": 7,
   "metadata": {
    "collapsed": true
   },
   "outputs": [],
   "source": [
    "import pandas as pd\n",
    "import numpy as np\n",
    "import matplotlib.pyplot as plt\n",
    "%matplotlib inline"
   ]
  },
  {
   "cell_type": "markdown",
   "metadata": {},
   "source": [
    "# # Load Dataset\n",
    "Load the dataset of Investor Owned Utilities. Obtained from wikipedia"
   ]
  },
  {
   "cell_type": "code",
   "execution_count": 243,
   "metadata": {
    "collapsed": false
   },
   "outputs": [],
   "source": [
    "data=pd.read_csv('/Users/oladipoositelu/Desktop/IOUs.csv')"
   ]
  },
  {
   "cell_type": "code",
   "execution_count": 244,
   "metadata": {
    "collapsed": false
   },
   "outputs": [
    {
     "data": {
      "text/html": [
       "<div>\n",
       "<table border=\"1\" class=\"dataframe\">\n",
       "  <thead>\n",
       "    <tr style=\"text-align: right;\">\n",
       "      <th></th>\n",
       "      <th>Parent Company</th>\n",
       "      <th>Operating Company</th>\n",
       "      <th>Operating States</th>\n",
       "      <th>Unnamed: 3</th>\n",
       "      <th>Unnamed: 4</th>\n",
       "      <th>Unnamed: 5</th>\n",
       "      <th>Unnamed: 6</th>\n",
       "      <th>Unnamed: 7</th>\n",
       "      <th>Unnamed: 8</th>\n",
       "    </tr>\n",
       "  </thead>\n",
       "  <tbody>\n",
       "    <tr>\n",
       "      <th>0</th>\n",
       "      <td>AES Corporation</td>\n",
       "      <td>Dayton Power and Light</td>\n",
       "      <td>OH</td>\n",
       "      <td>NaN</td>\n",
       "      <td>NaN</td>\n",
       "      <td>NaN</td>\n",
       "      <td>NaN</td>\n",
       "      <td>NaN</td>\n",
       "      <td>NaN</td>\n",
       "    </tr>\n",
       "    <tr>\n",
       "      <th>1</th>\n",
       "      <td>AES Corporation</td>\n",
       "      <td>Indianapolis Power &amp; Light</td>\n",
       "      <td>IN</td>\n",
       "      <td>NaN</td>\n",
       "      <td>NaN</td>\n",
       "      <td>NaN</td>\n",
       "      <td>NaN</td>\n",
       "      <td>NaN</td>\n",
       "      <td>NaN</td>\n",
       "    </tr>\n",
       "    <tr>\n",
       "      <th>2</th>\n",
       "      <td>Allete</td>\n",
       "      <td>Minnesota Power</td>\n",
       "      <td>MN</td>\n",
       "      <td>NaN</td>\n",
       "      <td>NaN</td>\n",
       "      <td>NaN</td>\n",
       "      <td>NaN</td>\n",
       "      <td>NaN</td>\n",
       "      <td>NaN</td>\n",
       "    </tr>\n",
       "    <tr>\n",
       "      <th>3</th>\n",
       "      <td>Allete</td>\n",
       "      <td>Superior Water, Light and Power</td>\n",
       "      <td>WI</td>\n",
       "      <td>NaN</td>\n",
       "      <td>NaN</td>\n",
       "      <td>NaN</td>\n",
       "      <td>NaN</td>\n",
       "      <td>NaN</td>\n",
       "      <td>NaN</td>\n",
       "    </tr>\n",
       "    <tr>\n",
       "      <th>4</th>\n",
       "      <td>Alliant Energy</td>\n",
       "      <td>Interstate Power and Light</td>\n",
       "      <td>IA, MN</td>\n",
       "      <td>NaN</td>\n",
       "      <td>NaN</td>\n",
       "      <td>NaN</td>\n",
       "      <td>NaN</td>\n",
       "      <td>NaN</td>\n",
       "      <td>NaN</td>\n",
       "    </tr>\n",
       "  </tbody>\n",
       "</table>\n",
       "</div>"
      ],
      "text/plain": [
       "    Parent Company                Operating Company Operating States  \\\n",
       "0  AES Corporation           Dayton Power and Light               OH   \n",
       "1  AES Corporation       Indianapolis Power & Light               IN   \n",
       "2           Allete                  Minnesota Power               MN   \n",
       "3           Allete  Superior Water, Light and Power               WI   \n",
       "4   Alliant Energy       Interstate Power and Light           IA, MN   \n",
       "\n",
       "   Unnamed: 3  Unnamed: 4  Unnamed: 5  Unnamed: 6  Unnamed: 7  Unnamed: 8  \n",
       "0         NaN         NaN         NaN         NaN         NaN         NaN  \n",
       "1         NaN         NaN         NaN         NaN         NaN         NaN  \n",
       "2         NaN         NaN         NaN         NaN         NaN         NaN  \n",
       "3         NaN         NaN         NaN         NaN         NaN         NaN  \n",
       "4         NaN         NaN         NaN         NaN         NaN         NaN  "
      ]
     },
     "execution_count": 244,
     "metadata": {},
     "output_type": "execute_result"
    }
   ],
   "source": [
    "data.head()"
   ]
  },
  {
   "cell_type": "markdown",
   "metadata": {},
   "source": [
    "There are a bunch of columns that are completely empty. Hence, I select the important columns"
   ]
  },
  {
   "cell_type": "code",
   "execution_count": 245,
   "metadata": {
    "collapsed": false
   },
   "outputs": [],
   "source": [
    "important=['Parent Company','Operating Company','Operating States']"
   ]
  },
  {
   "cell_type": "code",
   "execution_count": 246,
   "metadata": {
    "collapsed": false
   },
   "outputs": [],
   "source": [
    "df=data[important]"
   ]
  },
  {
   "cell_type": "markdown",
   "metadata": {},
   "source": [
    "I would like to know the number of unique parent companies in the dataset"
   ]
  },
  {
   "cell_type": "code",
   "execution_count": 247,
   "metadata": {
    "collapsed": false
   },
   "outputs": [
    {
     "data": {
      "text/plain": [
       "62"
      ]
     },
     "execution_count": 247,
     "metadata": {},
     "output_type": "execute_result"
    }
   ],
   "source": [
    "len(np.sort(df['Parent Company'].unique()))"
   ]
  },
  {
   "cell_type": "markdown",
   "metadata": {},
   "source": [
    "I want to create a variable for the stock ticker of the parent companies"
   ]
  },
  {
   "cell_type": "code",
   "execution_count": 248,
   "metadata": {
    "collapsed": false,
    "scrolled": true
   },
   "outputs": [],
   "source": [
    "df.loc[:,'ticker']=\"\""
   ]
  },
  {
   "cell_type": "code",
   "execution_count": 249,
   "metadata": {
    "collapsed": false
   },
   "outputs": [],
   "source": [
    "ticker=[]\n",
    "for i in range(len(df)):\n",
    "    if df['Parent Company'].str.contains('AES')[i]==True:\n",
    "        ticker.append('AES')\n",
    "    elif df['Parent Company'].str.contains('FirstEnergy')[i]==True:\n",
    "        ticker.append('FE')\n",
    "    elif df['Parent Company'].str.contains('American Elect')[i]==True:\n",
    "        ticker.append('AEP')\n",
    "    elif df['Parent Company'].str.contains('Dominion')[i]==True:\n",
    "        ticker.append('D')\n",
    "    elif df['Parent Company'].str.contains('Allete')[i]==True:\n",
    "        ticker.append('ALE')\n",
    "    elif df['Parent Company'].str.contains('PPL')[i]==True:\n",
    "        ticker.append('PPL')\n",
    "    elif df['Parent Company'].str.contains('Duke')[i]==True:\n",
    "        ticker.append('DUK')\n",
    "    elif df['Parent Company'].str.contains('Xcel')[i]==True:\n",
    "        ticker.append('XEL')\n",
    "    elif df['Parent Company'].str.contains('Alliant')[i]==True:\n",
    "        ticker.append('LNT')\n",
    "    elif df['Parent Company'].str.contains('Exelon')[i]==True:\n",
    "        ticker.append('EXC')\n",
    "    elif df['Parent Company'].str.contains('Entergy')[i]==True:\n",
    "        ticker.append('ETR')\n",
    "    elif df['Parent Company'].str.contains('Hawaii')[i]==True:\n",
    "        ticker.append('HE')\n",
    "    elif df['Parent Company'].str.contains('Consolidated Edison')[i]==True:\n",
    "        ticker.append('ED')\n",
    "    elif df['Parent Company'].str.contains('Southern Company')[i]==True:\n",
    "        ticker.append('SO')\n",
    "    elif df['Parent Company'].str.contains('Ameren')[i]==True:\n",
    "        ticker.append('AEE')\n",
    "    elif df['Parent Company'].str.contains('Unitil')[i]==True:\n",
    "        ticker.append('UTL')\n",
    "    elif df['Parent Company'].str.contains('Pepco')[i]==True:\n",
    "        ticker.append('POM')\n",
    "    elif df['Parent Company'].str.contains('Black Hills')[i]==True:\n",
    "        ticker.append('BKH')\n",
    "    elif df['Parent Company'].str.contains('Avista')[i]==True:\n",
    "        ticker.append('AVA')\n",
    "    elif df['Parent Company'].str.contains('ITC Holdings')[i]==True:\n",
    "        ticker.append('ITC')\n",
    "    elif df['Parent Company'].str.contains('National Grid')[i]==True:\n",
    "        ticker.append('NGG')\n",
    "    elif df['Parent Company'].str.contains('CenterPoint')[i]==True:\n",
    "        ticker.append('CNP')\n",
    "    elif df['Parent Company'].str.contains('UniSource')[i]==True:\n",
    "        ticker.append('UNS')\n",
    "    elif df['Parent Company'].str.contains('CLECO')[i]==True:\n",
    "        ticker.append('CNL')\n",
    "    elif df['Parent Company'].str.contains('PNM')[i]==True:\n",
    "        ticker.append('PNM')\n",
    "    elif df['Parent Company'].str.contains('Westar')[i]==True:\n",
    "        ticker.append('WR')\n",
    "    elif df['Parent Company'].str.contains('El Paso')[i]==True:\n",
    "        ticker.append('EE')\n",
    "    elif df['Parent Company'].str.contains('CMS Energy')[i]==True:\n",
    "        ticker.append('CMS')\n",
    "    elif df['Parent Company'].str.contains('Wisconsin Energy')[i]==True:\n",
    "        ticker.append('WEC')\n",
    "    elif df['Parent Company'].str.contains('Great Plains')[i]==True:\n",
    "        ticker.append('GXP')\n",
    "    elif df['Parent Company'].str.contains('MDU')[i]==True:\n",
    "        ticker.append('MDU')\n",
    "    elif df['Parent Company'].str.contains('DTE')[i]==True:\n",
    "        ticker.append('DTE')\n",
    "    elif df['Parent Company'].str.contains('Edison International')[i]==True:\n",
    "        ticker.append('EIX')\n",
    "    elif df['Parent Company'].str.contains('Vectren')[i]==True:\n",
    "        ticker.append('VVC')\n",
    "    elif df['Parent Company'].str.contains('UIL Holdings')[i]==True:\n",
    "        ticker.append('UIL')\n",
    "    elif df['Parent Company'].str.contains('Sempra')[i]==True:\n",
    "        ticker.append('SRE')\n",
    "    elif df['Parent Company'].str.contains('Integrys')[i]==True:\n",
    "        ticker.append('TEG')\n",
    "    elif df['Parent Company'].str.contains('NextEra')[i]==True:\n",
    "        ticker.append('NEE')\n",
    "    elif df['Parent Company'].str.contains('MGE')[i]==True:\n",
    "        ticker.append('MGE')\n",
    "    elif df['Parent Company'].str.contains('OGE')[i]==True:\n",
    "        ticker.append('OGE')\n",
    "    elif df['Parent Company'].str.contains('NiSource')[i]==True:\n",
    "        ticker.append('NI')\n",
    "    elif df['Parent Company'].str.contains('NSTAR')[i]==True:\n",
    "        ticker.append('NST')\n",
    "    elif df['Parent Company'].str.contains('TECO')[i]==True:\n",
    "        ticker.append('TE')\n",
    "    elif df['Parent Company'].str.contains('PG&E')[i]==True:\n",
    "        ticker.append('PCG')\n",
    "    elif df['Parent Company'].str.contains('NorthWestern Corp')[i]==True:\n",
    "        ticker.append('NWE')\n",
    "    elif df['Parent Company'].str.contains('NRG')[i]==True:\n",
    "        ticker.append('NRG')\n",
    "    elif df['Parent Company'].str.contains('Otter Tail')[i]==True:\n",
    "        ticker.append('OTTR')\n",
    "    elif df['Parent Company'].str.contains('Public Service Enterprise')[i]==True:\n",
    "        ticker.append('PEG')\n",
    "    elif df['Parent Company'].str.contains('Puget')[i]==True:\n",
    "        ticker.append('PSD')\n",
    "    elif df['Parent Company'].str.contains('SCANA')[i]==True:\n",
    "        ticker.append('SCG')\n",
    "    elif df['Parent Company'].str.contains('UGI Corp')[i]==True:\n",
    "        ticker.append('UGI')\n",
    "    elif df['Parent Company'].str.contains('Portland Gen')[i]==True:\n",
    "        ticker.append('POR')\n",
    "    elif df['Parent Company'].str.contains('Pinnacle West')[i]==True:\n",
    "        ticker.append('PNW')\n",
    "    elif df['Parent Company'].str.contains('Northeast Utilities')[i]==True:\n",
    "        ticker.append('NU')\n",
    "    elif df['Parent Company'].str.contains('DQE')[i]==True:\n",
    "        ticker.append('DQE')\n",
    "    else:\n",
    "        ticker.append('')\n",
    "df.loc[:,'ticker']=ticker"
   ]
  },
  {
   "cell_type": "markdown",
   "metadata": {},
   "source": [
    "What is the number of companies that don't have tickers associated with them?"
   ]
  },
  {
   "cell_type": "code",
   "execution_count": 250,
   "metadata": {
    "collapsed": false
   },
   "outputs": [
    {
     "data": {
      "text/plain": [
       "7"
      ]
     },
     "execution_count": 250,
     "metadata": {},
     "output_type": "execute_result"
    }
   ],
   "source": [
    "len(df[df.ticker==\"\"]['Parent Company'].unique())"
   ]
  },
  {
   "cell_type": "markdown",
   "metadata": {},
   "source": [
    "Take a deeper look"
   ]
  },
  {
   "cell_type": "code",
   "execution_count": 251,
   "metadata": {
    "collapsed": false
   },
   "outputs": [
    {
     "data": {
      "text/html": [
       "<div>\n",
       "<table border=\"1\" class=\"dataframe\">\n",
       "  <thead>\n",
       "    <tr style=\"text-align: right;\">\n",
       "      <th></th>\n",
       "      <th>Parent Company</th>\n",
       "      <th>Operating Company</th>\n",
       "      <th>Operating States</th>\n",
       "      <th>ticker</th>\n",
       "    </tr>\n",
       "  </thead>\n",
       "  <tbody>\n",
       "    <tr>\n",
       "      <th>15</th>\n",
       "      <td>American Transmission Company</td>\n",
       "      <td>American Transmission Company</td>\n",
       "      <td>WI, MI</td>\n",
       "      <td></td>\n",
       "    </tr>\n",
       "    <tr>\n",
       "      <th>17</th>\n",
       "      <td>Berkshire Hathaway Energy</td>\n",
       "      <td>MidAmerican Energy Company</td>\n",
       "      <td>IL, SD, NE</td>\n",
       "      <td></td>\n",
       "    </tr>\n",
       "    <tr>\n",
       "      <th>18</th>\n",
       "      <td>Berkshire Hathaway Energy</td>\n",
       "      <td>NV Energy</td>\n",
       "      <td>NV, CA</td>\n",
       "      <td></td>\n",
       "    </tr>\n",
       "    <tr>\n",
       "      <th>19</th>\n",
       "      <td>Berkshire Hathaway Energy</td>\n",
       "      <td>Pacificorp--Pacific Power</td>\n",
       "      <td>OR, CA, WA</td>\n",
       "      <td></td>\n",
       "    </tr>\n",
       "    <tr>\n",
       "      <th>20</th>\n",
       "      <td>Berkshire Hathaway Energy</td>\n",
       "      <td>Pacificorp--Rocky Mountain Power</td>\n",
       "      <td>UT, WY, ID</td>\n",
       "      <td></td>\n",
       "    </tr>\n",
       "    <tr>\n",
       "      <th>40</th>\n",
       "      <td>Emera</td>\n",
       "      <td>Bangor Hydro Electric</td>\n",
       "      <td>ME</td>\n",
       "      <td></td>\n",
       "    </tr>\n",
       "    <tr>\n",
       "      <th>41</th>\n",
       "      <td>Emera</td>\n",
       "      <td>Maine Public Service</td>\n",
       "      <td>ME</td>\n",
       "      <td></td>\n",
       "    </tr>\n",
       "    <tr>\n",
       "      <th>42</th>\n",
       "      <td>Energy Future Holdings</td>\n",
       "      <td>Oncor Electric Delivery</td>\n",
       "      <td>TX</td>\n",
       "      <td></td>\n",
       "    </tr>\n",
       "    <tr>\n",
       "      <th>63</th>\n",
       "      <td>Fortis Inc.</td>\n",
       "      <td>Central Hudson Gas &amp; Electric</td>\n",
       "      <td>NY</td>\n",
       "      <td></td>\n",
       "    </tr>\n",
       "    <tr>\n",
       "      <th>64</th>\n",
       "      <td>Gaz Metro</td>\n",
       "      <td>Central Vermont Public Service</td>\n",
       "      <td>VT</td>\n",
       "      <td></td>\n",
       "    </tr>\n",
       "    <tr>\n",
       "      <th>65</th>\n",
       "      <td>Gaz Metro</td>\n",
       "      <td>Green Mountain Power</td>\n",
       "      <td>VT</td>\n",
       "      <td></td>\n",
       "    </tr>\n",
       "    <tr>\n",
       "      <th>70</th>\n",
       "      <td>Iberdrola</td>\n",
       "      <td>Central Maine Power</td>\n",
       "      <td>ME</td>\n",
       "      <td></td>\n",
       "    </tr>\n",
       "    <tr>\n",
       "      <th>71</th>\n",
       "      <td>Iberdrola</td>\n",
       "      <td>New York State Electric &amp; Gas</td>\n",
       "      <td>NY</td>\n",
       "      <td></td>\n",
       "    </tr>\n",
       "    <tr>\n",
       "      <th>72</th>\n",
       "      <td>Iberdrola</td>\n",
       "      <td>Rochester Gas &amp; Electric</td>\n",
       "      <td>NY</td>\n",
       "      <td></td>\n",
       "    </tr>\n",
       "  </tbody>\n",
       "</table>\n",
       "</div>"
      ],
      "text/plain": [
       "                   Parent Company                 Operating Company  \\\n",
       "15  American Transmission Company     American Transmission Company   \n",
       "17      Berkshire Hathaway Energy        MidAmerican Energy Company   \n",
       "18      Berkshire Hathaway Energy                         NV Energy   \n",
       "19      Berkshire Hathaway Energy         Pacificorp--Pacific Power   \n",
       "20      Berkshire Hathaway Energy  Pacificorp--Rocky Mountain Power   \n",
       "40                          Emera             Bangor Hydro Electric   \n",
       "41                          Emera              Maine Public Service   \n",
       "42         Energy Future Holdings           Oncor Electric Delivery   \n",
       "63                    Fortis Inc.     Central Hudson Gas & Electric   \n",
       "64                      Gaz Metro    Central Vermont Public Service   \n",
       "65                      Gaz Metro              Green Mountain Power   \n",
       "70                      Iberdrola               Central Maine Power   \n",
       "71                      Iberdrola     New York State Electric & Gas   \n",
       "72                      Iberdrola          Rochester Gas & Electric   \n",
       "\n",
       "   Operating States ticker  \n",
       "15           WI, MI         \n",
       "17       IL, SD, NE         \n",
       "18           NV, CA         \n",
       "19       OR, CA, WA         \n",
       "20       UT, WY, ID         \n",
       "40               ME         \n",
       "41               ME         \n",
       "42               TX         \n",
       "63               NY         \n",
       "64               VT         \n",
       "65               VT         \n",
       "70               ME         \n",
       "71               NY         \n",
       "72               NY         "
      ]
     },
     "execution_count": 251,
     "metadata": {},
     "output_type": "execute_result"
    }
   ],
   "source": [
    "df[df.ticker==\"\"]"
   ]
  },
  {
   "cell_type": "markdown",
   "metadata": {},
   "source": [
    "These are all privately held companies with the exception of berkshire Hathaway Energy. Because this is a very large company that holds assets in different industry, I decided against including them"
   ]
  },
  {
   "cell_type": "markdown",
   "metadata": {},
   "source": [
    "### Final dataset"
   ]
  },
  {
   "cell_type": "markdown",
   "metadata": {},
   "source": [
    "Remove data that does not include a ticker"
   ]
  },
  {
   "cell_type": "code",
   "execution_count": 252,
   "metadata": {
    "collapsed": true
   },
   "outputs": [],
   "source": [
    "df=df[df.ticker !=\"\"]"
   ]
  },
  {
   "cell_type": "markdown",
   "metadata": {},
   "source": [
    "Show the parent companies with the highest number of operating companies"
   ]
  },
  {
   "cell_type": "code",
   "execution_count": 253,
   "metadata": {
    "collapsed": false
   },
   "outputs": [
    {
     "data": {
      "text/plain": [
       "FE     11\n",
       "NGG     7\n",
       "AEP     7\n",
       "DUK     6\n",
       "ETR     6\n",
       "ITC     4\n",
       "SO      4\n",
       "HE      3\n",
       "XEL     3\n",
       "EXC     3\n",
       "Name: ticker, dtype: int64"
      ]
     },
     "execution_count": 253,
     "metadata": {},
     "output_type": "execute_result"
    }
   ],
   "source": [
    "df.ticker.value_counts().head(10)"
   ]
  },
  {
   "cell_type": "markdown",
   "metadata": {},
   "source": [
    "### Save as csv"
   ]
  },
  {
   "cell_type": "code",
   "execution_count": 240,
   "metadata": {
    "collapsed": false
   },
   "outputs": [],
   "source": [
    "df.to_csv('/Users/oladipoositelu/Desktop/data_IOUs.csv')"
   ]
  }
 ],
 "metadata": {
  "kernelspec": {
   "display_name": "Python 2",
   "language": "python",
   "name": "python2"
  },
  "language_info": {
   "codemirror_mode": {
    "name": "ipython",
    "version": 2
   },
   "file_extension": ".py",
   "mimetype": "text/x-python",
   "name": "python",
   "nbconvert_exporter": "python",
   "pygments_lexer": "ipython2",
   "version": "2.7.11"
  }
 },
 "nbformat": 4,
 "nbformat_minor": 0
}
